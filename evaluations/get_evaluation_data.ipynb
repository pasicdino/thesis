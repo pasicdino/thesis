{
 "cells": [
  {
   "cell_type": "code",
   "execution_count": 28,
   "metadata": {
    "collapsed": true
   },
   "outputs": [],
   "source": [
    "import pandas as pd\n",
    "from ast import literal_eval\n",
    "survey_df = pd.read_csv(r'C:\\Users\\01din\\PycharmProjects\\thesis\\data\\survey_results\\survey_results.csv')\n",
    "generic = lambda x: literal_eval(x)\n",
    "conv = {'nutrition' : generic, 'steps' : generic, 'ingredients' : generic, 'id_column' : generic, 'jaccard_similarity' : generic, 'diff' : generic, 'recipes' : generic, 'ingredients_original' : generic, 'tags': generic, 'bert_replacements' : generic, 'analogy_replacements' : generic, 'gpt4_replacements' : generic}\n",
    "df = pd.read_csv(r\"C:\\Users\\01din\\PycharmProjects\\thesis\\data\\cleaned_recipes\\recipes_with_JS.csv\", converters=conv)\n",
    "df.drop(['Unnamed: 0'], inplace=True, axis=1)\n",
    "df_ingredients = pd.read_csv(r\"C:\\Users\\01din\\PycharmProjects\\thesis\\data\\ingredients\\ingredients_nutrition.csv\")\n",
    "df_ingredients.drop(['Unnamed: 0'], inplace=True, axis=1)\n",
    "df_ingredients['nutrition'] = df_ingredients['nutrition'].apply(lambda x: literal_eval(x) if pd.notnull(x) else x)\n",
    "results = pd.read_csv(r'C:\\Users\\01din\\PycharmProjects\\thesis\\data\\results_to_evaluate\\results.csv', converters = conv)"
   ]
  },
  {
   "cell_type": "code",
   "execution_count": 29,
   "outputs": [
    {
     "data": {
      "text/plain": "       id              replaced  \\\n0  263659               cashews   \n1  344624        diced tomatoes   \n2   19881       red bell pepper   \n3  470964           ground beef   \n4  168586  worcestershire sauce   \n5   34403                 sugar   \n6  448396         dijon mustard   \n7  253207       unsalted butter   \n8  256098       vegetable broth   \n9  209474          yellow onion   \n\n                                   bert_replacements  \\\n0  [pecan pieces, pecans, raw cashews, unsalted c...   \n1  [diced tomatoes, cherry tomatoes, tomatoes, di...   \n2  [pimientos, jalapeno chiles, jalapeno, pimento...   \n3  [hamburger meat, extra lean ground beef, groun...   \n4  [sriracha sauce, heinz 57 steak sauce, adobo s...   \n5  [unbleached cane sugar, demerara sugar, turbin...   \n6  [dijon mustard, honey dijon mustard, grainy mu...   \n7  [unsalted butter, sweet unsalted butter, half-...   \n8  [canned chicken broth, fat free chicken broth,...   \n9  [yellow onion, sweet potato, vidalia onion, ye...   \n\n                            analogy_replacements  \\\n0                          [pistachios, peanuts]   \n1            [stewed tomatoes, crushed tomatoes]   \n2      [yellow bell pepper, yellow sweet pepper]   \n3               [lean ground beef, ground chuck]   \n4                     [steak sauce, chili sauce]   \n5                              [honey, molasses]   \n6       [tarragon vinegar, prepared horseradish]   \n7                  [salted butter, light butter]   \n8  [reduced-sodium chicken broth, chicken stock]   \n9                    [sweet onion, sweet onions]   \n\n                                   gpt4_replacements  \n0  [peanuts, almonds, pecans, walnuts, macadamia ...  \n1  [diced canned tomatoes, fresh chopped tomatoes...  \n2  [yellow bell pepper, green bell pepper, diced ...  \n3  [ground turkey, ground chicken, ground pork, v...  \n4  [soy sauce, tamari, liquid aminos, fish sauce,...  \n5  [granulated erythritol, xylitol, stevia granul...  \n6  [whole grain mustard, honey mustard, yellow mu...  \n7  [coconut oil, ghee, margarine, vegan butter, a...  \n8  [chicken broth, beef broth, mushroom broth, to...  \n9  [red onion, white onion, leeks, shallots, gree...  ",
      "text/html": "<div>\n<style scoped>\n    .dataframe tbody tr th:only-of-type {\n        vertical-align: middle;\n    }\n\n    .dataframe tbody tr th {\n        vertical-align: top;\n    }\n\n    .dataframe thead th {\n        text-align: right;\n    }\n</style>\n<table border=\"1\" class=\"dataframe\">\n  <thead>\n    <tr style=\"text-align: right;\">\n      <th></th>\n      <th>id</th>\n      <th>replaced</th>\n      <th>bert_replacements</th>\n      <th>analogy_replacements</th>\n      <th>gpt4_replacements</th>\n    </tr>\n  </thead>\n  <tbody>\n    <tr>\n      <th>0</th>\n      <td>263659</td>\n      <td>cashews</td>\n      <td>[pecan pieces, pecans, raw cashews, unsalted c...</td>\n      <td>[pistachios, peanuts]</td>\n      <td>[peanuts, almonds, pecans, walnuts, macadamia ...</td>\n    </tr>\n    <tr>\n      <th>1</th>\n      <td>344624</td>\n      <td>diced tomatoes</td>\n      <td>[diced tomatoes, cherry tomatoes, tomatoes, di...</td>\n      <td>[stewed tomatoes, crushed tomatoes]</td>\n      <td>[diced canned tomatoes, fresh chopped tomatoes...</td>\n    </tr>\n    <tr>\n      <th>2</th>\n      <td>19881</td>\n      <td>red bell pepper</td>\n      <td>[pimientos, jalapeno chiles, jalapeno, pimento...</td>\n      <td>[yellow bell pepper, yellow sweet pepper]</td>\n      <td>[yellow bell pepper, green bell pepper, diced ...</td>\n    </tr>\n    <tr>\n      <th>3</th>\n      <td>470964</td>\n      <td>ground beef</td>\n      <td>[hamburger meat, extra lean ground beef, groun...</td>\n      <td>[lean ground beef, ground chuck]</td>\n      <td>[ground turkey, ground chicken, ground pork, v...</td>\n    </tr>\n    <tr>\n      <th>4</th>\n      <td>168586</td>\n      <td>worcestershire sauce</td>\n      <td>[sriracha sauce, heinz 57 steak sauce, adobo s...</td>\n      <td>[steak sauce, chili sauce]</td>\n      <td>[soy sauce, tamari, liquid aminos, fish sauce,...</td>\n    </tr>\n    <tr>\n      <th>5</th>\n      <td>34403</td>\n      <td>sugar</td>\n      <td>[unbleached cane sugar, demerara sugar, turbin...</td>\n      <td>[honey, molasses]</td>\n      <td>[granulated erythritol, xylitol, stevia granul...</td>\n    </tr>\n    <tr>\n      <th>6</th>\n      <td>448396</td>\n      <td>dijon mustard</td>\n      <td>[dijon mustard, honey dijon mustard, grainy mu...</td>\n      <td>[tarragon vinegar, prepared horseradish]</td>\n      <td>[whole grain mustard, honey mustard, yellow mu...</td>\n    </tr>\n    <tr>\n      <th>7</th>\n      <td>253207</td>\n      <td>unsalted butter</td>\n      <td>[unsalted butter, sweet unsalted butter, half-...</td>\n      <td>[salted butter, light butter]</td>\n      <td>[coconut oil, ghee, margarine, vegan butter, a...</td>\n    </tr>\n    <tr>\n      <th>8</th>\n      <td>256098</td>\n      <td>vegetable broth</td>\n      <td>[canned chicken broth, fat free chicken broth,...</td>\n      <td>[reduced-sodium chicken broth, chicken stock]</td>\n      <td>[chicken broth, beef broth, mushroom broth, to...</td>\n    </tr>\n    <tr>\n      <th>9</th>\n      <td>209474</td>\n      <td>yellow onion</td>\n      <td>[yellow onion, sweet potato, vidalia onion, ye...</td>\n      <td>[sweet onion, sweet onions]</td>\n      <td>[red onion, white onion, leeks, shallots, gree...</td>\n    </tr>\n  </tbody>\n</table>\n</div>"
     },
     "execution_count": 29,
     "metadata": {},
     "output_type": "execute_result"
    }
   ],
   "source": [
    "results"
   ],
   "metadata": {
    "collapsed": false
   }
  },
  {
   "cell_type": "code",
   "execution_count": 44,
   "outputs": [],
   "source": [
    "eval_survey = results.merge(df[['id', 'name', 'ingredients_original', 'steps']], on='id', how='left')\n"
   ],
   "metadata": {
    "collapsed": false
   }
  },
  {
   "cell_type": "code",
   "execution_count": 45,
   "outputs": [],
   "source": [
    "columns_to_transform = ['steps', 'ingredients_original']\n",
    "\n",
    "for col in columns_to_transform:\n",
    "    eval_survey[col] = eval_survey[col].apply(lambda x: ', '.join(map(str, x)))\n"
   ],
   "metadata": {
    "collapsed": false
   }
  },
  {
   "cell_type": "code",
   "execution_count": 46,
   "outputs": [
    {
     "data": {
      "text/plain": "       id              replaced  \\\n0  263659               cashews   \n1  344624        diced tomatoes   \n2   19881       red bell pepper   \n3  470964           ground beef   \n4  168586  worcestershire sauce   \n5   34403                 sugar   \n6  448396         dijon mustard   \n7  253207       unsalted butter   \n8  256098       vegetable broth   \n9  209474          yellow onion   \n\n                                   bert_replacements  \\\n0  [pecan pieces, pecans, raw cashews, unsalted c...   \n1  [diced tomatoes, cherry tomatoes, tomatoes, di...   \n2  [pimientos, jalapeno chiles, jalapeno, pimento...   \n3  [hamburger meat, extra lean ground beef, groun...   \n4  [sriracha sauce, heinz 57 steak sauce, adobo s...   \n5  [unbleached cane sugar, demerara sugar, turbin...   \n6  [dijon mustard, honey dijon mustard, grainy mu...   \n7  [unsalted butter, sweet unsalted butter, half-...   \n8  [canned chicken broth, fat free chicken broth,...   \n9  [yellow onion, sweet potato, vidalia onion, ye...   \n\n                            analogy_replacements  \\\n0                          [pistachios, peanuts]   \n1            [stewed tomatoes, crushed tomatoes]   \n2      [yellow bell pepper, yellow sweet pepper]   \n3               [lean ground beef, ground chuck]   \n4                     [steak sauce, chili sauce]   \n5                              [honey, molasses]   \n6       [tarragon vinegar, prepared horseradish]   \n7                  [salted butter, light butter]   \n8  [reduced-sodium chicken broth, chicken stock]   \n9                    [sweet onion, sweet onions]   \n\n                                   gpt4_replacements  \\\n0  [peanuts, almonds, pecans, walnuts, macadamia ...   \n1  [diced canned tomatoes, fresh chopped tomatoes...   \n2  [yellow bell pepper, green bell pepper, diced ...   \n3  [ground turkey, ground chicken, ground pork, v...   \n4  [soy sauce, tamari, liquid aminos, fish sauce,...   \n5  [granulated erythritol, xylitol, stevia granul...   \n6  [whole grain mustard, honey mustard, yellow mu...   \n7  [coconut oil, ghee, margarine, vegan butter, a...   \n8  [chicken broth, beef broth, mushroom broth, to...   \n9  [red onion, white onion, leeks, shallots, gree...   \n\n                                                name  \\\n0                               cashew brittle candy   \n1                                simple spanish rice   \n2    diabetic  low fat baked stuffed portobello caps   \n3                                    flavorful chili   \n4       red beans and rice  no way  this is too good   \n5                              easy meringue topping   \n6                      french walnut oil vinaigrette   \n7  a  cookies  a k a  monster cookies or flourles...   \n8                         fresh cream of tomato soup   \n9                               country corn chowder   \n\n                                ingredients_original  \\\n0           sugar, butter, light corn syrup, cashews   \n1  water, diced tomatoes, chicken bouillon cube, ...   \n2  olive oil, garlic, red pepper flakes, portabel...   \n3  ground beef, onion, celery rib, stewed tomatoe...   \n4  bacon, green pepper, onion, garlic cloves, kid...   \n5                 egg whites, sugar, vanilla extract   \n6  walnut oil, balsamic vinegar, dijon mustard, salt   \n7  eggs, light brown sugar, sugar, vanilla extrac...   \n8  olive oil, onions, tomatoes, vegetable broth, ...   \n9  butter, yellow onion, russet potatoes, chicken...   \n\n                                               steps  \n0  in a heavy saucepan , combine the sugar , butt...  \n1  bring water , tomatoes , and bouillon to a boi...  \n2  combine oil and garlic in a small skillet, coo...  \n3  brown ground beef , onions , and celery in a s...  \n4  in a large , heavy saucepan , saute bacon unti...  \n5  beat the egg whites until frothy, gradually ad...  \n6  combine all ingredients, shake and enjoy ! a l...  \n7  preheat oven to 350 degrees, whisk eggs in a l...  \n8  heat the oil in a large nonstick saucepan over...  \n9  melt butter in a large saucepan over medium-hi...  ",
      "text/html": "<div>\n<style scoped>\n    .dataframe tbody tr th:only-of-type {\n        vertical-align: middle;\n    }\n\n    .dataframe tbody tr th {\n        vertical-align: top;\n    }\n\n    .dataframe thead th {\n        text-align: right;\n    }\n</style>\n<table border=\"1\" class=\"dataframe\">\n  <thead>\n    <tr style=\"text-align: right;\">\n      <th></th>\n      <th>id</th>\n      <th>replaced</th>\n      <th>bert_replacements</th>\n      <th>analogy_replacements</th>\n      <th>gpt4_replacements</th>\n      <th>name</th>\n      <th>ingredients_original</th>\n      <th>steps</th>\n    </tr>\n  </thead>\n  <tbody>\n    <tr>\n      <th>0</th>\n      <td>263659</td>\n      <td>cashews</td>\n      <td>[pecan pieces, pecans, raw cashews, unsalted c...</td>\n      <td>[pistachios, peanuts]</td>\n      <td>[peanuts, almonds, pecans, walnuts, macadamia ...</td>\n      <td>cashew brittle candy</td>\n      <td>sugar, butter, light corn syrup, cashews</td>\n      <td>in a heavy saucepan , combine the sugar , butt...</td>\n    </tr>\n    <tr>\n      <th>1</th>\n      <td>344624</td>\n      <td>diced tomatoes</td>\n      <td>[diced tomatoes, cherry tomatoes, tomatoes, di...</td>\n      <td>[stewed tomatoes, crushed tomatoes]</td>\n      <td>[diced canned tomatoes, fresh chopped tomatoes...</td>\n      <td>simple spanish rice</td>\n      <td>water, diced tomatoes, chicken bouillon cube, ...</td>\n      <td>bring water , tomatoes , and bouillon to a boi...</td>\n    </tr>\n    <tr>\n      <th>2</th>\n      <td>19881</td>\n      <td>red bell pepper</td>\n      <td>[pimientos, jalapeno chiles, jalapeno, pimento...</td>\n      <td>[yellow bell pepper, yellow sweet pepper]</td>\n      <td>[yellow bell pepper, green bell pepper, diced ...</td>\n      <td>diabetic  low fat baked stuffed portobello caps</td>\n      <td>olive oil, garlic, red pepper flakes, portabel...</td>\n      <td>combine oil and garlic in a small skillet, coo...</td>\n    </tr>\n    <tr>\n      <th>3</th>\n      <td>470964</td>\n      <td>ground beef</td>\n      <td>[hamburger meat, extra lean ground beef, groun...</td>\n      <td>[lean ground beef, ground chuck]</td>\n      <td>[ground turkey, ground chicken, ground pork, v...</td>\n      <td>flavorful chili</td>\n      <td>ground beef, onion, celery rib, stewed tomatoe...</td>\n      <td>brown ground beef , onions , and celery in a s...</td>\n    </tr>\n    <tr>\n      <th>4</th>\n      <td>168586</td>\n      <td>worcestershire sauce</td>\n      <td>[sriracha sauce, heinz 57 steak sauce, adobo s...</td>\n      <td>[steak sauce, chili sauce]</td>\n      <td>[soy sauce, tamari, liquid aminos, fish sauce,...</td>\n      <td>red beans and rice  no way  this is too good</td>\n      <td>bacon, green pepper, onion, garlic cloves, kid...</td>\n      <td>in a large , heavy saucepan , saute bacon unti...</td>\n    </tr>\n    <tr>\n      <th>5</th>\n      <td>34403</td>\n      <td>sugar</td>\n      <td>[unbleached cane sugar, demerara sugar, turbin...</td>\n      <td>[honey, molasses]</td>\n      <td>[granulated erythritol, xylitol, stevia granul...</td>\n      <td>easy meringue topping</td>\n      <td>egg whites, sugar, vanilla extract</td>\n      <td>beat the egg whites until frothy, gradually ad...</td>\n    </tr>\n    <tr>\n      <th>6</th>\n      <td>448396</td>\n      <td>dijon mustard</td>\n      <td>[dijon mustard, honey dijon mustard, grainy mu...</td>\n      <td>[tarragon vinegar, prepared horseradish]</td>\n      <td>[whole grain mustard, honey mustard, yellow mu...</td>\n      <td>french walnut oil vinaigrette</td>\n      <td>walnut oil, balsamic vinegar, dijon mustard, salt</td>\n      <td>combine all ingredients, shake and enjoy ! a l...</td>\n    </tr>\n    <tr>\n      <th>7</th>\n      <td>253207</td>\n      <td>unsalted butter</td>\n      <td>[unsalted butter, sweet unsalted butter, half-...</td>\n      <td>[salted butter, light butter]</td>\n      <td>[coconut oil, ghee, margarine, vegan butter, a...</td>\n      <td>a  cookies  a k a  monster cookies or flourles...</td>\n      <td>eggs, light brown sugar, sugar, vanilla extrac...</td>\n      <td>preheat oven to 350 degrees, whisk eggs in a l...</td>\n    </tr>\n    <tr>\n      <th>8</th>\n      <td>256098</td>\n      <td>vegetable broth</td>\n      <td>[canned chicken broth, fat free chicken broth,...</td>\n      <td>[reduced-sodium chicken broth, chicken stock]</td>\n      <td>[chicken broth, beef broth, mushroom broth, to...</td>\n      <td>fresh cream of tomato soup</td>\n      <td>olive oil, onions, tomatoes, vegetable broth, ...</td>\n      <td>heat the oil in a large nonstick saucepan over...</td>\n    </tr>\n    <tr>\n      <th>9</th>\n      <td>209474</td>\n      <td>yellow onion</td>\n      <td>[yellow onion, sweet potato, vidalia onion, ye...</td>\n      <td>[sweet onion, sweet onions]</td>\n      <td>[red onion, white onion, leeks, shallots, gree...</td>\n      <td>country corn chowder</td>\n      <td>butter, yellow onion, russet potatoes, chicken...</td>\n      <td>melt butter in a large saucepan over medium-hi...</td>\n    </tr>\n  </tbody>\n</table>\n</div>"
     },
     "execution_count": 46,
     "metadata": {},
     "output_type": "execute_result"
    }
   ],
   "source": [
    "eval_survey"
   ],
   "metadata": {
    "collapsed": false
   }
  },
  {
   "cell_type": "code",
   "execution_count": 47,
   "outputs": [],
   "source": [
    "columns_to_melt = ['bert_replacements', 'analogy_replacements', 'gpt4_replacements']\n",
    "other_columns = [col for col in eval_survey.columns if col not in columns_to_melt]\n",
    "\n",
    "melted_df = eval_survey.melt(id_vars=other_columns, value_vars=columns_to_melt, var_name='source', value_name='replacement')\n",
    "\n",
    "melted_df['source'] = melted_df['source'].str.replace('_replacements', '')\n",
    "\n",
    "exploded_df = melted_df.explode('replacement')"
   ],
   "metadata": {
    "collapsed": false
   }
  },
  {
   "cell_type": "code",
   "execution_count": 49,
   "outputs": [],
   "source": [
    "exploded_df = exploded_df.loc[exploded_df.replacement!=exploded_df.replaced]"
   ],
   "metadata": {
    "collapsed": false
   }
  },
  {
   "cell_type": "code",
   "execution_count": 51,
   "outputs": [],
   "source": [
    "exploded_df.to_csv(r'C:\\Users\\01din\\PycharmProjects\\thesis\\data\\results_to_evaluate\\final_to_survey.csv')"
   ],
   "metadata": {
    "collapsed": false
   }
  },
  {
   "cell_type": "code",
   "execution_count": null,
   "outputs": [],
   "source": [],
   "metadata": {
    "collapsed": false
   }
  }
 ],
 "metadata": {
  "kernelspec": {
   "display_name": "Python 3",
   "language": "python",
   "name": "python3"
  },
  "language_info": {
   "codemirror_mode": {
    "name": "ipython",
    "version": 2
   },
   "file_extension": ".py",
   "mimetype": "text/x-python",
   "name": "python",
   "nbconvert_exporter": "python",
   "pygments_lexer": "ipython2",
   "version": "2.7.6"
  }
 },
 "nbformat": 4,
 "nbformat_minor": 0
}
