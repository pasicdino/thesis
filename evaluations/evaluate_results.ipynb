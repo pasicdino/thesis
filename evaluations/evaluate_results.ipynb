{
 "cells": [
  {
   "cell_type": "code",
   "execution_count": 2,
   "metadata": {
    "collapsed": true
   },
   "outputs": [],
   "source": [
    "import pandas as pd\n",
    "data = pd.read_csv(r'C:\\Users\\01din\\PycharmProjects\\thesis\\data\\evaluations\\evaluations.csv')"
   ]
  },
  {
   "cell_type": "code",
   "execution_count": 8,
   "outputs": [],
   "source": [
    "data['result'] = data['result'].map({'Yes': 1, 'No': 0})\n",
    "\n",
    "grouped_data = data.groupby('source')['result'].mean()\n",
    "\n",
    "sorted_data = grouped_data.sort_values(ascending=False)"
   ],
   "metadata": {
    "collapsed": false
   }
  },
  {
   "cell_type": "code",
   "execution_count": 10,
   "outputs": [],
   "source": [
    "shortened_data = data.groupby(['id', 'source']).head(2)\n",
    "shortened_data = shortened_data.reset_index(drop=True)\n",
    "\n",
    "grouped_shortened_data = shortened_data.groupby('source')['result'].mean()\n",
    "\n",
    "sorted_shortened_data = grouped_shortened_data.sort_values(ascending=False)"
   ],
   "metadata": {
    "collapsed": false
   }
  },
  {
   "cell_type": "code",
   "execution_count": 11,
   "outputs": [
    {
     "data": {
      "text/plain": "source\nanalogy    0.80\ngpt4       0.75\nbert       0.65\nName: result, dtype: float64"
     },
     "execution_count": 11,
     "metadata": {},
     "output_type": "execute_result"
    }
   ],
   "source": [
    "sorted_shortened_data"
   ],
   "metadata": {
    "collapsed": false
   }
  },
  {
   "cell_type": "code",
   "execution_count": 3,
   "outputs": [
    {
     "name": "stdout",
     "output_type": "stream",
     "text": [
      "p-value: 0.043180869204962544\n"
     ]
    }
   ],
   "source": [
    "from scipy.stats import chi2_contingency\n",
    "\n",
    "observed = [[243, 277], [40, 72]]\n",
    "\n",
    "chi2, p, dof, expected = chi2_contingency(observed)\n",
    "\n",
    "print(f\"p-value: {p}\")"
   ],
   "metadata": {
    "collapsed": false
   }
  },
  {
   "cell_type": "code",
   "execution_count": 4,
   "outputs": [],
   "source": [
    "val_results = pd.read_csv(r'C:\\Users\\01din\\PycharmProjects\\thesis\\data\\survey_results\\val_results.csv', header=None)"
   ],
   "metadata": {
    "collapsed": false
   }
  },
  {
   "cell_type": "code",
   "execution_count": 22,
   "outputs": [
    {
     "name": "stdout",
     "output_type": "stream",
     "text": [
      "Cohen's kappa: 0.8673449481534837\n"
     ]
    }
   ],
   "source": [
    "from sklearn.metrics import cohen_kappa_score\n",
    "mapping = {'Yes': 1, 'No': 0}\n",
    "\n",
    "rater1 = val_results.loc[0].map(mapping).values\n",
    "rater2 = val_results.loc[4].map(mapping).values\n",
    "\n",
    "kappa = cohen_kappa_score(rater1, rater2)\n",
    "print('Cohen\\'s kappa:', kappa)"
   ],
   "metadata": {
    "collapsed": false
   }
  },
  {
   "cell_type": "code",
   "execution_count": 14,
   "outputs": [],
   "source": [
    "import numpy as np\n",
    "def calc_mode(row):\n",
    "    modes = row.mode(dropna=True)  #Calculate mode while ignoring NaN\n",
    "    if len(modes) > 1:  #For ties return NaN\n",
    "        return np.nan\n",
    "    else:\n",
    "        return modes[0]\n",
    "\n",
    "modes = val_results.apply(calc_mode)"
   ],
   "metadata": {
    "collapsed": false
   }
  },
  {
   "cell_type": "code",
   "execution_count": 17,
   "outputs": [
    {
     "data": {
      "text/plain": "No     277\nYes    230\ndtype: int64"
     },
     "execution_count": 17,
     "metadata": {},
     "output_type": "execute_result"
    }
   ],
   "source": [
    "modes.value_counts()"
   ],
   "metadata": {
    "collapsed": false
   }
  }
 ],
 "metadata": {
  "kernelspec": {
   "display_name": "Python 3",
   "language": "python",
   "name": "python3"
  },
  "language_info": {
   "codemirror_mode": {
    "name": "ipython",
    "version": 2
   },
   "file_extension": ".py",
   "mimetype": "text/x-python",
   "name": "python",
   "nbconvert_exporter": "python",
   "pygments_lexer": "ipython2",
   "version": "2.7.6"
  }
 },
 "nbformat": 4,
 "nbformat_minor": 0
}
