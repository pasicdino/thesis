{
 "cells": [
  {
   "cell_type": "code",
   "execution_count": 1,
   "metadata": {
    "collapsed": true
   },
   "outputs": [],
   "source": [
    "import pandas as pd\n",
    "from ast import literal_eval\n",
    "survey_df = pd.read_csv(r'C:\\Users\\01din\\PycharmProjects\\thesis\\data\\survey_results\\survey_results.csv')\n",
    "generic = lambda x: literal_eval(x)\n",
    "conv = {'nutrition' : generic, 'steps' : generic, 'ingredients' : generic, 'id_column' : generic, 'jaccard_similarity' : generic, 'diff' : generic, 'recipes' : generic, 'ingredients_original' : generic, 'tags': generic}\n",
    "df = pd.read_csv(r\"C:\\Users\\01din\\PycharmProjects\\thesis\\data\\cleaned_recipes\\recipes_with_JS.csv\", converters=conv)\n",
    "df.drop(['Unnamed: 0'], inplace=True, axis=1)\n",
    "df_ingredients = pd.read_csv(r\"C:\\Users\\01din\\PycharmProjects\\thesis\\data\\ingredients\\ingredients_nutrition.csv\")\n",
    "df_ingredients.drop(['Unnamed: 0'], inplace=True, axis=1)\n",
    "df_ingredients['nutrition'] = df_ingredients['nutrition'].apply(lambda x: literal_eval(x) if pd.notnull(x) else x)\n",
    "bert_results = pd.read_csv(r'C:\\Users\\01din\\PycharmProjects\\thesis\\data\\results_to_evaluate\\bert_results.csv', converters = conv)"
   ]
  },
  {
   "cell_type": "markdown",
   "source": [
    "Replacing spaces with underscores in the ingredients as that simplifies the process and simply allows the call of wv.most_similar"
   ],
   "metadata": {
    "collapsed": false
   }
  },
  {
   "cell_type": "code",
   "execution_count": 4,
   "outputs": [],
   "source": [
    "df['ingredients_original'] = df['ingredients_original'].apply(lambda x: ['_'.join(i.split()) for i in x])\n",
    "survey_df['replaced'] = survey_df['replaced'].str.replace(' ', '_')\n",
    "survey_df['replacement'] = survey_df['replacement'].str.replace(' ', '_')\n",
    "df_ingredients['ingredient'] = df_ingredients['ingredient'].str.replace(' ', '_')\n",
    "bert_results['replaced'] = bert_results['replaced'].apply(lambda x: x.replace(' ', '_'))"
   ],
   "metadata": {
    "collapsed": false
   }
  },
  {
   "cell_type": "markdown",
   "source": [
    "Method which carries out the Food Analogy formula\n",
    "It takes inputs A,B,C and outputs D\n",
    "A,B are taken s.t. A is an ingredient which can be replaced by B\n",
    "C is taken as the ingredient which needs to be replaced\n",
    "D is calculated through vector addition"
   ],
   "metadata": {
    "collapsed": false
   }
  },
  {
   "cell_type": "code",
   "execution_count": 5,
   "outputs": [
    {
     "name": "stdout",
     "output_type": "stream",
     "text": [
      "{'pork': 77, 'chicken': 35, 'salmon': 14, 'meat': 12, 'spareribs': 10, 'lamb': 6, 'halibut': 5, 'tofu': 4, 'tuna': 3, 'eggplant': 3, 'bologna': 2, 'ciabatta': 2, 'boneless_skinless_chicken_breast_halves': 2, 'cube_steaks': 2, 'pork_tenderloin': 2, 'sirloin_steaks': 2, 'fish': 2, 'whole_chicken_breasts': 2, 'sausages': 2, 'barbecue_sauce': 2, 'msg': 2, 'meat_tenderizer': 2, 'crisco': 1, 'boneless_pork_loin_roast': 1, 'spam': 1, 'oregano_leaves': 1, 'shrimp': 1, 'double-acting_baking_powder': 1, 'boneless_chicken_breasts': 1, 'lemongrass': 1, 'beef_bouillon_cubes': 1, 'prosciutto': 1, 'spicy_mustard': 1, 'meatballs': 1, 'turkey_gravy': 1, 'roasting_chicken': 1, 'boneless_pork_chops': 1, 'yukon_gold_potatoes': 1, 'fruit': 1, 'cajun_seasoning': 1, 'avocado': 1, 'tempeh': 1, 'baguette': 1, 'guar_gum': 1, 'biscuits': 1, 'sriracha_sauce': 1, 'hash_brown_potatoes': 1, 'rib_eye_steaks': 1}\n"
     ]
    }
   ],
   "source": [
    "from gensim.models import Word2Vec\n",
    "from collections import defaultdict\n",
    "\n",
    "# Trained model, trained on all steps + ingredients of the dataset\n",
    "model_path = r\"C:\\Users\\01din\\PycharmProjects\\thesis\\models\\w2v\\recipe_word2vec.model\"\n",
    "model = Word2Vec.load(model_path)\n",
    "\n",
    "# Filter the survey output for only positive results\n",
    "survey_df = survey_df[survey_df['result'] == 'Yes']\n",
    "\n",
    "# Method which finds the most common output of ingredient D\n",
    "def find_most_common_replacement(ingredient_C):\n",
    "    # Init dict which will hold replacements\n",
    "    predicted_replacements = defaultdict(int)\n",
    "\n",
    "    # Get the Lond_Desc of ingredient C, used to exclude trivial solutions\n",
    "    long_desc_C = df_ingredients[df_ingredients['ingredient'] == ingredient_C]['Long_Desc'].values[0]\n",
    "\n",
    "    # Create a set of all possible ingredients for faster lookup\n",
    "    all_ingredients = set(df_ingredients['ingredient'])\n",
    "\n",
    "    # Iterate over each unique pair of replaced and replacement from the survey\n",
    "    # These are later taken as A and B in the equation A-B+C=D\n",
    "    unique_pairs = survey_df.drop_duplicates(subset=['replaced', 'replacement'])\n",
    "\n",
    "    for index, row in unique_pairs.iterrows():\n",
    "        replaced = row['replaced']\n",
    "        replacement = row['replacement']\n",
    "\n",
    "        # Predict Ingredient D\n",
    "        try:\n",
    "            most_similar = model.wv.most_similar(positive=[replacement, ingredient_C], negative=[replaced], topn=100)\n",
    "            for ingredient_D, similarity in most_similar:\n",
    "                # Skip if ingredient_D is not in all_ingredients, as foods might have different names in the instructions but not exist in the ingredient set\n",
    "                # This then also does not allow the checking for the same Long_Desc so exclude those\n",
    "                if ingredient_D not in all_ingredients:\n",
    "                    continue\n",
    "\n",
    "                # Check if they have the same Long_Desc (USDA reference ingredient)\n",
    "                long_desc_D = df_ingredients[df_ingredients['ingredient'] == ingredient_D]['Long_Desc'].values[0]\n",
    "                if long_desc_D == long_desc_C:\n",
    "                    continue\n",
    "\n",
    "                # Add to dictionary\n",
    "                predicted_replacements[ingredient_D] += 1\n",
    "                break  # break the loop as we have found a valid ingredient_D\n",
    "\n",
    "            # If no valid ingredient_D was found in the loop, print a message\n",
    "            else:\n",
    "                print(f\"No valid replacement found for {ingredient_C} in the context of {replaced} -> {replacement}\")\n",
    "\n",
    "        except KeyError:\n",
    "            print(f\"One of the ingredients: {replaced}, {replacement}, or {ingredient_C} not in model vocabulary\")\n",
    "\n",
    "    # Sort dict by count and return\n",
    "    sorted_predictions = dict(sorted(predicted_replacements.items(), key=lambda item: item[1], reverse=True))\n",
    "\n",
    "    return sorted_predictions\n",
    "\n",
    "# Output test\n",
    "ingredient_to_replace = \"steak\"  # Replace with your ingredient\n",
    "print(find_most_common_replacement(ingredient_to_replace))\n"
   ],
   "metadata": {
    "collapsed": false
   }
  },
  {
   "cell_type": "code",
   "execution_count": 11,
   "outputs": [],
   "source": [
    "# Method which gets the two keys with highest values from the output dict\n",
    "# 2 outputs tend to dominate the results so use only those in the evaluation\n",
    "def get_two_highest_keys(d):\n",
    "    sorted_dict = {k: v for k, v in sorted(d.items(), key=lambda item: item[1], reverse=True)}\n",
    "    keys = list(sorted_dict.keys())[:2]\n",
    "    return keys\n",
    "\n",
    "# Extract two best replacements\n",
    "bert_results['analogy_replacement'] = bert_results['replaced'].apply(lambda x: get_two_highest_keys(find_most_common_replacement(x)))"
   ],
   "metadata": {
    "collapsed": false
   }
  },
  {
   "cell_type": "code",
   "execution_count": 13,
   "outputs": [],
   "source": [
    "bert_results.to_csv(r'C:\\Users\\01din\\PycharmProjects\\thesis\\data\\results_to_evaluate\\results.csv', index=False)"
   ],
   "metadata": {
    "collapsed": false
   }
  },
  {
   "cell_type": "code",
   "execution_count": null,
   "outputs": [],
   "source": [],
   "metadata": {
    "collapsed": false
   }
  }
 ],
 "metadata": {
  "kernelspec": {
   "display_name": "Python 3",
   "language": "python",
   "name": "python3"
  },
  "language_info": {
   "codemirror_mode": {
    "name": "ipython",
    "version": 2
   },
   "file_extension": ".py",
   "mimetype": "text/x-python",
   "name": "python",
   "nbconvert_exporter": "python",
   "pygments_lexer": "ipython2",
   "version": "2.7.6"
  }
 },
 "nbformat": 4,
 "nbformat_minor": 0
}
