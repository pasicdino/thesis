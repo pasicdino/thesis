{
 "cells": [
  {
   "cell_type": "code",
   "execution_count": 1,
   "metadata": {
    "collapsed": true
   },
   "outputs": [],
   "source": [
    "import pandas as pd\n",
    "from ast import literal_eval\n",
    "generic = lambda x: literal_eval(x)\n",
    "\n",
    "conv = {'nutrition' : generic, 'steps' : generic, 'ingredients' : generic, 'id_column' : generic, 'jaccard_similarity' : generic, 'diff' : generic, 'recipes' : generic, 'ingredients_original' : generic, 'tags': generic}\n",
    "df = pd.read_csv(r\"C:\\Users\\01din\\PycharmProjects\\thesis\\data\\cleaned_recipes\\recipes_with_JS.csv\", converters=conv)\n",
    "df.drop(['Unnamed: 0'], inplace=True, axis=1)\n",
    "df_ingredients = pd.read_csv(r\"C:\\Users\\01din\\PycharmProjects\\thesis\\data\\ingredients\\ingredients_nutrition.csv\")\n",
    "df_ingredients.drop(['Unnamed: 0'], inplace=True, axis=1)\n",
    "df_ingredients['nutrition'] = df_ingredients['nutrition'].apply(lambda x: literal_eval(x) if pd.notnull(x) else x)\n",
    "survey_df = pd.read_csv(r'C:\\Users\\01din\\PycharmProjects\\thesis\\data\\survey_results\\survey_results.csv')"
   ]
  },
  {
   "cell_type": "code",
   "execution_count": 2,
   "outputs": [],
   "source": [
    "df['ingredients_original_analogy'] = df['ingredients_original'].apply(lambda x: ['_'.join(i.split()) for i in x])\n",
    "survey_df['replaced_analogy'] = survey_df['replaced'].str.replace(' ', '_')\n",
    "survey_df['replacement_analogy'] = survey_df['replacement'].str.replace(' ', '_')\n",
    "df_ingredients['ingredient_analogy'] = df_ingredients['ingredient'].str.replace(' ', '_')"
   ],
   "metadata": {
    "collapsed": false
   }
  },
  {
   "cell_type": "code",
   "execution_count": 3,
   "outputs": [],
   "source": [
    "from gensim.models import Word2Vec\n",
    "from collections import defaultdict\n",
    "\n",
    "#Trained model, trained on all steps + ingredients of the dataset\n",
    "model_path = r\"C:\\Users\\01din\\PycharmProjects\\thesis\\models\\w2v\\recipe_word2vec.model\"\n",
    "w2v_model = Word2Vec.load(model_path)\n",
    "\n",
    "#Filter the survey output for only positive results\n",
    "survey_df = survey_df[survey_df['result'] == 'Yes']\n",
    "\n",
    "\n",
    "unique_pairs = survey_df.drop_duplicates(subset=['replaced_analogy', 'replacement_analogy'])\n",
    "#Method which finds the most common output of ingredient D\n",
    "def find_most_common_replacement(ingredient_C):\n",
    "    ingredient_C = ingredient_C.replace(' ', '_')\n",
    "    #Init dict which will hold replacements\n",
    "    predicted_replacements = defaultdict(int)\n",
    "\n",
    "    #Get the Lond_Desc of ingredient C, used to exclude trivial solutions\n",
    "    long_desc_C = df_ingredients[df_ingredients['ingredient_analogy'] == ingredient_C]['Long_Desc'].values[0]\n",
    "\n",
    "    #Create a set of all possible ingredients for faster lookup\n",
    "    all_ingredients = set(df_ingredients['ingredient_analogy'])\n",
    "\n",
    "    #Iterate over each unique pair of replaced and replacement from the survey\n",
    "    #These are later taken as A and B in the equation A-B+C=D\n",
    "    unique_pairs = survey_df.drop_duplicates(subset=['replaced_analogy', 'replacement_analogy'])\n",
    "\n",
    "    for index, row in unique_pairs.iterrows():\n",
    "        replaced = row['replaced_analogy']\n",
    "        replacement = row['replacement_analogy']\n",
    "\n",
    "        #Predict Ingredient D\n",
    "        try:\n",
    "            most_similar = w2v_model.wv.most_similar(positive=[replacement, ingredient_C], negative=[replaced], topn=100)\n",
    "            for ingredient_D, similarity in most_similar:\n",
    "                #Skip if ingredient_D is not in all_ingredients, as foods might have different names in the instructions but not exist in the ingredient set\n",
    "                #This then also does not allow the checking for the same Long_Desc so exclude those\n",
    "                if ingredient_D not in all_ingredients:\n",
    "                    continue\n",
    "\n",
    "                #Check if they have the same Long_Desc (USDA reference ingredient)\n",
    "                long_desc_D = df_ingredients[df_ingredients['ingredient_analogy'] == ingredient_D]['Long_Desc'].values[0]\n",
    "                if long_desc_D == long_desc_C:\n",
    "                    continue\n",
    "\n",
    "                #Add to dictionary\n",
    "                predicted_replacements[ingredient_D] += 1\n",
    "                break  # break the loop as we have found a valid ingredient_D\n",
    "\n",
    "        except KeyError:\n",
    "            print(f\"One of the ingredients: {replaced}, {replacement}, or {ingredient_C} not in model vocabulary\")\n",
    "\n",
    "    #Sort dict by count and return\n",
    "    sorted_predictions = dict(sorted(predicted_replacements.items(), key=lambda item: item[1], reverse=True))\n",
    "\n",
    "    return sorted_predictions"
   ],
   "metadata": {
    "collapsed": false
   }
  },
  {
   "cell_type": "code",
   "execution_count": 4,
   "outputs": [
    {
     "name": "stdout",
     "output_type": "stream",
     "text": [
      "cuda\n"
     ]
    }
   ],
   "source": [
    "import torch\n",
    "from tqdm import tqdm\n",
    "from transformers import BertTokenizer, BertForSequenceClassification\n",
    "tokenizer = BertTokenizer.from_pretrained('bert-base-uncased')\n",
    "model = BertForSequenceClassification.from_pretrained(r\"C:\\Users\\01din\\PycharmProjects\\thesis\\models\\classifier\")\n",
    "device = torch.device('cuda' if torch.cuda.is_available() else 'cpu')\n",
    "model.to(device)\n",
    "print(device)"
   ],
   "metadata": {
    "collapsed": false
   }
  },
  {
   "cell_type": "code",
   "execution_count": 5,
   "outputs": [],
   "source": [
    "def test_replacements(df, recipe_id, df_ingredients, ingredient_to_replace, model, tokenizer, device):\n",
    "    recipe_row = df[df['id'] == recipe_id]\n",
    "\n",
    "    original_recipe = recipe_row['steps'].apply(' '.join).iloc[0]\n",
    "    original_ingredient_desc = df_ingredients[df_ingredients.ingredient == ingredient_to_replace].FdGrp_Desc.iloc[0]\n",
    "    original_ingredient_long_desc = df_ingredients[df_ingredients.ingredient == ingredient_to_replace].Long_Desc.iloc[0]\n",
    "    all_predictions = []\n",
    "\n",
    "    for i, row in df_ingredients.iterrows():\n",
    "        if row['FdGrp_Desc'] == original_ingredient_desc and row['Long_Desc'] != original_ingredient_long_desc:\n",
    "            replacement_ingredient = row['ingredient']\n",
    "            if replacement_ingredient != ingredient_to_replace:\n",
    "                #Format the recipe text\n",
    "                test_recipe = original_recipe + ' [REPLACED] ' + ingredient_to_replace + ' [REPLACEMENT] ' + replacement_ingredient\n",
    "                encoding = tokenizer.encode_plus(test_recipe, return_tensors='pt', padding='max_length', truncation=True, max_length=512)\n",
    "                input_ids = encoding['input_ids'].to(device)\n",
    "                attention_mask = encoding['attention_mask'].to(device)\n",
    "\n",
    "                model.eval()\n",
    "                with torch.no_grad():\n",
    "                    outputs = model(input_ids, attention_mask=attention_mask)\n",
    "                    logits = outputs.logits\n",
    "                    _, predicted_labels = torch.max(logits, dim=1)\n",
    "                    confidence = torch.nn.functional.softmax(logits, dim=1)[:, 1].item()  #The confidence of label 1\n",
    "\n",
    "                all_predictions.append({\n",
    "                    'replacement_ingredient': replacement_ingredient,\n",
    "                    'predicted_label': predicted_labels.item(),\n",
    "                    'confidence': confidence\n",
    "                })\n",
    "\n",
    "    #Sort by confidence for label 1, or correct substitutions\n",
    "    all_predictions.sort(key=lambda x: -x['confidence'] if x['predicted_label'] == 1 else 1)\n",
    "\n",
    "    return all_predictions\n"
   ],
   "metadata": {
    "collapsed": false
   }
  },
  {
   "cell_type": "code",
   "execution_count": 6,
   "outputs": [
    {
     "data": {
      "text/plain": "[{'replacement_ingredient': 'pecan pieces',\n  'predicted_label': 1,\n  'confidence': 0.9585049152374268},\n {'replacement_ingredient': 'pecans',\n  'predicted_label': 1,\n  'confidence': 0.9544975161552429},\n {'replacement_ingredient': 'unsalted cashews',\n  'predicted_label': 1,\n  'confidence': 0.9505739808082581},\n {'replacement_ingredient': 'roasted cashews',\n  'predicted_label': 1,\n  'confidence': 0.9502045512199402},\n {'replacement_ingredient': 'salted cashews',\n  'predicted_label': 1,\n  'confidence': 0.9492326378822327},\n {'replacement_ingredient': 'ground pecans',\n  'predicted_label': 1,\n  'confidence': 0.9468134641647339},\n {'replacement_ingredient': 'pistachios',\n  'predicted_label': 1,\n  'confidence': 0.9320209622383118},\n {'replacement_ingredient': 'pepitas',\n  'predicted_label': 1,\n  'confidence': 0.9285652041435242},\n {'replacement_ingredient': 'hazelnuts',\n  'predicted_label': 1,\n  'confidence': 0.9159497618675232},\n {'replacement_ingredient': 'pecan halves',\n  'predicted_label': 1,\n  'confidence': 0.8661385178565979},\n {'replacement_ingredient': 'walnut pieces',\n  'predicted_label': 1,\n  'confidence': 0.8645929098129272},\n {'replacement_ingredient': 'whole almonds',\n  'predicted_label': 1,\n  'confidence': 0.8553422093391418},\n {'replacement_ingredient': 'almonds',\n  'predicted_label': 1,\n  'confidence': 0.8523766994476318},\n {'replacement_ingredient': 'blanched almonds',\n  'predicted_label': 1,\n  'confidence': 0.8463456034660339},\n {'replacement_ingredient': 'tahini',\n  'predicted_label': 1,\n  'confidence': 0.8036155700683594},\n {'replacement_ingredient': 'slivered almonds',\n  'predicted_label': 1,\n  'confidence': 0.7651107907295227},\n {'replacement_ingredient': 'sliced water chestnuts',\n  'predicted_label': 1,\n  'confidence': 0.5969198942184448},\n {'replacement_ingredient': 'walnuts',\n  'predicted_label': 0,\n  'confidence': 0.30619630217552185},\n {'replacement_ingredient': 'sesame seeds',\n  'predicted_label': 0,\n  'confidence': 0.05151516944169998},\n {'replacement_ingredient': 'pine nuts',\n  'predicted_label': 0,\n  'confidence': 0.10710936784744263},\n {'replacement_ingredient': 'coconut',\n  'predicted_label': 0,\n  'confidence': 0.10285010933876038},\n {'replacement_ingredient': 'sliced almonds',\n  'predicted_label': 0,\n  'confidence': 0.4873411953449249},\n {'replacement_ingredient': 'flaked coconut',\n  'predicted_label': 0,\n  'confidence': 0.08247556537389755},\n {'replacement_ingredient': 'sunflower seeds',\n  'predicted_label': 0,\n  'confidence': 0.04884598031640053},\n {'replacement_ingredient': 'shredded coconut',\n  'predicted_label': 0,\n  'confidence': 0.0844809040427208},\n {'replacement_ingredient': 'sweetened flaked coconut',\n  'predicted_label': 0,\n  'confidence': 0.06252492964267731},\n {'replacement_ingredient': 'macadamia nuts',\n  'predicted_label': 0,\n  'confidence': 0.11589284241199493},\n {'replacement_ingredient': 'toasted sesame seeds',\n  'predicted_label': 0,\n  'confidence': 0.05319858342409134},\n {'replacement_ingredient': 'ground almonds',\n  'predicted_label': 0,\n  'confidence': 0.23841720819473267},\n {'replacement_ingredient': 'ground flax seeds',\n  'predicted_label': 0,\n  'confidence': 0.05775770545005798},\n {'replacement_ingredient': 'desiccated coconut',\n  'predicted_label': 0,\n  'confidence': 0.1020461842417717},\n {'replacement_ingredient': 'pumpkin seeds',\n  'predicted_label': 0,\n  'confidence': 0.04833249747753143},\n {'replacement_ingredient': 'flax seed meal',\n  'predicted_label': 0,\n  'confidence': 0.043858446180820465},\n {'replacement_ingredient': 'coconut cream',\n  'predicted_label': 0,\n  'confidence': 0.049298737198114395},\n {'replacement_ingredient': 'blanched almond',\n  'predicted_label': 0,\n  'confidence': 0.05734671279788017},\n {'replacement_ingredient': 'flax seed',\n  'predicted_label': 0,\n  'confidence': 0.05488592013716698},\n {'replacement_ingredient': 'walnut halves',\n  'predicted_label': 0,\n  'confidence': 0.059177935123443604},\n {'replacement_ingredient': 'cream of coconut',\n  'predicted_label': 0,\n  'confidence': 0.06352037936449051},\n {'replacement_ingredient': 'sweetened coconut',\n  'predicted_label': 0,\n  'confidence': 0.06601079553365707},\n {'replacement_ingredient': 'mixed nuts',\n  'predicted_label': 0,\n  'confidence': 0.23273053765296936},\n {'replacement_ingredient': 'almond paste',\n  'predicted_label': 0,\n  'confidence': 0.05128178745508194},\n {'replacement_ingredient': 'almond meal',\n  'predicted_label': 0,\n  'confidence': 0.050225283950567245},\n {'replacement_ingredient': 'flax seeds',\n  'predicted_label': 0,\n  'confidence': 0.05718349292874336},\n {'replacement_ingredient': 'coconut flakes',\n  'predicted_label': 0,\n  'confidence': 0.054124247282743454},\n {'replacement_ingredient': 'whole almond',\n  'predicted_label': 0,\n  'confidence': 0.05536089465022087},\n {'replacement_ingredient': 'pomegranate seeds',\n  'predicted_label': 0,\n  'confidence': 0.048986129462718964},\n {'replacement_ingredient': 'toasted sliced almonds',\n  'predicted_label': 0,\n  'confidence': 0.4690086543560028},\n {'replacement_ingredient': 'almond butter',\n  'predicted_label': 0,\n  'confidence': 0.05169401690363884},\n {'replacement_ingredient': 'pistachio nut',\n  'predicted_label': 0,\n  'confidence': 0.05268559604883194},\n {'replacement_ingredient': 'unsweetened dried shredded coconut',\n  'predicted_label': 0,\n  'confidence': 0.05697227641940117},\n {'replacement_ingredient': 'ground walnuts',\n  'predicted_label': 0,\n  'confidence': 0.12741419672966003},\n {'replacement_ingredient': 'unsweetened flaked coconut',\n  'predicted_label': 0,\n  'confidence': 0.1387772113084793},\n {'replacement_ingredient': 'black sesame seed',\n  'predicted_label': 0,\n  'confidence': 0.054777976125478745},\n {'replacement_ingredient': 'pistachio nuts',\n  'predicted_label': 0,\n  'confidence': 0.09620802849531174},\n {'replacement_ingredient': 'blanched slivered almond',\n  'predicted_label': 0,\n  'confidence': 0.05136370286345482},\n {'replacement_ingredient': 'roasted almonds',\n  'predicted_label': 0,\n  'confidence': 0.2616860568523407},\n {'replacement_ingredient': 'white sesame seeds',\n  'predicted_label': 0,\n  'confidence': 0.05680644139647484}]"
     },
     "execution_count": 6,
     "metadata": {},
     "output_type": "execute_result"
    }
   ],
   "source": [
    "results = test_replacements(df, 263659, df_ingredients, 'cashews', model, tokenizer, device)\n",
    "results"
   ],
   "metadata": {
    "collapsed": false
   }
  },
  {
   "cell_type": "code",
   "execution_count": 18,
   "outputs": [],
   "source": [
    "def print_recipe(recipe):\n",
    "    print('Recipe name: ' + recipe.name.values[0])\n",
    "    print('\\nIngredients: ' + str(recipe.ingredients_original.values[0]))\n",
    "    print('\\nInstructions: ' + str(recipe.steps.values[0]))\n",
    "def select_non_spice_ingredient(ingredients_list, df_ingredients):\n",
    "    while True:\n",
    "        ingredient = random.choice(ingredients_list)\n",
    "        if df_ingredients.FdGrp_Desc[df_ingredients.ingredient == ingredient].values[0] != 'Spices and Herbs':\n",
    "            return ingredient"
   ],
   "metadata": {
    "collapsed": false
   }
  },
  {
   "cell_type": "code",
   "execution_count": 19,
   "outputs": [],
   "source": [
    "import random\n",
    "def generate_substitution(n):\n",
    "    recipe = df.sample(1)\n",
    "    id = recipe.id.values[0]\n",
    "    ingredient_to_replace = select_non_spice_ingredient(recipe.ingredients_original.values[0], df_ingredients)\n",
    "    print_recipe(recipe)\n",
    "    print(f\"\\nIngredient to be replaced: {ingredient_to_replace}\")\n",
    "    analogy_solutions = list(find_most_common_replacement(ingredient_to_replace).keys())[:n]\n",
    "    classifier_solutions = test_replacements(df, id, df_ingredients, ingredient_to_replace, model, tokenizer, device)[:n]\n",
    "    classifier_solutions = [d['replacement_ingredient'] for d in classifier_solutions]\n",
    "    print(f\"\\nFood analogy tool suggests {analogy_solutions}.\\nClassifier suggests {classifier_solutions}.\")"
   ],
   "metadata": {
    "collapsed": false
   }
  },
  {
   "cell_type": "code",
   "execution_count": 25,
   "outputs": [
    {
     "name": "stdout",
     "output_type": "stream",
     "text": [
      "Recipe name: peppermint patty liqueur\n",
      "\n",
      "Ingredients: ['vodka', 'whipping cream', 'sweetened condensed milk', 'chocolate syrup', 'vanilla', 'peppermint extract']\n",
      "\n",
      "Instructions: ['whisk ingredients together in a large measuring cup', 'pour into decorative bottles , seal & refrigerate for up to 2 weeks']\n",
      "\n",
      "Ingredient to be replaced: sweetened condensed milk\n",
      "\n",
      "Food analogy tool suggests ['white_chocolate', 'oreo_cookies', 'bittersweet_chocolate_chips', 'semisweet_chocolate', 'maraschino_cherries'].\n",
      "Classifier suggests ['evaporated milk', 'skim milk', 'evaporated skim milk', 'milk', 'carnation evaporated milk'].\n"
     ]
    }
   ],
   "source": [
    "generate_substitution(5)"
   ],
   "metadata": {
    "collapsed": false
   }
  },
  {
   "cell_type": "code",
   "execution_count": 17,
   "outputs": [
    {
     "data": {
      "text/plain": "'Vegetables and Vegetable Products'"
     },
     "execution_count": 17,
     "metadata": {},
     "output_type": "execute_result"
    }
   ],
   "source": [],
   "metadata": {
    "collapsed": false
   }
  },
  {
   "cell_type": "code",
   "execution_count": 27,
   "outputs": [],
   "source": [],
   "metadata": {
    "collapsed": false
   }
  }
 ],
 "metadata": {
  "kernelspec": {
   "display_name": "Python 3",
   "language": "python",
   "name": "python3"
  },
  "language_info": {
   "codemirror_mode": {
    "name": "ipython",
    "version": 2
   },
   "file_extension": ".py",
   "mimetype": "text/x-python",
   "name": "python",
   "nbconvert_exporter": "python",
   "pygments_lexer": "ipython2",
   "version": "2.7.6"
  }
 },
 "nbformat": 4,
 "nbformat_minor": 0
}
