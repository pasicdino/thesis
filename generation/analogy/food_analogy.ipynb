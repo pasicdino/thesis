{
 "cells": [
  {
   "cell_type": "code",
   "execution_count": 1,
   "metadata": {
    "collapsed": true
   },
   "outputs": [],
   "source": [
    "import pandas as pd\n",
    "from ast import literal_eval\n",
    "survey_df = pd.read_csv(r'C:\\Users\\01din\\PycharmProjects\\thesis\\data\\survey_results\\survey_results.csv')\n",
    "generic = lambda x: literal_eval(x)\n",
    "conv = {'nutrition' : generic, 'steps' : generic, 'ingredients' : generic, 'id_column' : generic, 'jaccard_similarity' : generic, 'diff' : generic, 'recipes' : generic, 'ingredients_original' : generic, 'tags': generic}\n",
    "df = pd.read_csv(r\"C:\\Users\\01din\\PycharmProjects\\thesis\\data\\cleaned_recipes\\recipes_with_JS.csv\", converters=conv)\n",
    "df.drop(['Unnamed: 0'], inplace=True, axis=1)\n",
    "df_ingredients = pd.read_csv(r\"C:\\Users\\01din\\PycharmProjects\\thesis\\data\\ingredients\\ingredients_nutrition.csv\")\n",
    "df_ingredients.drop(['Unnamed: 0'], inplace=True, axis=1)\n",
    "df_ingredients['nutrition'] = df_ingredients['nutrition'].apply(lambda x: literal_eval(x) if pd.notnull(x) else x)\n",
    "bert_results = pd.read_csv(r'C:\\Users\\01din\\PycharmProjects\\thesis\\data\\results_to_evaluate\\bert_results.csv', converters = conv)"
   ]
  },
  {
   "cell_type": "markdown",
   "source": [
    "Replacing spaces with underscores in the ingredients as that simplifies the process and simply allows the call of wv.most_similar"
   ],
   "metadata": {
    "collapsed": false
   }
  },
  {
   "cell_type": "code",
   "execution_count": 2,
   "outputs": [],
   "source": [
    "df['ingredients_original'] = df['ingredients_original'].apply(lambda x: ['_'.join(i.split()) for i in x])\n",
    "survey_df['replaced'] = survey_df['replaced'].str.replace(' ', '_')\n",
    "survey_df['replacement'] = survey_df['replacement'].str.replace(' ', '_')\n",
    "df_ingredients['ingredient'] = df_ingredients['ingredient'].str.replace(' ', '_')\n",
    "bert_results['replaced'] = bert_results['replaced'].apply(lambda x: x.replace(' ', '_'))"
   ],
   "metadata": {
    "collapsed": false
   }
  },
  {
   "cell_type": "markdown",
   "source": [
    "Method which carries out the Food Analogy formula\n",
    "It takes inputs A,B,C and outputs D\n",
    "A,B are taken s.t. A is an ingredient which can be replaced by B\n",
    "C is taken as the ingredient which needs to be replaced\n",
    "D is calculated through vector addition"
   ],
   "metadata": {
    "collapsed": false
   }
  },
  {
   "cell_type": "code",
   "execution_count": 3,
   "outputs": [
    {
     "name": "stdout",
     "output_type": "stream",
     "text": [
      "{'pork': 77, 'chicken': 35, 'salmon': 14, 'meat': 12, 'spareribs': 10, 'lamb': 6, 'halibut': 5, 'tofu': 4, 'tuna': 3, 'eggplant': 3, 'bologna': 2, 'ciabatta': 2, 'boneless_skinless_chicken_breast_halves': 2, 'cube_steaks': 2, 'pork_tenderloin': 2, 'sirloin_steaks': 2, 'fish': 2, 'whole_chicken_breasts': 2, 'sausages': 2, 'barbecue_sauce': 2, 'msg': 2, 'meat_tenderizer': 2, 'crisco': 1, 'boneless_pork_loin_roast': 1, 'spam': 1, 'oregano_leaves': 1, 'shrimp': 1, 'double-acting_baking_powder': 1, 'boneless_chicken_breasts': 1, 'lemongrass': 1, 'beef_bouillon_cubes': 1, 'prosciutto': 1, 'spicy_mustard': 1, 'meatballs': 1, 'turkey_gravy': 1, 'roasting_chicken': 1, 'boneless_pork_chops': 1, 'yukon_gold_potatoes': 1, 'fruit': 1, 'cajun_seasoning': 1, 'avocado': 1, 'tempeh': 1, 'baguette': 1, 'guar_gum': 1, 'biscuits': 1, 'sriracha_sauce': 1, 'hash_brown_potatoes': 1, 'rib_eye_steaks': 1}\n"
     ]
    }
   ],
   "source": [
    "from gensim.models import Word2Vec\n",
    "from collections import defaultdict\n",
    "\n",
    "#Trained model, trained on all steps + ingredients of the dataset\n",
    "model_path = r\"C:\\Users\\01din\\PycharmProjects\\thesis\\models\\w2v\\recipe_word2vec.model\"\n",
    "model = Word2Vec.load(model_path)\n",
    "\n",
    "#Filter the survey output for only positive results\n",
    "survey_df = survey_df[survey_df['result'] == 'Yes']\n",
    "\n",
    "\n",
    "unique_pairs = survey_df.drop_duplicates(subset=['replaced', 'replacement'])\n",
    "#Method which finds the most common output of ingredient D\n",
    "def find_most_common_replacement(ingredient_C):\n",
    "    #Init dict which will hold replacements\n",
    "    predicted_replacements = defaultdict(int)\n",
    "\n",
    "    #Get the Lond_Desc of ingredient C, used to exclude trivial solutions\n",
    "    long_desc_C = df_ingredients[df_ingredients['ingredient'] == ingredient_C]['Long_Desc'].values[0]\n",
    "\n",
    "    #Create a set of all possible ingredients for faster lookup\n",
    "    all_ingredients = set(df_ingredients['ingredient'])\n",
    "\n",
    "    #Iterate over each unique pair of replaced and replacement from the survey\n",
    "    #These are later taken as A and B in the equation A-B+C=D\n",
    "    unique_pairs = survey_df.drop_duplicates(subset=['replaced', 'replacement'])\n",
    "\n",
    "    for index, row in unique_pairs.iterrows():\n",
    "        replaced = row['replaced']\n",
    "        replacement = row['replacement']\n",
    "\n",
    "        #Predict Ingredient D\n",
    "        try:\n",
    "            most_similar = model.wv.most_similar(positive=[replacement, ingredient_C], negative=[replaced], topn=100)\n",
    "            for ingredient_D, similarity in most_similar:\n",
    "                #Skip if ingredient_D is not in all_ingredients, as foods might have different names in the instructions but not exist in the ingredient set\n",
    "                #This then also does not allow the checking for the same Long_Desc so exclude those\n",
    "                if ingredient_D not in all_ingredients:\n",
    "                    continue\n",
    "\n",
    "                #Check if they have the same Long_Desc (USDA reference ingredient)\n",
    "                long_desc_D = df_ingredients[df_ingredients['ingredient'] == ingredient_D]['Long_Desc'].values[0]\n",
    "                if long_desc_D == long_desc_C:\n",
    "                    continue\n",
    "\n",
    "                #Add to dictionary\n",
    "                predicted_replacements[ingredient_D] += 1\n",
    "                break  # break the loop as we have found a valid ingredient_D\n",
    "\n",
    "            #If no valid ingredient_D was found in the loop, print a message\n",
    "            else:\n",
    "                print(f\"No valid replacement found for {ingredient_C} in the context of {replaced} -> {replacement}\")\n",
    "\n",
    "        except KeyError:\n",
    "            print(f\"One of the ingredients: {replaced}, {replacement}, or {ingredient_C} not in model vocabulary\")\n",
    "\n",
    "    #Sort dict by count and return\n",
    "    sorted_predictions = dict(sorted(predicted_replacements.items(), key=lambda item: item[1], reverse=True))\n",
    "\n",
    "    return sorted_predictions\n",
    "\n",
    "#Output test\n",
    "ingredient_to_replace = \"steak\"  # Replace with your ingredient\n",
    "print(find_most_common_replacement(ingredient_to_replace))\n"
   ],
   "metadata": {
    "collapsed": false
   }
  },
  {
   "cell_type": "code",
   "execution_count": 4,
   "outputs": [],
   "source": [
    "#Method which gets the two keys with highest values from the output dict\n",
    "#2 outputs tend to dominate the results so use only those in the evaluation\n",
    "def get_5_highest_keys(d):\n",
    "    sorted_dict = {k: v for k, v in sorted(d.items(), key=lambda item: item[1], reverse=True)}\n",
    "    keys = list(sorted_dict.keys())[:5]\n",
    "    return keys\n",
    "\n",
    "#Extract two best replacements\n",
    "bert_results['analogy_replacement'] = bert_results['replaced'].apply(lambda x: get_5_highest_keys(find_most_common_replacement(x)))"
   ],
   "metadata": {
    "collapsed": false
   }
  },
  {
   "cell_type": "code",
   "execution_count": 5,
   "outputs": [],
   "source": [
    "bert_results.to_csv(r'C:\\Users\\01din\\PycharmProjects\\thesis\\data\\results_to_evaluate\\results.csv', index=False)"
   ],
   "metadata": {
    "collapsed": false
   }
  },
  {
   "cell_type": "code",
   "execution_count": 6,
   "outputs": [
    {
     "data": {
      "text/plain": "       id              replaced  \\\n0  263659               cashews   \n1  344624        diced_tomatoes   \n2   19881       red_bell_pepper   \n3  470964           ground_beef   \n4  168586  worcestershire_sauce   \n5   34403                 sugar   \n6  448396         dijon_mustard   \n7  253207       unsalted_butter   \n8  256098       vegetable_broth   \n9  209474          yellow_onion   \n\n                                        replacements  \\\n0  ['pecan pieces', 'pecans', 'raw cashews', 'uns...   \n1  ['diced tomatoes', 'cherry tomatoes', 'tomatoe...   \n2  ['pimientos', 'jalapeno chiles', 'jalapeno', '...   \n3  ['hamburger meat', 'extra lean ground beef', '...   \n4  ['sriracha sauce', 'heinz 57 steak sauce', 'ad...   \n5  ['unbleached cane sugar', 'demerara sugar', 't...   \n6  ['dijon mustard', 'honey dijon mustard', 'grai...   \n7  ['unsalted butter', 'sweet unsalted butter', '...   \n8  ['canned chicken broth', 'fat free chicken bro...   \n9  ['yellow onion', 'sweet potato', 'vidalia onio...   \n\n                                 analogy_replacement  \n0  [pistachios, peanuts, apricots, almonds, pumpk...  \n1  [stewed_tomatoes, crushed_tomatoes, chopped_to...  \n2  [yellow_bell_pepper, yellow_sweet_pepper, whit...  \n3  [lean_ground_beef, ground_chuck, hamburger_mea...  \n4  [steak_sauce, chili_sauce, prepared_mustard, t...  \n5  [honey, molasses, granulated_sugar, white_suga...  \n6  [tarragon_vinegar, prepared_horseradish, white...  \n7  [salted_butter, light_butter, smart_balance_bu...  \n8  [reduced-sodium_chicken_broth, chicken_stock, ...  \n9  [sweet_onion, sweet_onions, leek, shallot, low...  ",
      "text/html": "<div>\n<style scoped>\n    .dataframe tbody tr th:only-of-type {\n        vertical-align: middle;\n    }\n\n    .dataframe tbody tr th {\n        vertical-align: top;\n    }\n\n    .dataframe thead th {\n        text-align: right;\n    }\n</style>\n<table border=\"1\" class=\"dataframe\">\n  <thead>\n    <tr style=\"text-align: right;\">\n      <th></th>\n      <th>id</th>\n      <th>replaced</th>\n      <th>replacements</th>\n      <th>analogy_replacement</th>\n    </tr>\n  </thead>\n  <tbody>\n    <tr>\n      <th>0</th>\n      <td>263659</td>\n      <td>cashews</td>\n      <td>['pecan pieces', 'pecans', 'raw cashews', 'uns...</td>\n      <td>[pistachios, peanuts, apricots, almonds, pumpk...</td>\n    </tr>\n    <tr>\n      <th>1</th>\n      <td>344624</td>\n      <td>diced_tomatoes</td>\n      <td>['diced tomatoes', 'cherry tomatoes', 'tomatoe...</td>\n      <td>[stewed_tomatoes, crushed_tomatoes, chopped_to...</td>\n    </tr>\n    <tr>\n      <th>2</th>\n      <td>19881</td>\n      <td>red_bell_pepper</td>\n      <td>['pimientos', 'jalapeno chiles', 'jalapeno', '...</td>\n      <td>[yellow_bell_pepper, yellow_sweet_pepper, whit...</td>\n    </tr>\n    <tr>\n      <th>3</th>\n      <td>470964</td>\n      <td>ground_beef</td>\n      <td>['hamburger meat', 'extra lean ground beef', '...</td>\n      <td>[lean_ground_beef, ground_chuck, hamburger_mea...</td>\n    </tr>\n    <tr>\n      <th>4</th>\n      <td>168586</td>\n      <td>worcestershire_sauce</td>\n      <td>['sriracha sauce', 'heinz 57 steak sauce', 'ad...</td>\n      <td>[steak_sauce, chili_sauce, prepared_mustard, t...</td>\n    </tr>\n    <tr>\n      <th>5</th>\n      <td>34403</td>\n      <td>sugar</td>\n      <td>['unbleached cane sugar', 'demerara sugar', 't...</td>\n      <td>[honey, molasses, granulated_sugar, white_suga...</td>\n    </tr>\n    <tr>\n      <th>6</th>\n      <td>448396</td>\n      <td>dijon_mustard</td>\n      <td>['dijon mustard', 'honey dijon mustard', 'grai...</td>\n      <td>[tarragon_vinegar, prepared_horseradish, white...</td>\n    </tr>\n    <tr>\n      <th>7</th>\n      <td>253207</td>\n      <td>unsalted_butter</td>\n      <td>['unsalted butter', 'sweet unsalted butter', '...</td>\n      <td>[salted_butter, light_butter, smart_balance_bu...</td>\n    </tr>\n    <tr>\n      <th>8</th>\n      <td>256098</td>\n      <td>vegetable_broth</td>\n      <td>['canned chicken broth', 'fat free chicken bro...</td>\n      <td>[reduced-sodium_chicken_broth, chicken_stock, ...</td>\n    </tr>\n    <tr>\n      <th>9</th>\n      <td>209474</td>\n      <td>yellow_onion</td>\n      <td>['yellow onion', 'sweet potato', 'vidalia onio...</td>\n      <td>[sweet_onion, sweet_onions, leek, shallot, low...</td>\n    </tr>\n  </tbody>\n</table>\n</div>"
     },
     "execution_count": 6,
     "metadata": {},
     "output_type": "execute_result"
    }
   ],
   "source": [
    "bert_results"
   ],
   "metadata": {
    "collapsed": false
   }
  },
  {
   "cell_type": "code",
   "execution_count": 9,
   "outputs": [
    {
     "data": {
      "text/plain": "[('honey', 0.6941251754760742),\n ('splenda', 0.6173053979873657),\n ('molasses', 0.6060909032821655),\n ('sugars', 0.5962899923324585),\n ('sugar&', 0.5771386623382568),\n ('granulated_sugar', 0.5520997047424316),\n ('white_sugar', 0.548149585723877),\n ('nutmeg', 0.5481245517730713),\n ('rum', 0.546095073223114),\n ('cocoa', 0.5360195636749268)]"
     },
     "execution_count": 9,
     "metadata": {},
     "output_type": "execute_result"
    }
   ],
   "source": [
    "model.wv.most_similar('sugar')"
   ],
   "metadata": {
    "collapsed": false
   }
  },
  {
   "cell_type": "code",
   "execution_count": null,
   "outputs": [],
   "source": [],
   "metadata": {
    "collapsed": false
   }
  }
 ],
 "metadata": {
  "kernelspec": {
   "display_name": "Python 3",
   "language": "python",
   "name": "python3"
  },
  "language_info": {
   "codemirror_mode": {
    "name": "ipython",
    "version": 2
   },
   "file_extension": ".py",
   "mimetype": "text/x-python",
   "name": "python",
   "nbconvert_exporter": "python",
   "pygments_lexer": "ipython2",
   "version": "2.7.6"
  }
 },
 "nbformat": 4,
 "nbformat_minor": 0
}
