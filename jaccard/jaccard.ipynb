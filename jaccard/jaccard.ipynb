{
 "cells": [
  {
   "cell_type": "code",
   "execution_count": 1,
   "metadata": {
    "collapsed": true
   },
   "outputs": [],
   "source": [
    "import pandas as pd\n",
    "from ast import literal_eval\n",
    "\n",
    "generic = lambda x: literal_eval(x)\n",
    "conv = {'nutrition' : generic, 'steps' : generic, 'ingredients_original' : generic, 'id_column' : generic, 'ingredients' : generic}\n",
    "df = pd.read_csv(r\"C:\\Users\\01din\\PycharmProjects\\thesis\\data\\cleaned_recipes\\recipes.csv\", converters=conv)"
   ]
  },
  {
   "cell_type": "markdown",
   "source": [
    "File in which all JS's were computed."
   ],
   "metadata": {
    "collapsed": false
   }
  },
  {
   "cell_type": "code",
   "execution_count": 60,
   "outputs": [],
   "source": [
    "unique_ingredients = set()\n",
    "for row in df['ingredients']:\n",
    "    unique_ingredients.update(row)\n",
    "\n",
    "for row in df['ingredients']:\n",
    "    unique_ingredients.update(row)\n",
    "\n",
    "ingredient_id_dict = {ingredient: idx for idx, ingredient in enumerate(unique_ingredients)}\n",
    "\n",
    "# Add a new column to the dataframe with the set of ingredient IDs\n",
    "df['ingredient_ids'] = df['ingredients'].apply(lambda x: {ingredient_id_dict[ingredient] for ingredient in x})"
   ],
   "metadata": {
    "collapsed": false
   }
  },
  {
   "cell_type": "markdown",
   "source": [
    "JS calculation"
   ],
   "metadata": {
    "collapsed": false
   }
  },
  {
   "cell_type": "code",
   "execution_count": 1,
   "outputs": [],
   "source": [
    "def jaccard_similarity(set1, set2):\n",
    "    intersection = set1.intersection(set2)\n",
    "    union = set1.union(set2)\n",
    "    return len(intersection) / len(union)"
   ],
   "metadata": {
    "collapsed": false
   }
  },
  {
   "cell_type": "markdown",
   "source": [
    "Tried to vectorize this to speed it up. Still took very long. In hindsight should have used GPU but did this quite early and wasn't aware."
   ],
   "metadata": {
    "collapsed": false
   }
  },
  {
   "cell_type": "code",
   "execution_count": 62,
   "outputs": [],
   "source": [
    "def func(list2, passed_df):\n",
    "    matches = passed_df.apply(lambda row: (jaccard_similarity(row['ingredient_ids'], list2) >=0.64), axis=1)\n",
    "    return passed_df.loc[matches, 'id'].tolist()"
   ],
   "metadata": {
    "collapsed": false
   }
  },
  {
   "cell_type": "code",
   "execution_count": 63,
   "outputs": [],
   "source": [
    "df['similar'] = None\n",
    "temp_df = df[['ingredient_ids', 'similar', 'id']]\n",
    "\n",
    "import numpy as np\n",
    "dfs = np.array_split(temp_df, 100)"
   ],
   "metadata": {
    "collapsed": false
   }
  },
  {
   "cell_type": "markdown",
   "source": [
    "Split this into 100 small files which were compared to the whole dataset. This took very long, so I did this to track progress (was not aware of tqdm) and to make sure that if PC crashed or something, not all progress was lost."
   ],
   "metadata": {
    "collapsed": false
   }
  },
  {
   "cell_type": "code",
   "execution_count": 64,
   "outputs": [
    {
     "name": "stdout",
     "output_type": "stream",
     "text": [
      "0\n",
      "785.853702545166\n",
      "1\n",
      "808.9319522380829\n",
      "2\n",
      "820.4739987850189\n",
      "3\n",
      "792.38498878479\n",
      "4\n",
      "794.4565486907959\n",
      "5\n",
      "788.1529581546783\n",
      "6\n",
      "788.2661397457123\n",
      "7\n",
      "791.5584275722504\n",
      "8\n",
      "787.1765387058258\n",
      "9\n",
      "793.1281981468201\n",
      "10\n",
      "793.913821220398\n",
      "11\n",
      "788.9604814052582\n",
      "12\n",
      "791.0840270519257\n",
      "13\n",
      "785.8870930671692\n",
      "14\n",
      "788.1524715423584\n",
      "15\n",
      "787.1614305973053\n",
      "16\n",
      "792.0032286643982\n",
      "17\n",
      "788.3797338008881\n",
      "18\n",
      "798.8996336460114\n",
      "19\n",
      "805.0910377502441\n",
      "20\n",
      "806.9644749164581\n",
      "21\n",
      "792.871515750885\n",
      "22\n",
      "786.5035016536713\n",
      "23\n",
      "790.7892994880676\n",
      "24\n",
      "788.6225326061249\n",
      "25\n",
      "1108.5876772403717\n",
      "26\n",
      "1261.5953931808472\n",
      "27\n",
      "816.2864100933075\n",
      "28\n",
      "824.8671140670776\n",
      "29\n",
      "813.3144061565399\n",
      "30\n",
      "832.3544659614563\n",
      "31\n",
      "818.0196032524109\n",
      "32\n",
      "820.6614153385162\n",
      "33\n",
      "781.1441655158997\n",
      "34\n",
      "780.022479057312\n",
      "35\n",
      "789.6761934757233\n",
      "36\n",
      "786.143625497818\n",
      "37\n",
      "783.8925793170929\n",
      "38\n",
      "778.6482889652252\n",
      "39\n",
      "781.2054650783539\n",
      "40\n",
      "783.2173404693604\n",
      "41\n",
      "783.6220750808716\n",
      "42\n",
      "780.0924875736237\n",
      "43\n",
      "778.252411365509\n",
      "44\n",
      "782.3253920078278\n",
      "45\n",
      "784.3073356151581\n",
      "46\n",
      "774.5359199047089\n",
      "47\n",
      "771.0604846477509\n",
      "48\n",
      "780.5261473655701\n",
      "49\n",
      "785.7124910354614\n",
      "50\n",
      "780.1296105384827\n",
      "51\n",
      "782.6166293621063\n",
      "52\n",
      "786.6731839179993\n",
      "53\n",
      "779.3772828578949\n",
      "54\n",
      "780.4445819854736\n",
      "55\n",
      "781.698784828186\n",
      "56\n",
      "780.2465624809265\n",
      "57\n",
      "786.117223739624\n",
      "58\n",
      "782.3635199069977\n",
      "59\n",
      "780.8157715797424\n",
      "60\n",
      "784.2717411518097\n",
      "61\n",
      "783.6792764663696\n",
      "62\n",
      "777.9905776977539\n",
      "63\n",
      "785.8995254039764\n",
      "64\n",
      "779.3539552688599\n",
      "65\n",
      "781.5331435203552\n",
      "66\n",
      "779.2683062553406\n",
      "67\n",
      "781.9439973831177\n",
      "68\n",
      "780.1265971660614\n",
      "69\n",
      "770.9199941158295\n",
      "70\n",
      "779.2331871986389\n",
      "71\n",
      "785.9218642711639\n",
      "72\n",
      "788.067788362503\n",
      "73\n",
      "776.3562247753143\n",
      "74\n",
      "778.7231342792511\n",
      "75\n",
      "778.1376876831055\n",
      "76\n",
      "778.3779408931732\n",
      "77\n",
      "780.7421400547028\n",
      "78\n",
      "780.6846964359283\n",
      "79\n",
      "785.0295419692993\n",
      "80\n",
      "785.2829868793488\n",
      "81\n",
      "772.9667098522186\n",
      "82\n",
      "778.4793019294739\n",
      "83\n",
      "783.9483327865601\n",
      "84\n",
      "786.9317750930786\n",
      "85\n",
      "789.8499720096588\n",
      "86\n",
      "783.6128787994385\n",
      "87\n",
      "774.7078311443329\n",
      "88\n",
      "777.690719127655\n",
      "89\n",
      "777.512930393219\n",
      "90\n",
      "783.9049870967865\n",
      "91\n",
      "792.104635477066\n",
      "92\n",
      "799.5103092193604\n",
      "93\n",
      "796.7088646888733\n",
      "94\n",
      "795.2097682952881\n",
      "95\n",
      "806.3679072856903\n",
      "96\n",
      "1403.8106353282928\n",
      "97\n",
      "897.2949666976929\n",
      "98\n",
      "788.875973701477\n",
      "99\n",
      "791.1054685115814\n"
     ]
    }
   ],
   "source": [
    "import time\n",
    "count = 0\n",
    "for small_df in dfs:\n",
    "    print(count)\n",
    "    start = time.time()\n",
    "    small_df['similar'] = small_df['ingredient_ids'].apply(lambda row: func(row, temp_df))\n",
    "    small_df[['id', 'similar']].to_csv(\"C:/Users/01din\\Documents/University\\BSc thesis\\data\\RAW_recipes.csv/small/recipes_50_plus_\"+str(count)+\".csv\")\n",
    "    end = time.time()\n",
    "    print(end - start)\n",
    "    count += 1"
   ],
   "metadata": {
    "collapsed": false
   }
  },
  {
   "cell_type": "code",
   "execution_count": 31,
   "outputs": [],
   "source": [
    "df_list = []\n",
    "df_list.append(pd.read_csv(\"C:/Users/01din\\Documents/University\\BSc thesis\\data\\RAW_recipes.csv/small/recipes_50_plus_0.csv\"))\n",
    "df_list.append(pd.read_csv(\"C:/Users/01din\\Documents/University\\BSc thesis\\data\\RAW_recipes.csv/small/recipes_50_plus_1.csv\"))\n",
    "df_list.append(pd.read_csv(\"C:/Users/01din\\Documents/University\\BSc thesis\\data\\RAW_recipes.csv/small/recipes_50_plus_2.csv\"))\n",
    "df_list.append(pd.read_csv(\"C:/Users/01din\\Documents/University\\BSc thesis\\data\\RAW_recipes.csv/small/recipes_50_plus_3.csv\"))\n",
    "df_list.append(pd.read_csv(\"C:/Users/01din\\Documents/University\\BSc thesis\\data\\RAW_recipes.csv/small/recipes_50_plus_4.csv\"))\n",
    "df_list.append(pd.read_csv(\"C:/Users/01din\\Documents/University\\BSc thesis\\data\\RAW_recipes.csv/small/recipes_50_plus_5.csv\"))\n",
    "df_list.append(pd.read_csv(\"C:/Users/01din\\Documents/University\\BSc thesis\\data\\RAW_recipes.csv/small/recipes_50_plus_6.csv\"))\n",
    "df_list.append(pd.read_csv(\"C:/Users/01din\\Documents/University\\BSc thesis\\data\\RAW_recipes.csv/small/recipes_50_plus_7.csv\"))\n",
    "df_list.append(pd.read_csv(\"C:/Users/01din\\Documents/University\\BSc thesis\\data\\RAW_recipes.csv/small/recipes_50_plus_8.csv\"))\n",
    "df_list.append(pd.read_csv(\"C:/Users/01din\\Documents/University\\BSc thesis\\data\\RAW_recipes.csv/small/recipes_50_plus_9.csv\"))\n",
    "df_list.append(pd.read_csv(\"C:/Users/01din\\Documents/University\\BSc thesis\\data\\RAW_recipes.csv/small/recipes_50_plus_10.csv\"))\n",
    "df_list.append(pd.read_csv(\"C:/Users/01din\\Documents/University\\BSc thesis\\data\\RAW_recipes.csv/small/recipes_50_plus_11.csv\"))\n",
    "df_list.append(pd.read_csv(\"C:/Users/01din\\Documents/University\\BSc thesis\\data\\RAW_recipes.csv/small/recipes_50_plus_12.csv\"))\n",
    "df_list.append(pd.read_csv(\"C:/Users/01din\\Documents/University\\BSc thesis\\data\\RAW_recipes.csv/small/recipes_50_plus_13.csv\"))\n",
    "df_list.append(pd.read_csv(\"C:/Users/01din\\Documents/University\\BSc thesis\\data\\RAW_recipes.csv/small/recipes_50_plus_14.csv\"))\n",
    "df_list.append(pd.read_csv(\"C:/Users/01din\\Documents/University\\BSc thesis\\data\\RAW_recipes.csv/small/recipes_50_plus_15.csv\"))\n",
    "df_list.append(pd.read_csv(\"C:/Users/01din\\Documents/University\\BSc thesis\\data\\RAW_recipes.csv/small/recipes_50_plus_16.csv\"))\n",
    "df_list.append(pd.read_csv(\"C:/Users/01din\\Documents/University\\BSc thesis\\data\\RAW_recipes.csv/small/recipes_50_plus_17.csv\"))\n",
    "df_list.append(pd.read_csv(\"C:/Users/01din\\Documents/University\\BSc thesis\\data\\RAW_recipes.csv/small/recipes_50_plus_18.csv\"))\n",
    "df_list.append(pd.read_csv(\"C:/Users/01din\\Documents/University\\BSc thesis\\data\\RAW_recipes.csv/small/recipes_50_plus_19.csv\"))\n",
    "df_list.append(pd.read_csv(\"C:/Users/01din\\Documents/University\\BSc thesis\\data\\RAW_recipes.csv/small/recipes_50_plus_20.csv\"))\n",
    "df_list.append(pd.read_csv(\"C:/Users/01din\\Documents/University\\BSc thesis\\data\\RAW_recipes.csv/small/recipes_50_plus_21.csv\"))\n",
    "df_list.append(pd.read_csv(\"C:/Users/01din\\Documents/University\\BSc thesis\\data\\RAW_recipes.csv/small/recipes_50_plus_22.csv\"))\n",
    "df_list.append(pd.read_csv(\"C:/Users/01din\\Documents/University\\BSc thesis\\data\\RAW_recipes.csv/small/recipes_50_plus_23.csv\"))\n",
    "df_list.append(pd.read_csv(\"C:/Users/01din\\Documents/University\\BSc thesis\\data\\RAW_recipes.csv/small/recipes_50_plus_24.csv\"))\n",
    "df_list.append(pd.read_csv(\"C:/Users/01din\\Documents/University\\BSc thesis\\data\\RAW_recipes.csv/small/recipes_50_plus_25.csv\"))\n",
    "df_list.append(pd.read_csv(\"C:/Users/01din\\Documents/University\\BSc thesis\\data\\RAW_recipes.csv/small/recipes_50_plus_26.csv\"))\n",
    "df_list.append(pd.read_csv(\"C:/Users/01din\\Documents/University\\BSc thesis\\data\\RAW_recipes.csv/small/recipes_50_plus_27.csv\"))\n",
    "df_list.append(pd.read_csv(\"C:/Users/01din\\Documents/University\\BSc thesis\\data\\RAW_recipes.csv/small/recipes_50_plus_28.csv\"))\n",
    "df_list.append(pd.read_csv(\"C:/Users/01din\\Documents/University\\BSc thesis\\data\\RAW_recipes.csv/small/recipes_50_plus_29.csv\"))\n",
    "df_list.append(pd.read_csv(\"C:/Users/01din\\Documents/University\\BSc thesis\\data\\RAW_recipes.csv/small/recipes_50_plus_30.csv\"))\n",
    "df_list.append(pd.read_csv(\"C:/Users/01din\\Documents/University\\BSc thesis\\data\\RAW_recipes.csv/small/recipes_50_plus_31.csv\"))\n",
    "df_list.append(pd.read_csv(\"C:/Users/01din\\Documents/University\\BSc thesis\\data\\RAW_recipes.csv/small/recipes_50_plus_32.csv\"))\n",
    "df_list.append(pd.read_csv(\"C:/Users/01din\\Documents/University\\BSc thesis\\data\\RAW_recipes.csv/small/recipes_50_plus_33.csv\"))\n",
    "df_list.append(pd.read_csv(\"C:/Users/01din\\Documents/University\\BSc thesis\\data\\RAW_recipes.csv/small/recipes_50_plus_34.csv\"))\n",
    "df_list.append(pd.read_csv(\"C:/Users/01din\\Documents/University\\BSc thesis\\data\\RAW_recipes.csv/small/recipes_50_plus_35.csv\"))\n",
    "df_list.append(pd.read_csv(\"C:/Users/01din\\Documents/University\\BSc thesis\\data\\RAW_recipes.csv/small/recipes_50_plus_36.csv\"))\n",
    "df_list.append(pd.read_csv(\"C:/Users/01din\\Documents/University\\BSc thesis\\data\\RAW_recipes.csv/small/recipes_50_plus_37.csv\"))\n",
    "df_list.append(pd.read_csv(\"C:/Users/01din\\Documents/University\\BSc thesis\\data\\RAW_recipes.csv/small/recipes_50_plus_38.csv\"))\n",
    "df_list.append(pd.read_csv(\"C:/Users/01din\\Documents/University\\BSc thesis\\data\\RAW_recipes.csv/small/recipes_50_plus_39.csv\"))\n",
    "df_list.append(pd.read_csv(\"C:/Users/01din\\Documents/University\\BSc thesis\\data\\RAW_recipes.csv/small/recipes_50_plus_40.csv\"))\n",
    "df_list.append(pd.read_csv(\"C:/Users/01din\\Documents/University\\BSc thesis\\data\\RAW_recipes.csv/small/recipes_50_plus_41.csv\"))\n",
    "df_list.append(pd.read_csv(\"C:/Users/01din\\Documents/University\\BSc thesis\\data\\RAW_recipes.csv/small/recipes_50_plus_42.csv\"))\n",
    "df_list.append(pd.read_csv(\"C:/Users/01din\\Documents/University\\BSc thesis\\data\\RAW_recipes.csv/small/recipes_50_plus_43.csv\"))\n",
    "df_list.append(pd.read_csv(\"C:/Users/01din\\Documents/University\\BSc thesis\\data\\RAW_recipes.csv/small/recipes_50_plus_44.csv\"))\n",
    "df_list.append(pd.read_csv(\"C:/Users/01din\\Documents/University\\BSc thesis\\data\\RAW_recipes.csv/small/recipes_50_plus_45.csv\"))\n",
    "df_list.append(pd.read_csv(\"C:/Users/01din\\Documents/University\\BSc thesis\\data\\RAW_recipes.csv/small/recipes_50_plus_46.csv\"))\n",
    "df_list.append(pd.read_csv(\"C:/Users/01din\\Documents/University\\BSc thesis\\data\\RAW_recipes.csv/small/recipes_50_plus_47.csv\"))\n",
    "df_list.append(pd.read_csv(\"C:/Users/01din\\Documents/University\\BSc thesis\\data\\RAW_recipes.csv/small/recipes_50_plus_48.csv\"))\n",
    "df_list.append(pd.read_csv(\"C:/Users/01din\\Documents/University\\BSc thesis\\data\\RAW_recipes.csv/small/recipes_50_plus_49.csv\"))\n",
    "df_list.append(pd.read_csv(\"C:/Users/01din\\Documents/University\\BSc thesis\\data\\RAW_recipes.csv/small/recipes_50_plus_50.csv\"))\n",
    "df_list.append(pd.read_csv(\"C:/Users/01din\\Documents/University\\BSc thesis\\data\\RAW_recipes.csv/small/recipes_50_plus_51.csv\"))\n",
    "df_list.append(pd.read_csv(\"C:/Users/01din\\Documents/University\\BSc thesis\\data\\RAW_recipes.csv/small/recipes_50_plus_52.csv\"))\n",
    "df_list.append(pd.read_csv(\"C:/Users/01din\\Documents/University\\BSc thesis\\data\\RAW_recipes.csv/small/recipes_50_plus_53.csv\"))\n",
    "df_list.append(pd.read_csv(\"C:/Users/01din\\Documents/University\\BSc thesis\\data\\RAW_recipes.csv/small/recipes_50_plus_54.csv\"))\n",
    "df_list.append(pd.read_csv(\"C:/Users/01din\\Documents/University\\BSc thesis\\data\\RAW_recipes.csv/small/recipes_50_plus_55.csv\"))\n",
    "df_list.append(pd.read_csv(\"C:/Users/01din\\Documents/University\\BSc thesis\\data\\RAW_recipes.csv/small/recipes_50_plus_56.csv\"))\n",
    "df_list.append(pd.read_csv(\"C:/Users/01din\\Documents/University\\BSc thesis\\data\\RAW_recipes.csv/small/recipes_50_plus_57.csv\"))\n",
    "df_list.append(pd.read_csv(\"C:/Users/01din\\Documents/University\\BSc thesis\\data\\RAW_recipes.csv/small/recipes_50_plus_58.csv\"))\n",
    "df_list.append(pd.read_csv(\"C:/Users/01din\\Documents/University\\BSc thesis\\data\\RAW_recipes.csv/small/recipes_50_plus_59.csv\"))\n",
    "df_list.append(pd.read_csv(\"C:/Users/01din\\Documents/University\\BSc thesis\\data\\RAW_recipes.csv/small/recipes_50_plus_60.csv\"))\n",
    "df_list.append(pd.read_csv(\"C:/Users/01din\\Documents/University\\BSc thesis\\data\\RAW_recipes.csv/small/recipes_50_plus_61.csv\"))\n",
    "df_list.append(pd.read_csv(\"C:/Users/01din\\Documents/University\\BSc thesis\\data\\RAW_recipes.csv/small/recipes_50_plus_62.csv\"))\n",
    "df_list.append(pd.read_csv(\"C:/Users/01din\\Documents/University\\BSc thesis\\data\\RAW_recipes.csv/small/recipes_50_plus_63.csv\"))\n",
    "df_list.append(pd.read_csv(\"C:/Users/01din\\Documents/University\\BSc thesis\\data\\RAW_recipes.csv/small/recipes_50_plus_64.csv\"))\n",
    "df_list.append(pd.read_csv(\"C:/Users/01din\\Documents/University\\BSc thesis\\data\\RAW_recipes.csv/small/recipes_50_plus_65.csv\"))\n",
    "df_list.append(pd.read_csv(\"C:/Users/01din\\Documents/University\\BSc thesis\\data\\RAW_recipes.csv/small/recipes_50_plus_66.csv\"))\n",
    "df_list.append(pd.read_csv(\"C:/Users/01din\\Documents/University\\BSc thesis\\data\\RAW_recipes.csv/small/recipes_50_plus_67.csv\"))\n",
    "df_list.append(pd.read_csv(\"C:/Users/01din\\Documents/University\\BSc thesis\\data\\RAW_recipes.csv/small/recipes_50_plus_68.csv\"))\n",
    "df_list.append(pd.read_csv(\"C:/Users/01din\\Documents/University\\BSc thesis\\data\\RAW_recipes.csv/small/recipes_50_plus_69.csv\"))\n",
    "df_list.append(pd.read_csv(\"C:/Users/01din\\Documents/University\\BSc thesis\\data\\RAW_recipes.csv/small/recipes_50_plus_70.csv\"))\n",
    "df_list.append(pd.read_csv(\"C:/Users/01din\\Documents/University\\BSc thesis\\data\\RAW_recipes.csv/small/recipes_50_plus_71.csv\"))\n",
    "df_list.append(pd.read_csv(\"C:/Users/01din\\Documents/University\\BSc thesis\\data\\RAW_recipes.csv/small/recipes_50_plus_72.csv\"))\n",
    "df_list.append(pd.read_csv(\"C:/Users/01din\\Documents/University\\BSc thesis\\data\\RAW_recipes.csv/small/recipes_50_plus_73.csv\"))\n",
    "df_list.append(pd.read_csv(\"C:/Users/01din\\Documents/University\\BSc thesis\\data\\RAW_recipes.csv/small/recipes_50_plus_74.csv\"))\n",
    "df_list.append(pd.read_csv(\"C:/Users/01din\\Documents/University\\BSc thesis\\data\\RAW_recipes.csv/small/recipes_50_plus_75.csv\"))\n",
    "df_list.append(pd.read_csv(\"C:/Users/01din\\Documents/University\\BSc thesis\\data\\RAW_recipes.csv/small/recipes_50_plus_76.csv\"))\n",
    "df_list.append(pd.read_csv(\"C:/Users/01din\\Documents/University\\BSc thesis\\data\\RAW_recipes.csv/small/recipes_50_plus_77.csv\"))\n",
    "df_list.append(pd.read_csv(\"C:/Users/01din\\Documents/University\\BSc thesis\\data\\RAW_recipes.csv/small/recipes_50_plus_78.csv\"))\n",
    "df_list.append(pd.read_csv(\"C:/Users/01din\\Documents/University\\BSc thesis\\data\\RAW_recipes.csv/small/recipes_50_plus_79.csv\"))\n",
    "df_list.append(pd.read_csv(\"C:/Users/01din\\Documents/University\\BSc thesis\\data\\RAW_recipes.csv/small/recipes_50_plus_80.csv\"))\n",
    "df_list.append(pd.read_csv(\"C:/Users/01din\\Documents/University\\BSc thesis\\data\\RAW_recipes.csv/small/recipes_50_plus_81.csv\"))\n",
    "df_list.append(pd.read_csv(\"C:/Users/01din\\Documents/University\\BSc thesis\\data\\RAW_recipes.csv/small/recipes_50_plus_82.csv\"))\n",
    "df_list.append(pd.read_csv(\"C:/Users/01din\\Documents/University\\BSc thesis\\data\\RAW_recipes.csv/small/recipes_50_plus_83.csv\"))\n",
    "df_list.append(pd.read_csv(\"C:/Users/01din\\Documents/University\\BSc thesis\\data\\RAW_recipes.csv/small/recipes_50_plus_84.csv\"))\n",
    "df_list.append(pd.read_csv(\"C:/Users/01din\\Documents/University\\BSc thesis\\data\\RAW_recipes.csv/small/recipes_50_plus_85.csv\"))\n",
    "df_list.append(pd.read_csv(\"C:/Users/01din\\Documents/University\\BSc thesis\\data\\RAW_recipes.csv/small/recipes_50_plus_86.csv\"))\n",
    "df_list.append(pd.read_csv(\"C:/Users/01din\\Documents/University\\BSc thesis\\data\\RAW_recipes.csv/small/recipes_50_plus_87.csv\"))\n",
    "df_list.append(pd.read_csv(\"C:/Users/01din\\Documents/University\\BSc thesis\\data\\RAW_recipes.csv/small/recipes_50_plus_88.csv\"))\n",
    "df_list.append(pd.read_csv(\"C:/Users/01din\\Documents/University\\BSc thesis\\data\\RAW_recipes.csv/small/recipes_50_plus_89.csv\"))\n",
    "df_list.append(pd.read_csv(\"C:/Users/01din\\Documents/University\\BSc thesis\\data\\RAW_recipes.csv/small/recipes_50_plus_90.csv\"))\n",
    "df_list.append(pd.read_csv(\"C:/Users/01din\\Documents/University\\BSc thesis\\data\\RAW_recipes.csv/small/recipes_50_plus_91.csv\"))\n",
    "df_list.append(pd.read_csv(\"C:/Users/01din\\Documents/University\\BSc thesis\\data\\RAW_recipes.csv/small/recipes_50_plus_92.csv\"))\n",
    "df_list.append(pd.read_csv(\"C:/Users/01din\\Documents/University\\BSc thesis\\data\\RAW_recipes.csv/small/recipes_50_plus_93.csv\"))\n",
    "df_list.append(pd.read_csv(\"C:/Users/01din\\Documents/University\\BSc thesis\\data\\RAW_recipes.csv/small/recipes_50_plus_94.csv\"))\n",
    "df_list.append(pd.read_csv(\"C:/Users/01din\\Documents/University\\BSc thesis\\data\\RAW_recipes.csv/small/recipes_50_plus_95.csv\"))\n",
    "df_list.append(pd.read_csv(\"C:/Users/01din\\Documents/University\\BSc thesis\\data\\RAW_recipes.csv/small/recipes_50_plus_96.csv\"))\n",
    "df_list.append(pd.read_csv(\"C:/Users/01din\\Documents/University\\BSc thesis\\data\\RAW_recipes.csv/small/recipes_50_plus_97.csv\"))\n",
    "df_list.append(pd.read_csv(\"C:/Users/01din\\Documents/University\\BSc thesis\\data\\RAW_recipes.csv/small/recipes_50_plus_98.csv\"))\n",
    "df_list.append(pd.read_csv(\"C:/Users/01din\\Documents/University\\BSc thesis\\data\\RAW_recipes.csv/small/recipes_50_plus_99.csv\"))"
   ],
   "metadata": {
    "collapsed": false
   }
  },
  {
   "cell_type": "code",
   "execution_count": 32,
   "outputs": [],
   "source": [
    "import ast\n",
    "\n",
    "df_concat = pd.concat(df_list)[['id', 'similar']]\n",
    "df_concat['similar'] = df_concat.similar.apply(ast.literal_eval)"
   ],
   "metadata": {
    "collapsed": false
   }
  },
  {
   "cell_type": "code",
   "execution_count": 35,
   "outputs": [],
   "source": [
    "df_merged = pd.merge(df, df_concat, on='id', how='left')\n",
    "df_merged['similar'] = df_merged.apply(lambda row: [x for x in row['similar'] if x != row['id']], axis=1)"
   ],
   "metadata": {
    "collapsed": false
   }
  },
  {
   "cell_type": "code",
   "execution_count": 37,
   "outputs": [],
   "source": [
    "df_merged.to_csv(r'C:\\Users\\01din\\PycharmProjects\\thesis\\data\\cleaned_recipes\\recipes_with_JS.csv')"
   ],
   "metadata": {
    "collapsed": false
   }
  }
 ],
 "metadata": {
  "kernelspec": {
   "display_name": "Python 3",
   "language": "python",
   "name": "python3"
  },
  "language_info": {
   "codemirror_mode": {
    "name": "ipython",
    "version": 2
   },
   "file_extension": ".py",
   "mimetype": "text/x-python",
   "name": "python",
   "nbconvert_exporter": "python",
   "pygments_lexer": "ipython2",
   "version": "2.7.6"
  }
 },
 "nbformat": 4,
 "nbformat_minor": 0
}
