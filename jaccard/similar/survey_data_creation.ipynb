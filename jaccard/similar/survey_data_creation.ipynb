{
 "cells": [
  {
   "cell_type": "code",
   "execution_count": 7,
   "metadata": {
    "collapsed": true
   },
   "outputs": [],
   "source": [
    "import ast\n",
    "\n",
    "import pandas as pd\n",
    "from ast import literal_eval\n",
    "\n",
    "generic = lambda x: literal_eval(x)\n",
    "conv = {'nutrition' : generic, 'steps' : generic, 'ingredients' : generic, 'id_column' : generic, 'jaccard_similarity' : generic, 'diff' : generic, 'recipes' : generic, 'ingredients_original' : generic, 'tags': generic}\n",
    "df = pd.read_csv(r\"C:\\Users\\01din\\PycharmProjects\\thesis\\data\\cleaned_recipes\\recipes_with_JS.csv\", converters=conv)\n",
    "df.drop(['Unnamed: 0'], inplace=True, axis=1)\n",
    "def string_to_list(string_repr):\n",
    "    return ast.literal_eval(string_repr)\n",
    "df['tokenized'] = df['tokenized'].apply(lambda x: string_to_list(x) if isinstance(x, str) else x)\n",
    "\n",
    "df_ingredients = pd.read_csv(r\"C:\\Users\\01din\\PycharmProjects\\thesis\\data\\ingredients\\ingredients_nutrition.csv\")\n",
    "df_ingredients.drop(['Unnamed: 0'], inplace=True, axis=1)\n",
    "df_ingredients['nutrition'] = df_ingredients['nutrition'].apply(lambda x: ast.literal_eval(x) if pd.notnull(x) else x)\n",
    "similar = pd.read_pickle(r'C:\\Users\\01din\\PycharmProjects\\thesis\\data\\similar/similar_sets_pickle.csv')\n",
    "interactions = pd.read_csv(r\"C:\\Users\\01din\\PycharmProjects\\thesis/data/raw/interactions/RAW_interactions.csv\")\n",
    "diverse_recipes_df = pd.read_csv(r'C:\\Users\\01din\\PycharmProjects\\thesis\\data\\cleaned_recipes\\recipes_to_survey.csv', converters=conv)\n",
    "diverse_recipes_df.drop(['Unnamed: 0'], inplace=True, axis=1)"
   ]
  },
  {
   "cell_type": "markdown",
   "source": [
    "Recipes which have more data are more interesting to us, let's sort s.t. the first row is the row with the most substitutions"
   ],
   "metadata": {
    "collapsed": false
   }
  },
  {
   "cell_type": "code",
   "execution_count": 3,
   "outputs": [],
   "source": [
    "def replace_ingredient(subs_list, old_value, new_value):\n",
    "    for d in subs_list:\n",
    "        if d[\"ingredient\"] == old_value:\n",
    "            d[\"ingredient\"] = new_value\n",
    "    return subs_list\n",
    "\n",
    "# Correction - this was wrongly labeled during the ingredient labeling\n",
    "old_ingredient = \"MORNINGSTAR FARMS Grillers Vegan, frozen, unprepared\"\n",
    "new_ingredient = \"Margarine, regular, 80% fat, composite, tub, without salt\"\n",
    "\n",
    "similar[\"Subs\"] = similar[\"Subs\"].apply(lambda x: replace_ingredient(x, old_ingredient, new_ingredient))"
   ],
   "metadata": {
    "collapsed": false
   }
  },
  {
   "cell_type": "code",
   "execution_count": 4,
   "outputs": [
    {
     "data": {
      "text/plain": "                                                    Key  \\\n0     (Salt, table, Egg, whole, raw, fresh, Wheat fl...   \n1     (Yeast extract spread, Beverages, water, tap, ...   \n2     (Salt, table, Egg, whole, raw, fresh, Wheat fl...   \n3     (Egg, whole, raw, fresh, Wheat flour, whole-gr...   \n4     (Salt, table, Wheat flour, whole-grain, Sugars...   \n...                                                 ...   \n9276  (Vinegar, distilled, Leavening agents, baking ...   \n9277  (Salt, table, Wheat flour, whole-grain, Sugars...   \n9278  (Spices, pepper, red or cayenne, Spinach, raw,...   \n9279  (Alcoholic beverage, pina colada, prepared-fro...   \n9280  (Spices, cinnamon, ground, Sugars, granulated,...   \n\n                                                   Subs  \n0     [{'ingredient': 'Vegetable oil, palm kernel', ...  \n1     [{'ingredient': 'Oil, corn, peanut, and olive'...  \n2     [{'ingredient': 'Snacks, popcorn, oil-popped, ...  \n3     [{'ingredient': 'Butter, without salt', 'id': ...  \n4     [{'ingredient': 'Seeds, sesame seeds, whole, d...  \n...                                                 ...  \n9276  [{'ingredient': 'Margarine, regular, 80% fat, ...  \n9277  [{'ingredient': 'Cream, fluid, heavy whipping'...  \n9278  [{'ingredient': 'Gravy, mushroom, canned', 'id...  \n9279  [{'ingredient': 'Cream, half and half, fat fre...  \n9280  [{'ingredient': 'Wheat flour, white, all-purpo...  \n\n[9281 rows x 2 columns]",
      "text/html": "<div>\n<style scoped>\n    .dataframe tbody tr th:only-of-type {\n        vertical-align: middle;\n    }\n\n    .dataframe tbody tr th {\n        vertical-align: top;\n    }\n\n    .dataframe thead th {\n        text-align: right;\n    }\n</style>\n<table border=\"1\" class=\"dataframe\">\n  <thead>\n    <tr style=\"text-align: right;\">\n      <th></th>\n      <th>Key</th>\n      <th>Subs</th>\n    </tr>\n  </thead>\n  <tbody>\n    <tr>\n      <th>0</th>\n      <td>(Salt, table, Egg, whole, raw, fresh, Wheat fl...</td>\n      <td>[{'ingredient': 'Vegetable oil, palm kernel', ...</td>\n    </tr>\n    <tr>\n      <th>1</th>\n      <td>(Yeast extract spread, Beverages, water, tap, ...</td>\n      <td>[{'ingredient': 'Oil, corn, peanut, and olive'...</td>\n    </tr>\n    <tr>\n      <th>2</th>\n      <td>(Salt, table, Egg, whole, raw, fresh, Wheat fl...</td>\n      <td>[{'ingredient': 'Snacks, popcorn, oil-popped, ...</td>\n    </tr>\n    <tr>\n      <th>3</th>\n      <td>(Egg, whole, raw, fresh, Wheat flour, whole-gr...</td>\n      <td>[{'ingredient': 'Butter, without salt', 'id': ...</td>\n    </tr>\n    <tr>\n      <th>4</th>\n      <td>(Salt, table, Wheat flour, whole-grain, Sugars...</td>\n      <td>[{'ingredient': 'Seeds, sesame seeds, whole, d...</td>\n    </tr>\n    <tr>\n      <th>...</th>\n      <td>...</td>\n      <td>...</td>\n    </tr>\n    <tr>\n      <th>9276</th>\n      <td>(Vinegar, distilled, Leavening agents, baking ...</td>\n      <td>[{'ingredient': 'Margarine, regular, 80% fat, ...</td>\n    </tr>\n    <tr>\n      <th>9277</th>\n      <td>(Salt, table, Wheat flour, whole-grain, Sugars...</td>\n      <td>[{'ingredient': 'Cream, fluid, heavy whipping'...</td>\n    </tr>\n    <tr>\n      <th>9278</th>\n      <td>(Spices, pepper, red or cayenne, Spinach, raw,...</td>\n      <td>[{'ingredient': 'Gravy, mushroom, canned', 'id...</td>\n    </tr>\n    <tr>\n      <th>9279</th>\n      <td>(Alcoholic beverage, pina colada, prepared-fro...</td>\n      <td>[{'ingredient': 'Cream, half and half, fat fre...</td>\n    </tr>\n    <tr>\n      <th>9280</th>\n      <td>(Spices, cinnamon, ground, Sugars, granulated,...</td>\n      <td>[{'ingredient': 'Wheat flour, white, all-purpo...</td>\n    </tr>\n  </tbody>\n</table>\n<p>9281 rows × 2 columns</p>\n</div>"
     },
     "execution_count": 4,
     "metadata": {},
     "output_type": "execute_result"
    }
   ],
   "source": [
    "similar = similar.sort_values(by='Subs', key=lambda x: x.apply(len), ascending=False)\n",
    "similar.reset_index(drop=True, inplace=True)\n",
    "similar"
   ],
   "metadata": {
    "collapsed": false
   }
  },
  {
   "cell_type": "markdown",
   "source": [
    "Function which finds the base recipe, which is the recipe which will be edited. It is chosen as the recipe with the most ratings from all recipes in that set."
   ],
   "metadata": {
    "collapsed": false
   }
  },
  {
   "cell_type": "code",
   "execution_count": 9,
   "outputs": [],
   "source": [
    "def find_base_recipe(subs, value_counts):\n",
    "    largest_freq = 0\n",
    "    id = -1\n",
    "    for item in subs:\n",
    "        item_id = item['id']\n",
    "        freq = value_counts.loc[item_id]\n",
    "        if freq > largest_freq:\n",
    "            largest_freq = freq\n",
    "            id = item_id\n",
    "    return df[df.id == id]"
   ],
   "metadata": {
    "collapsed": false
   }
  },
  {
   "cell_type": "markdown",
   "source": [
    "Some other functions which retrieve the other relevant data"
   ],
   "metadata": {
    "collapsed": false
   }
  },
  {
   "cell_type": "code",
   "execution_count": 10,
   "outputs": [],
   "source": [
    "def find_base_instructions(subs, value_counts):\n",
    "    base_recipe = find_base_recipe(subs, value_counts)\n",
    "    base_instructions = base_recipe.steps\n",
    "    return base_instructions.tolist()[0]\n",
    "\n",
    "def find_ingredient_to_substitute(target_id, subs):\n",
    "    for item in subs:\n",
    "        if item['id'] == target_id:\n",
    "            return item['ingredient']\n",
    "    return None"
   ],
   "metadata": {
    "collapsed": false
   }
  },
  {
   "cell_type": "markdown",
   "source": [
    "Some important methods. Comments in code explain details"
   ],
   "metadata": {
    "collapsed": false
   }
  },
  {
   "cell_type": "code",
   "execution_count": 11,
   "outputs": [],
   "source": [
    "from math import sqrt\n",
    "\n",
    "#Dot product: used in cosine similarity\n",
    "def dot_product(vec1, vec2):\n",
    "    return sum(a * b for a, b in zip(vec1, vec2))\n",
    "\n",
    "#Magnitude: also used in cosine similarity\n",
    "def magnitude(vec):\n",
    "    return sqrt(sum(x**2 for x in vec))\n",
    "\n",
    "#Method which does cosine similarity for ingredients specifically\n",
    "def cosine_similarity_ingr(desc1, desc2):\n",
    "    #Make sure both dicts have the same keys, as initially some ingredients had missing nutrition values.\n",
    "    dict1 = df_ingredients[df_ingredients.Long_Desc == desc1].nutrition.iloc[0]\n",
    "    dict2 = df_ingredients[df_ingredients.Long_Desc == desc2].nutrition.iloc[0]\n",
    "    if set(dict1.keys()) != set(dict2.keys()):\n",
    "        raise AssertionError(f\"Dictionaries have different keys.\\ndesc1: {desc1}\\ndesc2: {desc2}\")\n",
    "\n",
    "    #Turn the nutrition values into lists\n",
    "    vec1 = [dict1[key] for key in sorted(dict1.keys())]\n",
    "    vec2 = [dict2[key] for key in sorted(dict2.keys())]\n",
    "\n",
    "    #Classic cosine similarity calculation\n",
    "    dot_prod = dot_product(vec1, vec2)\n",
    "    mag1 = magnitude(vec1)\n",
    "    mag2 = magnitude(vec2)\n",
    "    if mag1 == 0 or mag2 == 0:\n",
    "        return 0\n",
    "    return dot_prod / (mag1 * mag2)\n",
    "\n",
    "#Method which finds the best ingredient substitute from the set.\n",
    "def find_ingredient_substitute(ingredient_to_substitute, subs, base_recipe_id):\n",
    "    #Holds a ranking\n",
    "    ingredient_ranking = []\n",
    "    #Save the food category, used to give foods of the same category priority\n",
    "    category = df_ingredients[df_ingredients.Long_Desc == ingredient_to_substitute].FdGrp_Desc.iloc[0]\n",
    "    #Iterate over all possible substitutions\n",
    "    for item in subs:\n",
    "        #Save ingredient, recipe id, and category of substitution ingredient\n",
    "        ingredient = item['ingredient']\n",
    "        recipe_id = item['id']\n",
    "        category_other = df_ingredients[df_ingredients.Long_Desc == ingredient].FdGrp_Desc.iloc[0]\n",
    "\n",
    "        #Skip entry if it is equal to the base recipe or if the recipes are the same (a bit redundant to do both I suppose)\n",
    "        if recipe_id == base_recipe_id or item['ingredient'] == ingredient_to_substitute:\n",
    "            continue\n",
    "\n",
    "        #True if both foods are the same category\n",
    "        is_same_category = category_other == category\n",
    "\n",
    "        #Calculate similarity value between nutrition of foods\n",
    "        similarity = cosine_similarity_ingr(ingredient, ingredient_to_substitute)\n",
    "\n",
    "        #Add dict to list created at the beginning. Holds the substitute, the recipe ID it comes from, the similarity score, and whether it is the same category.\n",
    "        ingredient_ranking.append({'ingredient': ingredient, 'id': recipe_id, 'similarity': similarity, 'is_same_category': is_same_category})\n",
    "\n",
    "    #Return sorted list, sort first by whether the category is the same, then by similarity.\n",
    "    sorted_ingredient_ranking = sorted(ingredient_ranking, key=lambda x: (x['is_same_category'], x['similarity']), reverse=True)\n",
    "\n",
    "    return sorted_ingredient_ranking\n",
    "\n",
    "#Method which finds food.com name of the ingredient from the USDA name\n",
    "def get_original_ingredient_from_ingredient(recipe, ingredient):\n",
    "    index = recipe.ingredients.iloc[0].index(ingredient)\n",
    "    return recipe.ingredients_original.iloc[0][index]"
   ],
   "metadata": {
    "collapsed": false
   }
  },
  {
   "cell_type": "markdown",
   "source": [
    "Based on this, we can use the most popular recipe (most frequently rated?) as our base recipe: this is the one that we will find a replacement ingredient for.\n",
    "Then, we can choose the replacement ingredient through heuristics: food category, and nutritional similarity."
   ],
   "metadata": {
    "collapsed": false
   }
  },
  {
   "cell_type": "markdown",
   "source": [
    "The obvious issue is that the two presented recipes are often two different recipes that just seem to have similar ingredients. To prevent this, we can look at the recipe instructions, and the name of the recipe, and add a ranking based on semantic similarity between the two.\n",
    "\n",
    "It will lead to two lists: a list of nutritionally similar ingredients\n",
    "                           a list of semenatically similar recipes\n",
    "We can simply choose the item which ranks best on both lists combined.\n",
    "\n",
    "In another notebook, a word2vec model has been trained on text related to each recipe"
   ],
   "metadata": {
    "collapsed": false
   }
  },
  {
   "cell_type": "markdown",
   "source": [],
   "metadata": {
    "collapsed": false
   }
  },
  {
   "cell_type": "code",
   "execution_count": 1,
   "outputs": [],
   "source": [
    "import numpy as np\n",
    "\n",
    "#Avg word vector of the recipe\n",
    "def get_avg_word_vector(tokenized_recipe, model, vector_size):\n",
    "    word_vectors = np.zeros((len(tokenized_recipe), vector_size))\n",
    "\n",
    "    for i, word in enumerate(tokenized_recipe):\n",
    "        word_vectors[i, :] = model.wv[word]\n",
    "\n",
    "    avg_vector = np.mean(word_vectors, axis=0)\n",
    "    return avg_vector\n",
    "\n",
    "from sklearn.metrics.pairwise import cosine_similarity\n",
    "\n",
    "#Cos sim for simple vectors\n",
    "def get_cosine_similarity(vector1, vector2):\n",
    "    return cosine_similarity(vector1.reshape(1, -1), vector2.reshape(1, -1))[0][0]\n"
   ],
   "metadata": {
    "collapsed": false
   }
  },
  {
   "cell_type": "code",
   "execution_count": 13,
   "outputs": [],
   "source": [
    "#Methods similar to the one which ranks the ingredient substitutes, only this one does it based on semantic similarity\n",
    "def get_semantic_ranking(base_recipe_id, subs, df, model, ingredient_to_substitute):\n",
    "    semantic_ranking = []\n",
    "\n",
    "    #Get tokenized text of base recipe and turn it into a vector\n",
    "    base_recipe_tokenized = df.loc[df['id'] == base_recipe_id, 'tokenized'].iloc[0]\n",
    "    base_recipe_vector = get_avg_word_vector(base_recipe_tokenized, model, vector_size=100)\n",
    "\n",
    "    #Iterate over subs\n",
    "    for item in subs:\n",
    "        recipe_id = item['id']\n",
    "\n",
    "        #Skip entry if it is equal to the base recipe or if the recipes are the same (a bit redundant to do both I suppose)\n",
    "        if recipe_id == base_recipe_id or item['ingredient'] == ingredient_to_substitute:\n",
    "            continue\n",
    "\n",
    "        other_recipe = df.loc[df['id'] == recipe_id, 'tokenized'].iloc[0]\n",
    "\n",
    "        #Get vector of other recipe & calculate cosine similarity\n",
    "        other_recipe_vector = get_avg_word_vector(other_recipe, model, vector_size=100)\n",
    "        similarity = get_cosine_similarity(base_recipe_vector, other_recipe_vector)\n",
    "\n",
    "        #Add to dict\n",
    "        item['semantic_similarity'] = similarity\n",
    "        semantic_ranking.append(item)\n",
    "\n",
    "    #Return sorted on semantic similarity. I suppose I should have also added the categoric boolean here. Would have likely been better.\n",
    "    semantic_ranking.sort(key=lambda x: x['semantic_similarity'], reverse=True)\n",
    "\n",
    "    return semantic_ranking\n"
   ],
   "metadata": {
    "collapsed": false
   }
  },
  {
   "cell_type": "code",
   "execution_count": 14,
   "outputs": [],
   "source": [
    "from gensim.models import Word2Vec\n",
    "model_path = r\"C:\\Users\\01din\\PycharmProjects\\thesis\\models\\w2v\\w2v4js.model\"\n",
    "model = Word2Vec.load(model_path)"
   ],
   "metadata": {
    "collapsed": false
   }
  },
  {
   "cell_type": "code",
   "execution_count": 15,
   "outputs": [],
   "source": [
    "#This is what we discussed, where I combine the two lists based on rank.\n",
    "def combined_best_ranking(ranking, semantic_ranking, top_n=3):\n",
    "    #Dict to store combined rank\n",
    "    combined_dict = {}\n",
    "\n",
    "    #Iterate over nutrition ranking & save rank\n",
    "    for i, item in enumerate(ranking):\n",
    "        rank_score = (i + 1)\n",
    "        combined_dict[item['id']] = {'item': item, 'rank_score': rank_score}\n",
    "\n",
    "    #Iterate over semantic ranking & save rank\n",
    "    for i, item in enumerate(semantic_ranking):\n",
    "        semantic_rank_score = (i + 1)\n",
    "        if item['id'] in combined_dict:\n",
    "            combined_dict[item['id']]['semantic_rank_score'] = semantic_rank_score\n",
    "        else:\n",
    "            combined_dict[item['id']] = {'item': item, 'semantic_rank_score': semantic_rank_score}\n",
    "\n",
    "    #Calculate combined scores.\n",
    "    combined_list = []\n",
    "    for key, value in combined_dict.items():\n",
    "        rank_score = value.get('rank_score', len(ranking) + 1)\n",
    "        semantic_rank_score = value.get('semantic_rank_score', len(semantic_ranking) + 1)\n",
    "        combined_item = value['item'].copy()\n",
    "        combined_item['combined_score'] = (rank_score + semantic_rank_score) / 2\n",
    "        combined_list.append(combined_item)\n",
    "\n",
    "    #Sort combined lists and take top n (3 was used)\n",
    "    combined_list.sort(key=lambda x: x['combined_score'])\n",
    "    return combined_list[:top_n]\n"
   ],
   "metadata": {
    "collapsed": false
   }
  },
  {
   "cell_type": "markdown",
   "source": [
    "Df of base recipes, also include tags"
   ],
   "metadata": {
    "collapsed": false
   }
  },
  {
   "cell_type": "code",
   "execution_count": 43,
   "outputs": [],
   "source": [
    "bases_df = pd.DataFrame()\n",
    "for i in range(len(similar.index)):\n",
    "    index = i\n",
    "    base_recipe = find_base_recipe(similar.Subs.iloc[index], interactions.recipe_id.value_counts())\n",
    "    bases_df = pd.concat([bases_df, base_recipe], ignore_index=True)"
   ],
   "metadata": {
    "collapsed": false
   }
  },
  {
   "cell_type": "code",
   "execution_count": 45,
   "outputs": [],
   "source": [
    "bases_df['tags'] = bases_df['tags'].apply(lambda x: string_to_list(x) if isinstance(x, str) else x)"
   ],
   "metadata": {
    "collapsed": false
   }
  },
  {
   "cell_type": "code",
   "execution_count": 65,
   "outputs": [
    {
     "name": "stdout",
     "output_type": "stream",
     "text": [
      "[0, 1, 2, 3, 4612, 6, 7, 2056, 5129, 1034, 11, 13, 15, 16, 17, 529, 1039, 20, 21, 2067, 25, 27, 29, 30, 31, 1569, 34, 36, 38, 2086, 40, 41, 3622, 43, 556, 45, 46, 47, 48, 49, 50, 560, 52, 565, 3639, 58, 1083, 60, 5181, 4670, 66, 67, 69, 1608, 1609, 81, 82, 595, 2132, 6226, 87, 3672, 601, 3673, 91, 92, 603, 604, 3674, 609, 2659, 1125, 1638, 3685, 616, 4717, 1647, 2671, 113, 1137, 115, 116, 628, 5743, 7793, 121, 122, 634, 1659, 4735, 1152, 2688, 3202, 133, 1158, 142, 655, 144, 145, 660, 149, 150, 151, 665, 667, 2207, 167, 174, 175, 176, 179, 3251, 181, 695, 2743, 1724, 703, 4291, 196, 3268, 6858, 715, 3790, 6864, 722, 1235, 1752, 2264, 2268, 221, 1758, 6877, 224, 738, 3299, 3301, 1768, 233, 234, 746, 239, 4335, 241, 242, 243, 244, 1266, 246, 2295, 2296, 762, 251, 252, 253, 1275, 768, 261, 774, 1286, 779, 268, 780, 1806, 2319, 6415, 273, 276, 1303, 4892, 285, 286, 288, 289, 3876, 293, 2342, 2859, 300, 7468, 304, 305, 1332, 3892, 1338, 2885, 7493, 840, 842, 3402, 335, 4951, 349, 863, 865, 2919, 361, 876, 1400, 6520, 892, 1409, 386, 387, 388, 3461, 3463, 5009, 914, 1430, 1942, 6038, 6550, 411, 927, 419, 2468, 422, 2470, 2985, 938, 6069, 6581, 2487, 440, 954, 445, 446, 5061, 454, 971, 4556, 2510, 463, 467, 7126, 471, 1495, 473, 1497, 475, 987, 7639, 478, 3042, 1000, 490, 491, 7673, 507, 1535]\n"
     ]
    }
   ],
   "source": [
    "#Compute tag count for all base recipes.\n",
    "base_recipe_tags = {index: row.tags for index, row in bases_df.iterrows()}\n",
    "all_tags = list(set([item for sublist in df.tags for item in sublist]))\n",
    "tag_counts = {tag: 0 for tag in all_tags}\n",
    "selected_base_recipes_indices = set()\n",
    "\n",
    "#Take max 250 unique recipes, with 1-3 replacements for each recipe this should be reasonable\n",
    "for _ in range(250):\n",
    "    if not base_recipe_tags:\n",
    "        break\n",
    "\n",
    "    #Take tags with lowest count\n",
    "    min_count = min(tag_counts.values())\n",
    "    lowest_tags = [tag for tag, count in tag_counts.items() if count == min_count]\n",
    "\n",
    "\n",
    "    selected_index = None\n",
    "\n",
    "    #Select a new recipe which has one of the tags which has appeared the least, and which has not been chosen before\n",
    "    for index, tags in base_recipe_tags.items():\n",
    "        if index in selected_base_recipes_indices:\n",
    "            continue\n",
    "        if any(tag in tags for tag in lowest_tags):\n",
    "            selected_index = index\n",
    "            break\n",
    "\n",
    "    #If none is found break\n",
    "    if selected_index is None:\n",
    "        break\n",
    "\n",
    "    #Update values\n",
    "    for tag in base_recipe_tags[selected_index]:\n",
    "        tag_counts[tag] += 1\n",
    "    selected_base_recipes_indices.add(selected_index)\n",
    "\n",
    "    #Remove base recipe from list\n",
    "    del base_recipe_tags[selected_index]\n",
    "\n",
    "print(list(selected_base_recipes_indices))"
   ],
   "metadata": {
    "collapsed": false
   }
  },
  {
   "cell_type": "markdown",
   "source": [
    "All 250 were filled out"
   ],
   "metadata": {
    "collapsed": false
   }
  },
  {
   "cell_type": "code",
   "execution_count": 66,
   "outputs": [
    {
     "data": {
      "text/plain": "250"
     },
     "execution_count": 66,
     "metadata": {},
     "output_type": "execute_result"
    }
   ],
   "source": [
    "len(list(selected_base_recipes_indices))"
   ],
   "metadata": {
    "collapsed": false
   }
  },
  {
   "cell_type": "code",
   "execution_count": 6,
   "outputs": [],
   "source": [
    "selected_base_recipes_indices = [0, 1, 2, 3, 4612, 6, 7, 2056, 5129, 1034, 11, 13, 15, 16, 17, 529, 1039, 20, 21, 2067, 25, 27, 29, 30, 31, 1569, 34, 36, 38, 2086, 40, 41, 3622, 43, 556, 45, 46, 47, 48, 49, 50, 560, 52, 565, 3639, 58, 1083, 60, 5181, 4670, 66, 67, 69, 1608, 1609, 81, 82, 595, 2132, 6226, 87, 3672, 601, 3673, 91, 92, 603, 604, 3674, 609, 2659, 1125, 1638, 3685, 616, 4717, 1647, 2671, 113, 1137, 115, 116, 628, 5743, 7793, 121, 122, 634, 1659, 4735, 1152, 2688, 3202, 133, 1158, 142, 655, 144, 145, 660, 149, 150, 151, 665, 667, 2207, 167, 174, 175, 176, 179, 3251, 181, 695, 2743, 1724, 703, 4291, 196, 3268, 6858, 715, 3790, 6864, 722, 1235, 1752, 2264, 2268, 221, 1758, 6877, 224, 738, 3299, 3301, 1768, 233, 234, 746, 239, 4335, 241, 242, 243, 244, 1266, 246, 2295, 2296, 762, 251, 252, 253, 1275, 768, 261, 774, 1286, 779, 268, 780, 1806, 2319, 6415, 273, 276, 1303, 4892, 285, 286, 288, 289, 3876, 293, 2342, 2859, 300, 7468, 304, 305, 1332, 3892, 1338, 2885, 7493, 840, 842, 3402, 335, 4951, 349, 863, 865, 2919, 361, 876, 1400, 6520, 892, 1409, 386, 387, 388, 3461, 3463, 5009, 914, 1430, 1942, 6038, 6550, 411, 927, 419, 2468, 422, 2470, 2985, 938, 6069, 6581, 2487, 440, 954, 445, 446, 5061, 454, 971, 4556, 2510, 463, 467, 7126, 471, 1495, 473, 1497, 475, 987, 7639, 478, 3042, 1000, 490, 491, 7673, 507, 1535]"
   ],
   "metadata": {
    "collapsed": false
   }
  },
  {
   "cell_type": "markdown",
   "source": [
    "Format all data into one df which can be exported to csv and into google sheets"
   ],
   "metadata": {
    "collapsed": false
   }
  },
  {
   "cell_type": "code",
   "execution_count": 18,
   "outputs": [],
   "source": [
    "survey_df = pd.DataFrame(columns=['title', 'id', 'rep_id', 'ingredients', 'instructions', 'ingredient_to_replace', 'replacement'])\n",
    "for i in selected_base_recipes_indices:\n",
    "    index = i\n",
    "    base_recipe = find_base_recipe(similar.Subs.iloc[index], interactions.recipe_id.value_counts())\n",
    "\n",
    "    base_instructions = find_base_instructions(similar.Subs.iloc[index], interactions.recipe_id.value_counts())\n",
    "\n",
    "    base_ingredients = similar.Key.iloc[index]\n",
    "\n",
    "    ingredient_to_substitute = find_ingredient_to_substitute(base_recipe.id.iloc[0], similar.Subs.iloc[index])\n",
    "    original_ingredient_to_substitute = get_original_ingredient_from_ingredient(base_recipe, ingredient_to_substitute)\n",
    "\n",
    "    ranking = find_ingredient_substitute(ingredient_to_substitute, similar.Subs.iloc[index], base_recipe.id.iloc[0])\n",
    "\n",
    "    semantic_ranking = get_semantic_ranking(base_recipe.id.iloc[0], similar.Subs.iloc[index], df, model, ingredient_to_substitute)\n",
    "\n",
    "    best_dict = combined_best_ranking(ranking, semantic_ranking)\n",
    "    for i in range(len(best_dict)):\n",
    "        alt_recipe = df[df.id == best_dict[i]['id']]\n",
    "        replacement = best_dict[i]['ingredient']\n",
    "        original_replacement = get_original_ingredient_from_ingredient(alt_recipe, replacement)\n",
    "        new_entry = {\"title\": [base_recipe.name.iloc[0]], 'id': [base_recipe.id.iloc[0]], 'rep_id': [alt_recipe.id.iloc[0]], 'ingredients': str(base_recipe.ingredients_original.iloc[0]), 'instructions': [base_instructions], 'ingredient_to_replace': [original_ingredient_to_substitute], 'replacement': [original_replacement]}\n",
    "        survey_df = pd.concat([survey_df, pd.DataFrame(new_entry)], ignore_index=True)"
   ],
   "metadata": {
    "collapsed": false
   }
  },
  {
   "cell_type": "code",
   "execution_count": 19,
   "outputs": [
    {
     "data": {
      "text/plain": "quick and easy pizza dough                     9\nvery vanilla cupcakes                          7\nunknownchef86 s very best dinner rolls         6\nbuttery bread machine rolls                    6\ngwen s butter rich dinner rolls                6\n                                              ..\nlight egg whites muffins                       1\ngarlic    feta lovers rotini pasta for one     1\nthe best mocha buttercream frosting   icing    1\nmama s lemon bars                              1\nlu s rum or bourbon balls                      1\nName: title, Length: 227, dtype: int64"
     },
     "execution_count": 19,
     "metadata": {},
     "output_type": "execute_result"
    }
   ],
   "source": [
    "survey_df.title.value_counts()"
   ],
   "metadata": {
    "collapsed": false
   }
  },
  {
   "cell_type": "markdown",
   "source": [
    "Everything after this is saving all relevant dfs etc."
   ],
   "metadata": {
    "collapsed": false
   }
  },
  {
   "cell_type": "code",
   "execution_count": null,
   "outputs": [],
   "source": [
    "bases_df = pd.to_csv(r'C:\\Users\\01din\\PycharmProjects\\thesis\\data\\cleaned_recipes\\bases.csv', converters=conv)\n",
    "bases_df.drop(['Unnamed: 0'], inplace=True, axis=1)"
   ],
   "metadata": {
    "collapsed": false
   }
  },
  {
   "cell_type": "code",
   "execution_count": 52,
   "outputs": [],
   "source": [
    "diverse_recipes_df"
   ],
   "metadata": {
    "collapsed": false
   }
  },
  {
   "cell_type": "code",
   "execution_count": 135,
   "outputs": [
    {
     "data": {
      "text/plain": "          id                                  name  n_ingredients  \\\n0       5170               pete s scratch pancakes              7   \n1      13546                    beth s pizza crust              6   \n2      11763                 easy lemon pound cake              8   \n3     139989   ruhrei     mennonite scrambled eggs              5   \n4       5170               pete s scratch pancakes              7   \n...      ...                                   ...            ...   \n7573  147243  creamed mashed potatoes with spinach              6   \n7574  147243  creamed mashed potatoes with spinach              6   \n7575   60160           southern scalloped potatoes              6   \n7576  320957                        mandarin mocha              5   \n7577    9822                 creamed peas on toast              7   \n\n                                   ingredients_original  n_steps  \\\n0     [flour, sugar, salt, baking powder, eggs, butt...        4   \n1         [yeast, water, flour, olive oil, sugar, salt]        9   \n2     [butter, sugar, eggs, lemon juice, salt, flour...        9   \n3                     [flour, eggs, salt, milk, butter]        7   \n4     [flour, sugar, salt, baking powder, eggs, butt...        4   \n...                                                 ...      ...   \n7573  [boiling potatoes, heavy cream, unsalted butte...        8   \n7574  [boiling potatoes, heavy cream, unsalted butte...        8   \n7575  [idaho potatoes, onions, butter, flour, milk, ...        9   \n7576  [coffee, chocolate syrup, orange extract, milk...        6   \n7577  [green peas, butter, flour, milk, toast, salt,...        6   \n\n                                                  steps  \\\n0     [mix the dry items first, combine the eggs and...   \n1     [combine yeast and warm water, stir until diss...   \n2     [mix together 1 cup sugar and butter, add eggs...   \n3     [mix the flour and milk into a smooth paste , ...   \n4     [mix the dry items first, combine the eggs and...   \n...                                                 ...   \n7573  [cover potatoes with salted cold water by 1 in...   \n7574  [cover potatoes with salted cold water by 1 in...   \n7575  [boil the potatoes until they're halfway done ...   \n7576  [pour coffee into a cup, add chocolate syrup, ...   \n7577  [on stove in small pot melt butter and add flo...   \n\n                                                   tags  minutes  \\\n0     [30-minutes-or-less, time-to-make, course, pre...       20   \n1     [30-minutes-or-less, time-to-make, course, pre...       30   \n2     [weeknight, time-to-make, course, preparation,...       70   \n3     [15-minutes-or-less, time-to-make, course, mai...        6   \n4     [30-minutes-or-less, time-to-make, course, pre...       20   \n...                                                 ...      ...   \n7573  [60-minutes-or-less, time-to-make, course, mai...       50   \n7574  [60-minutes-or-less, time-to-make, course, mai...       50   \n7575  [60-minutes-or-less, time-to-make, main-ingred...       50   \n7576  [15-minutes-or-less, time-to-make, course, pre...        5   \n7577  [15-minutes-or-less, time-to-make, course, mai...        8   \n\n                                            description  \\\n0     it was the fall of 1987 when pete nyhus walked...   \n1     this is an excellent crust that requires no ti...   \n2     i have used this cake for so many different th...   \n3     this is a different and delicious way to make ...   \n4     it was the fall of 1987 when pete nyhus walked...   \n...                                                 ...   \n7573  boy, do we loves potatoes and spinach. when i ...   \n7574  boy, do we loves potatoes and spinach. when i ...   \n7575  this delicious casserole hasn't been \\r\\ncompr...   \n7576  chocolate, coffee, and orange flavors.  what c...   \n7577                                   peas for lunch??   \n\n                                        nutrition  \\\n0      [209.6, 12.0, 17.0, 13.0, 11.0, 23.0, 9.0]   \n1     [1256.3, 19.0, 20.0, 97.0, 70.0, 9.0, 81.0]   \n2     [338.6, 20.0, 126.0, 10.0, 9.0, 40.0, 16.0]   \n3       [249.2, 25.0, 1.0, 24.0, 29.0, 37.0, 3.0]   \n4      [209.6, 12.0, 17.0, 13.0, 11.0, 23.0, 9.0]   \n...                                           ...   \n7573   [383.7, 30.0, 8.0, 26.0, 11.0, 62.0, 15.0]   \n7574   [383.7, 30.0, 8.0, 26.0, 11.0, 62.0, 15.0]   \n7575   [226.4, 10.0, 12.0, 3.0, 11.0, 20.0, 12.0]   \n7576      [187.1, 9.0, 50.0, 7.0, 9.0, 16.0, 9.0]   \n7577    [182.8, 11.0, 25.0, 2.0, 15.0, 22.0, 7.0]   \n\n                                            ingredients  contributor_id  \\\n0     [Wheat flour, whole-grain, Sugars, granulated,...            1634   \n1     [Yeast extract spread, Beverages, water, tap, ...           19832   \n2     [Butter, without salt, Sugars, granulated, Egg...           17721   \n3     [Wheat flour, whole-grain, Egg, whole, raw, fr...          149363   \n4     [Wheat flour, whole-grain, Sugars, granulated,...            1634   \n...                                                 ...             ...   \n7573  [Potatoes, raw, skin, Cream, fluid, heavy whip...          102058   \n7574  [Potatoes, raw, skin, Cream, fluid, heavy whip...          102058   \n7575  [Potatoes, raw, skin, Onions, raw, Butter, wit...           61010   \n7576  [Beverages, coffee, brewed, breakfast blend, B...          327115   \n7577  [Peas, green, raw, Butter, without salt, Wheat...           11911   \n\n       submitted                                            similar  \\\n0     11/12/1999  [35653, 242, 296051, 293049, 203134, 289891, 2...   \n1     31/10/2001  [390932, 436030, 136796, 286865, 67072, 227248...   \n2     18/09/2001  [35653, 242, 296051, 293049, 56189, 19509, 154...   \n3     04/10/2005  [35653, 20238, 378058, 19104, 472363, 187678, ...   \n4     11/12/1999  [35653, 242, 296051, 293049, 203134, 289891, 2...   \n...          ...                                                ...   \n7573  05/12/2005                           [514824, 266718, 499776]   \n7574  05/12/2005                           [514824, 266718, 499776]   \n7575  18/04/2003  [275449, 199870, 45646, 133812, 21752, 392733,...   \n7576  24/08/2008                   [139517, 320954, 381696, 279911]   \n7577  30/06/2001  [31540, 91304, 89025, 27083, 192824, 31564, 11...   \n\n                                               combined  \\\n0     <name> pete s scratch pancakes <ingredients> f...   \n1     <name> beth s pizza crust <ingredients> yeast ...   \n2     <name> easy lemon pound cake <ingredients> but...   \n3     <name> ruhrei     mennonite scrambled eggs <in...   \n4     <name> pete s scratch pancakes <ingredients> f...   \n...                                                 ...   \n7573  <name> creamed mashed potatoes with spinach <i...   \n7574  <name> creamed mashed potatoes with spinach <i...   \n7575  <name> southern scalloped potatoes <ingredient...   \n7576  <name> mandarin mocha <ingredients> coffee cho...   \n7577  <name> creamed peas on toast <ingredients> gre...   \n\n                                              tokenized  \n0     [name, pete, scratch, pancakes, ingredients, f...  \n1     [name, beth, pizza, crust, ingredients, yeast,...  \n2     [name, easy, lemon, pound, cake, ingredients, ...  \n3     [name, ruhrei, mennonite, scrambled, eggs, ing...  \n4     [name, pete, scratch, pancakes, ingredients, f...  \n...                                                 ...  \n7573  [name, creamed, mashed, potatoes, with, spinac...  \n7574  [name, creamed, mashed, potatoes, with, spinac...  \n7575  [name, southern, scalloped, potatoes, ingredie...  \n7576  [name, mandarin, mocha, ingredients, coffee, c...  \n7577  [name, creamed, peas, on, toast, ingredients, ...  \n\n[7578 rows x 16 columns]",
      "text/html": "<div>\n<style scoped>\n    .dataframe tbody tr th:only-of-type {\n        vertical-align: middle;\n    }\n\n    .dataframe tbody tr th {\n        vertical-align: top;\n    }\n\n    .dataframe thead th {\n        text-align: right;\n    }\n</style>\n<table border=\"1\" class=\"dataframe\">\n  <thead>\n    <tr style=\"text-align: right;\">\n      <th></th>\n      <th>id</th>\n      <th>name</th>\n      <th>n_ingredients</th>\n      <th>ingredients_original</th>\n      <th>n_steps</th>\n      <th>steps</th>\n      <th>tags</th>\n      <th>minutes</th>\n      <th>description</th>\n      <th>nutrition</th>\n      <th>ingredients</th>\n      <th>contributor_id</th>\n      <th>submitted</th>\n      <th>similar</th>\n      <th>combined</th>\n      <th>tokenized</th>\n    </tr>\n  </thead>\n  <tbody>\n    <tr>\n      <th>0</th>\n      <td>5170</td>\n      <td>pete s scratch pancakes</td>\n      <td>7</td>\n      <td>[flour, sugar, salt, baking powder, eggs, butt...</td>\n      <td>4</td>\n      <td>[mix the dry items first, combine the eggs and...</td>\n      <td>[30-minutes-or-less, time-to-make, course, pre...</td>\n      <td>20</td>\n      <td>it was the fall of 1987 when pete nyhus walked...</td>\n      <td>[209.6, 12.0, 17.0, 13.0, 11.0, 23.0, 9.0]</td>\n      <td>[Wheat flour, whole-grain, Sugars, granulated,...</td>\n      <td>1634</td>\n      <td>11/12/1999</td>\n      <td>[35653, 242, 296051, 293049, 203134, 289891, 2...</td>\n      <td>&lt;name&gt; pete s scratch pancakes &lt;ingredients&gt; f...</td>\n      <td>[name, pete, scratch, pancakes, ingredients, f...</td>\n    </tr>\n    <tr>\n      <th>1</th>\n      <td>13546</td>\n      <td>beth s pizza crust</td>\n      <td>6</td>\n      <td>[yeast, water, flour, olive oil, sugar, salt]</td>\n      <td>9</td>\n      <td>[combine yeast and warm water, stir until diss...</td>\n      <td>[30-minutes-or-less, time-to-make, course, pre...</td>\n      <td>30</td>\n      <td>this is an excellent crust that requires no ti...</td>\n      <td>[1256.3, 19.0, 20.0, 97.0, 70.0, 9.0, 81.0]</td>\n      <td>[Yeast extract spread, Beverages, water, tap, ...</td>\n      <td>19832</td>\n      <td>31/10/2001</td>\n      <td>[390932, 436030, 136796, 286865, 67072, 227248...</td>\n      <td>&lt;name&gt; beth s pizza crust &lt;ingredients&gt; yeast ...</td>\n      <td>[name, beth, pizza, crust, ingredients, yeast,...</td>\n    </tr>\n    <tr>\n      <th>2</th>\n      <td>11763</td>\n      <td>easy lemon pound cake</td>\n      <td>8</td>\n      <td>[butter, sugar, eggs, lemon juice, salt, flour...</td>\n      <td>9</td>\n      <td>[mix together 1 cup sugar and butter, add eggs...</td>\n      <td>[weeknight, time-to-make, course, preparation,...</td>\n      <td>70</td>\n      <td>i have used this cake for so many different th...</td>\n      <td>[338.6, 20.0, 126.0, 10.0, 9.0, 40.0, 16.0]</td>\n      <td>[Butter, without salt, Sugars, granulated, Egg...</td>\n      <td>17721</td>\n      <td>18/09/2001</td>\n      <td>[35653, 242, 296051, 293049, 56189, 19509, 154...</td>\n      <td>&lt;name&gt; easy lemon pound cake &lt;ingredients&gt; but...</td>\n      <td>[name, easy, lemon, pound, cake, ingredients, ...</td>\n    </tr>\n    <tr>\n      <th>3</th>\n      <td>139989</td>\n      <td>ruhrei     mennonite scrambled eggs</td>\n      <td>5</td>\n      <td>[flour, eggs, salt, milk, butter]</td>\n      <td>7</td>\n      <td>[mix the flour and milk into a smooth paste , ...</td>\n      <td>[15-minutes-or-less, time-to-make, course, mai...</td>\n      <td>6</td>\n      <td>this is a different and delicious way to make ...</td>\n      <td>[249.2, 25.0, 1.0, 24.0, 29.0, 37.0, 3.0]</td>\n      <td>[Wheat flour, whole-grain, Egg, whole, raw, fr...</td>\n      <td>149363</td>\n      <td>04/10/2005</td>\n      <td>[35653, 20238, 378058, 19104, 472363, 187678, ...</td>\n      <td>&lt;name&gt; ruhrei     mennonite scrambled eggs &lt;in...</td>\n      <td>[name, ruhrei, mennonite, scrambled, eggs, ing...</td>\n    </tr>\n    <tr>\n      <th>4</th>\n      <td>5170</td>\n      <td>pete s scratch pancakes</td>\n      <td>7</td>\n      <td>[flour, sugar, salt, baking powder, eggs, butt...</td>\n      <td>4</td>\n      <td>[mix the dry items first, combine the eggs and...</td>\n      <td>[30-minutes-or-less, time-to-make, course, pre...</td>\n      <td>20</td>\n      <td>it was the fall of 1987 when pete nyhus walked...</td>\n      <td>[209.6, 12.0, 17.0, 13.0, 11.0, 23.0, 9.0]</td>\n      <td>[Wheat flour, whole-grain, Sugars, granulated,...</td>\n      <td>1634</td>\n      <td>11/12/1999</td>\n      <td>[35653, 242, 296051, 293049, 203134, 289891, 2...</td>\n      <td>&lt;name&gt; pete s scratch pancakes &lt;ingredients&gt; f...</td>\n      <td>[name, pete, scratch, pancakes, ingredients, f...</td>\n    </tr>\n    <tr>\n      <th>...</th>\n      <td>...</td>\n      <td>...</td>\n      <td>...</td>\n      <td>...</td>\n      <td>...</td>\n      <td>...</td>\n      <td>...</td>\n      <td>...</td>\n      <td>...</td>\n      <td>...</td>\n      <td>...</td>\n      <td>...</td>\n      <td>...</td>\n      <td>...</td>\n      <td>...</td>\n      <td>...</td>\n    </tr>\n    <tr>\n      <th>7573</th>\n      <td>147243</td>\n      <td>creamed mashed potatoes with spinach</td>\n      <td>6</td>\n      <td>[boiling potatoes, heavy cream, unsalted butte...</td>\n      <td>8</td>\n      <td>[cover potatoes with salted cold water by 1 in...</td>\n      <td>[60-minutes-or-less, time-to-make, course, mai...</td>\n      <td>50</td>\n      <td>boy, do we loves potatoes and spinach. when i ...</td>\n      <td>[383.7, 30.0, 8.0, 26.0, 11.0, 62.0, 15.0]</td>\n      <td>[Potatoes, raw, skin, Cream, fluid, heavy whip...</td>\n      <td>102058</td>\n      <td>05/12/2005</td>\n      <td>[514824, 266718, 499776]</td>\n      <td>&lt;name&gt; creamed mashed potatoes with spinach &lt;i...</td>\n      <td>[name, creamed, mashed, potatoes, with, spinac...</td>\n    </tr>\n    <tr>\n      <th>7574</th>\n      <td>147243</td>\n      <td>creamed mashed potatoes with spinach</td>\n      <td>6</td>\n      <td>[boiling potatoes, heavy cream, unsalted butte...</td>\n      <td>8</td>\n      <td>[cover potatoes with salted cold water by 1 in...</td>\n      <td>[60-minutes-or-less, time-to-make, course, mai...</td>\n      <td>50</td>\n      <td>boy, do we loves potatoes and spinach. when i ...</td>\n      <td>[383.7, 30.0, 8.0, 26.0, 11.0, 62.0, 15.0]</td>\n      <td>[Potatoes, raw, skin, Cream, fluid, heavy whip...</td>\n      <td>102058</td>\n      <td>05/12/2005</td>\n      <td>[514824, 266718, 499776]</td>\n      <td>&lt;name&gt; creamed mashed potatoes with spinach &lt;i...</td>\n      <td>[name, creamed, mashed, potatoes, with, spinac...</td>\n    </tr>\n    <tr>\n      <th>7575</th>\n      <td>60160</td>\n      <td>southern scalloped potatoes</td>\n      <td>6</td>\n      <td>[idaho potatoes, onions, butter, flour, milk, ...</td>\n      <td>9</td>\n      <td>[boil the potatoes until they're halfway done ...</td>\n      <td>[60-minutes-or-less, time-to-make, main-ingred...</td>\n      <td>50</td>\n      <td>this delicious casserole hasn't been \\r\\ncompr...</td>\n      <td>[226.4, 10.0, 12.0, 3.0, 11.0, 20.0, 12.0]</td>\n      <td>[Potatoes, raw, skin, Onions, raw, Butter, wit...</td>\n      <td>61010</td>\n      <td>18/04/2003</td>\n      <td>[275449, 199870, 45646, 133812, 21752, 392733,...</td>\n      <td>&lt;name&gt; southern scalloped potatoes &lt;ingredient...</td>\n      <td>[name, southern, scalloped, potatoes, ingredie...</td>\n    </tr>\n    <tr>\n      <th>7576</th>\n      <td>320957</td>\n      <td>mandarin mocha</td>\n      <td>5</td>\n      <td>[coffee, chocolate syrup, orange extract, milk...</td>\n      <td>6</td>\n      <td>[pour coffee into a cup, add chocolate syrup, ...</td>\n      <td>[15-minutes-or-less, time-to-make, course, pre...</td>\n      <td>5</td>\n      <td>chocolate, coffee, and orange flavors.  what c...</td>\n      <td>[187.1, 9.0, 50.0, 7.0, 9.0, 16.0, 9.0]</td>\n      <td>[Beverages, coffee, brewed, breakfast blend, B...</td>\n      <td>327115</td>\n      <td>24/08/2008</td>\n      <td>[139517, 320954, 381696, 279911]</td>\n      <td>&lt;name&gt; mandarin mocha &lt;ingredients&gt; coffee cho...</td>\n      <td>[name, mandarin, mocha, ingredients, coffee, c...</td>\n    </tr>\n    <tr>\n      <th>7577</th>\n      <td>9822</td>\n      <td>creamed peas on toast</td>\n      <td>7</td>\n      <td>[green peas, butter, flour, milk, toast, salt,...</td>\n      <td>6</td>\n      <td>[on stove in small pot melt butter and add flo...</td>\n      <td>[15-minutes-or-less, time-to-make, course, mai...</td>\n      <td>8</td>\n      <td>peas for lunch??</td>\n      <td>[182.8, 11.0, 25.0, 2.0, 15.0, 22.0, 7.0]</td>\n      <td>[Peas, green, raw, Butter, without salt, Wheat...</td>\n      <td>11911</td>\n      <td>30/06/2001</td>\n      <td>[31540, 91304, 89025, 27083, 192824, 31564, 11...</td>\n      <td>&lt;name&gt; creamed peas on toast &lt;ingredients&gt; gre...</td>\n      <td>[name, creamed, peas, on, toast, ingredients, ...</td>\n    </tr>\n  </tbody>\n</table>\n<p>7578 rows × 16 columns</p>\n</div>"
     },
     "execution_count": 135,
     "metadata": {},
     "output_type": "execute_result"
    }
   ],
   "source": [
    "bases_df"
   ],
   "metadata": {
    "collapsed": false
   }
  },
  {
   "cell_type": "code",
   "execution_count": 39,
   "outputs": [
    {
     "data": {
      "text/plain": "523"
     },
     "execution_count": 39,
     "metadata": {},
     "output_type": "execute_result"
    }
   ],
   "source": [
    "flattened_list = [item for sublist in df.tags for item in sublist]\n",
    "len(set(flattened_list))"
   ],
   "metadata": {
    "collapsed": false
   }
  },
  {
   "cell_type": "code",
   "execution_count": 20,
   "outputs": [],
   "source": [
    "survey_df = survey_df.drop_duplicates(subset = ['id', 'ingredient_to_replace', 'replacement'])"
   ],
   "metadata": {
    "collapsed": false
   }
  },
  {
   "cell_type": "code",
   "execution_count": 22,
   "outputs": [
    {
     "data": {
      "text/plain": "                                                title      id  rep_id  \\\n0                             pete s scratch pancakes    5170   37119   \n1                             pete s scratch pancakes    5170  212194   \n2                             pete s scratch pancakes    5170  203678   \n3                                  beth s pizza crust   13546  144943   \n4                                  beth s pizza crust   13546  377904   \n..                                                ...     ...     ...   \n540                            ooey gooey butter cake   56916  126977   \n541  rochelle s chocolate chip cookies  betty crocker   62232  118818   \n542  rochelle s chocolate chip cookies  betty crocker   62232  390636   \n543  rochelle s chocolate chip cookies  betty crocker   62232   79666   \n544                         lu s rum or bourbon balls  150853   18530   \n\n                                           ingredients  \\\n0    ['flour', 'sugar', 'salt', 'baking powder', 'e...   \n1    ['flour', 'sugar', 'salt', 'baking powder', 'e...   \n2    ['flour', 'sugar', 'salt', 'baking powder', 'e...   \n3    ['yeast', 'water', 'flour', 'olive oil', 'suga...   \n4    ['yeast', 'water', 'flour', 'olive oil', 'suga...   \n..                                                 ...   \n540  ['yellow cake mix', 'margarine', 'egg', 'pecan...   \n541  ['shortening', 'butter', 'sugar', 'brown sugar...   \n542  ['shortening', 'butter', 'sugar', 'brown sugar...   \n543  ['shortening', 'butter', 'sugar', 'brown sugar...   \n544  ['vanilla wafers', 'powdered sugar', 'cocoa', ...   \n\n                                          instructions ingredient_to_replace  \\\n0    [mix the dry items first, combine the eggs and...                butter   \n1    [mix the dry items first, combine the eggs and...                butter   \n2    [mix the dry items first, combine the eggs and...                butter   \n3    [combine yeast and warm water, stir until diss...             olive oil   \n4    [combine yeast and warm water, stir until diss...             olive oil   \n..                                                 ...                   ...   \n540  [mix first four ingredients, mixture will be t...                pecans   \n541  [preheat oven to 350 degrees f, mix shortening...                butter   \n542  [preheat oven to 350 degrees f, mix shortening...                butter   \n543  [preheat oven to 350 degrees f, mix shortening...                butter   \n544  [sift cocoa and sugar together, add the rest o...                   rum   \n\n     replacement  \n0      margarine  \n1    cooking oil  \n2            oil  \n3     shortening  \n4    cooking oil  \n..           ...  \n540  brown sugar  \n541    margarine  \n542         nuts  \n543      oatmeal  \n544      bourbon  \n\n[469 rows x 7 columns]",
      "text/html": "<div>\n<style scoped>\n    .dataframe tbody tr th:only-of-type {\n        vertical-align: middle;\n    }\n\n    .dataframe tbody tr th {\n        vertical-align: top;\n    }\n\n    .dataframe thead th {\n        text-align: right;\n    }\n</style>\n<table border=\"1\" class=\"dataframe\">\n  <thead>\n    <tr style=\"text-align: right;\">\n      <th></th>\n      <th>title</th>\n      <th>id</th>\n      <th>rep_id</th>\n      <th>ingredients</th>\n      <th>instructions</th>\n      <th>ingredient_to_replace</th>\n      <th>replacement</th>\n    </tr>\n  </thead>\n  <tbody>\n    <tr>\n      <th>0</th>\n      <td>pete s scratch pancakes</td>\n      <td>5170</td>\n      <td>37119</td>\n      <td>['flour', 'sugar', 'salt', 'baking powder', 'e...</td>\n      <td>[mix the dry items first, combine the eggs and...</td>\n      <td>butter</td>\n      <td>margarine</td>\n    </tr>\n    <tr>\n      <th>1</th>\n      <td>pete s scratch pancakes</td>\n      <td>5170</td>\n      <td>212194</td>\n      <td>['flour', 'sugar', 'salt', 'baking powder', 'e...</td>\n      <td>[mix the dry items first, combine the eggs and...</td>\n      <td>butter</td>\n      <td>cooking oil</td>\n    </tr>\n    <tr>\n      <th>2</th>\n      <td>pete s scratch pancakes</td>\n      <td>5170</td>\n      <td>203678</td>\n      <td>['flour', 'sugar', 'salt', 'baking powder', 'e...</td>\n      <td>[mix the dry items first, combine the eggs and...</td>\n      <td>butter</td>\n      <td>oil</td>\n    </tr>\n    <tr>\n      <th>3</th>\n      <td>beth s pizza crust</td>\n      <td>13546</td>\n      <td>144943</td>\n      <td>['yeast', 'water', 'flour', 'olive oil', 'suga...</td>\n      <td>[combine yeast and warm water, stir until diss...</td>\n      <td>olive oil</td>\n      <td>shortening</td>\n    </tr>\n    <tr>\n      <th>4</th>\n      <td>beth s pizza crust</td>\n      <td>13546</td>\n      <td>377904</td>\n      <td>['yeast', 'water', 'flour', 'olive oil', 'suga...</td>\n      <td>[combine yeast and warm water, stir until diss...</td>\n      <td>olive oil</td>\n      <td>cooking oil</td>\n    </tr>\n    <tr>\n      <th>...</th>\n      <td>...</td>\n      <td>...</td>\n      <td>...</td>\n      <td>...</td>\n      <td>...</td>\n      <td>...</td>\n      <td>...</td>\n    </tr>\n    <tr>\n      <th>540</th>\n      <td>ooey gooey butter cake</td>\n      <td>56916</td>\n      <td>126977</td>\n      <td>['yellow cake mix', 'margarine', 'egg', 'pecan...</td>\n      <td>[mix first four ingredients, mixture will be t...</td>\n      <td>pecans</td>\n      <td>brown sugar</td>\n    </tr>\n    <tr>\n      <th>541</th>\n      <td>rochelle s chocolate chip cookies  betty crocker</td>\n      <td>62232</td>\n      <td>118818</td>\n      <td>['shortening', 'butter', 'sugar', 'brown sugar...</td>\n      <td>[preheat oven to 350 degrees f, mix shortening...</td>\n      <td>butter</td>\n      <td>margarine</td>\n    </tr>\n    <tr>\n      <th>542</th>\n      <td>rochelle s chocolate chip cookies  betty crocker</td>\n      <td>62232</td>\n      <td>390636</td>\n      <td>['shortening', 'butter', 'sugar', 'brown sugar...</td>\n      <td>[preheat oven to 350 degrees f, mix shortening...</td>\n      <td>butter</td>\n      <td>nuts</td>\n    </tr>\n    <tr>\n      <th>543</th>\n      <td>rochelle s chocolate chip cookies  betty crocker</td>\n      <td>62232</td>\n      <td>79666</td>\n      <td>['shortening', 'butter', 'sugar', 'brown sugar...</td>\n      <td>[preheat oven to 350 degrees f, mix shortening...</td>\n      <td>butter</td>\n      <td>oatmeal</td>\n    </tr>\n    <tr>\n      <th>544</th>\n      <td>lu s rum or bourbon balls</td>\n      <td>150853</td>\n      <td>18530</td>\n      <td>['vanilla wafers', 'powdered sugar', 'cocoa', ...</td>\n      <td>[sift cocoa and sugar together, add the rest o...</td>\n      <td>rum</td>\n      <td>bourbon</td>\n    </tr>\n  </tbody>\n</table>\n<p>469 rows × 7 columns</p>\n</div>"
     },
     "execution_count": 22,
     "metadata": {},
     "output_type": "execute_result"
    }
   ],
   "source": [
    "survey_df"
   ],
   "metadata": {
    "collapsed": false
   }
  },
  {
   "cell_type": "code",
   "execution_count": 27,
   "outputs": [],
   "source": [
    "survey_df = pd.read_csv(r'C:\\Users\\01din\\PycharmProjects\\thesis\\data\\survey\\survey_dfs.csv')"
   ],
   "metadata": {
    "collapsed": false
   }
  },
  {
   "cell_type": "code",
   "execution_count": 29,
   "outputs": [
    {
     "data": {
      "text/plain": "     Unnamed: 0.1  Unnamed: 0                                           title  \\\n0               0           0                         pete s scratch pancakes   \n1               1           1                         pete s scratch pancakes   \n2               2           2                         pete s scratch pancakes   \n3               3           3                              beth s pizza crust   \n4               4           4                              beth s pizza crust   \n..            ...         ...                                             ...   \n515           583         583            kittencal s creamy vanilla milkshake   \n516           584         584            kittencal s creamy vanilla milkshake   \n517           586         586  terrific tuscan vegetable soup   ellie krieger   \n518           587         587                                 bauernfruhstuck   \n519           590         590                     ethiopian honey yeast bread   \n\n         id  rep_id                                        ingredients  \\\n0      5170   37119  frozenset({'Salt, table', 'Egg, whole, raw, fr...   \n1      5170  212194  frozenset({'Salt, table', 'Egg, whole, raw, fr...   \n2      5170  203678  frozenset({'Salt, table', 'Egg, whole, raw, fr...   \n3     13546  144943  frozenset({'Yeast extract spread', 'Beverages,...   \n4     13546  377904  frozenset({'Yeast extract spread', 'Beverages,...   \n..      ...     ...                                                ...   \n515  376850  240314  frozenset({'Sugars, granulated', 'Cream, fluid...   \n516  376850  458507  frozenset({'Sugars, granulated', 'Cream, fluid...   \n517  475171  475108  frozenset({'Spices, pepper, black', 'Tomatoes,...   \n518  422978  123467  frozenset({'Spices, pepper, black', 'Pork, cur...   \n519  171622  457086  frozenset({'Beverages, water, tap, municipal',...   \n\n                                          instructions  \\\n0    ['mix the dry items first', 'combine the eggs ...   \n1    ['mix the dry items first', 'combine the eggs ...   \n2    ['mix the dry items first', 'combine the eggs ...   \n3    ['combine yeast and warm water', 'stir until d...   \n4    ['combine yeast and warm water', 'stir until d...   \n..                                                 ...   \n515  ['in a blender combine all ingredients startin...   \n516  ['in a blender combine all ingredients startin...   \n517  ['in a small bowl mash half of the beans with ...   \n518  ['fry the bacon until crisp', 'remove and drai...   \n519  ['in a small bowl , sprinkle yeast over the wa...   \n\n        ingredient_to_replace     replacement  \n0                      butter       margarine  \n1                      butter     cooking oil  \n2                      butter             oil  \n3                   olive oil      shortening  \n4                   olive oil     cooking oil  \n..                        ...             ...  \n515         vanilla ice cream       egg yolks  \n516         vanilla ice cream            eggs  \n517  low sodium chicken broth         chicken  \n518                  potatoes  cheddar cheese  \n519         all-purpose flour           flour  \n\n[520 rows x 9 columns]",
      "text/html": "<div>\n<style scoped>\n    .dataframe tbody tr th:only-of-type {\n        vertical-align: middle;\n    }\n\n    .dataframe tbody tr th {\n        vertical-align: top;\n    }\n\n    .dataframe thead th {\n        text-align: right;\n    }\n</style>\n<table border=\"1\" class=\"dataframe\">\n  <thead>\n    <tr style=\"text-align: right;\">\n      <th></th>\n      <th>Unnamed: 0.1</th>\n      <th>Unnamed: 0</th>\n      <th>title</th>\n      <th>id</th>\n      <th>rep_id</th>\n      <th>ingredients</th>\n      <th>instructions</th>\n      <th>ingredient_to_replace</th>\n      <th>replacement</th>\n    </tr>\n  </thead>\n  <tbody>\n    <tr>\n      <th>0</th>\n      <td>0</td>\n      <td>0</td>\n      <td>pete s scratch pancakes</td>\n      <td>5170</td>\n      <td>37119</td>\n      <td>frozenset({'Salt, table', 'Egg, whole, raw, fr...</td>\n      <td>['mix the dry items first', 'combine the eggs ...</td>\n      <td>butter</td>\n      <td>margarine</td>\n    </tr>\n    <tr>\n      <th>1</th>\n      <td>1</td>\n      <td>1</td>\n      <td>pete s scratch pancakes</td>\n      <td>5170</td>\n      <td>212194</td>\n      <td>frozenset({'Salt, table', 'Egg, whole, raw, fr...</td>\n      <td>['mix the dry items first', 'combine the eggs ...</td>\n      <td>butter</td>\n      <td>cooking oil</td>\n    </tr>\n    <tr>\n      <th>2</th>\n      <td>2</td>\n      <td>2</td>\n      <td>pete s scratch pancakes</td>\n      <td>5170</td>\n      <td>203678</td>\n      <td>frozenset({'Salt, table', 'Egg, whole, raw, fr...</td>\n      <td>['mix the dry items first', 'combine the eggs ...</td>\n      <td>butter</td>\n      <td>oil</td>\n    </tr>\n    <tr>\n      <th>3</th>\n      <td>3</td>\n      <td>3</td>\n      <td>beth s pizza crust</td>\n      <td>13546</td>\n      <td>144943</td>\n      <td>frozenset({'Yeast extract spread', 'Beverages,...</td>\n      <td>['combine yeast and warm water', 'stir until d...</td>\n      <td>olive oil</td>\n      <td>shortening</td>\n    </tr>\n    <tr>\n      <th>4</th>\n      <td>4</td>\n      <td>4</td>\n      <td>beth s pizza crust</td>\n      <td>13546</td>\n      <td>377904</td>\n      <td>frozenset({'Yeast extract spread', 'Beverages,...</td>\n      <td>['combine yeast and warm water', 'stir until d...</td>\n      <td>olive oil</td>\n      <td>cooking oil</td>\n    </tr>\n    <tr>\n      <th>...</th>\n      <td>...</td>\n      <td>...</td>\n      <td>...</td>\n      <td>...</td>\n      <td>...</td>\n      <td>...</td>\n      <td>...</td>\n      <td>...</td>\n      <td>...</td>\n    </tr>\n    <tr>\n      <th>515</th>\n      <td>583</td>\n      <td>583</td>\n      <td>kittencal s creamy vanilla milkshake</td>\n      <td>376850</td>\n      <td>240314</td>\n      <td>frozenset({'Sugars, granulated', 'Cream, fluid...</td>\n      <td>['in a blender combine all ingredients startin...</td>\n      <td>vanilla ice cream</td>\n      <td>egg yolks</td>\n    </tr>\n    <tr>\n      <th>516</th>\n      <td>584</td>\n      <td>584</td>\n      <td>kittencal s creamy vanilla milkshake</td>\n      <td>376850</td>\n      <td>458507</td>\n      <td>frozenset({'Sugars, granulated', 'Cream, fluid...</td>\n      <td>['in a blender combine all ingredients startin...</td>\n      <td>vanilla ice cream</td>\n      <td>eggs</td>\n    </tr>\n    <tr>\n      <th>517</th>\n      <td>586</td>\n      <td>586</td>\n      <td>terrific tuscan vegetable soup   ellie krieger</td>\n      <td>475171</td>\n      <td>475108</td>\n      <td>frozenset({'Spices, pepper, black', 'Tomatoes,...</td>\n      <td>['in a small bowl mash half of the beans with ...</td>\n      <td>low sodium chicken broth</td>\n      <td>chicken</td>\n    </tr>\n    <tr>\n      <th>518</th>\n      <td>587</td>\n      <td>587</td>\n      <td>bauernfruhstuck</td>\n      <td>422978</td>\n      <td>123467</td>\n      <td>frozenset({'Spices, pepper, black', 'Pork, cur...</td>\n      <td>['fry the bacon until crisp', 'remove and drai...</td>\n      <td>potatoes</td>\n      <td>cheddar cheese</td>\n    </tr>\n    <tr>\n      <th>519</th>\n      <td>590</td>\n      <td>590</td>\n      <td>ethiopian honey yeast bread</td>\n      <td>171622</td>\n      <td>457086</td>\n      <td>frozenset({'Beverages, water, tap, municipal',...</td>\n      <td>['in a small bowl , sprinkle yeast over the wa...</td>\n      <td>all-purpose flour</td>\n      <td>flour</td>\n    </tr>\n  </tbody>\n</table>\n<p>520 rows × 9 columns</p>\n</div>"
     },
     "execution_count": 29,
     "metadata": {},
     "output_type": "execute_result"
    }
   ],
   "source": [
    "survey_df"
   ],
   "metadata": {
    "collapsed": false
   }
  },
  {
   "cell_type": "code",
   "execution_count": 3,
   "outputs": [],
   "source": [
    "new_survey_df = survey_df.drop_duplicates(subset=['ingredient_to_replace', 'replacement', 'title'])"
   ],
   "metadata": {
    "collapsed": false
   }
  },
  {
   "cell_type": "code",
   "execution_count": 31,
   "outputs": [],
   "source": [
    "updated_df = survey_df.merge(df[['id', 'ingredients_original']], on='id', how='left')\n",
    "\n",
    "# Overwrite the 'ingredients' column in 'survey_df' with the 'ingredients_original' column from 'updated_df'\n",
    "survey_df['ingredients'] = updated_df['ingredients_original']"
   ],
   "metadata": {
    "collapsed": false
   }
  },
  {
   "cell_type": "code",
   "execution_count": 5,
   "outputs": [],
   "source": [
    "new_survey_df.to_csv(r'C:\\Users\\01din\\PycharmProjects\\thesis\\data\\survey\\survey_dfs.csv')"
   ],
   "metadata": {
    "collapsed": false
   }
  },
  {
   "cell_type": "code",
   "execution_count": 33,
   "outputs": [],
   "source": [
    "survey_df.to_csv(r'C:\\Users\\01din\\PycharmProjects\\thesis\\data\\survey\\survey_dfs.csv')"
   ],
   "metadata": {
    "collapsed": false
   }
  }
 ],
 "metadata": {
  "kernelspec": {
   "display_name": "Python 3",
   "language": "python",
   "name": "python3"
  },
  "language_info": {
   "codemirror_mode": {
    "name": "ipython",
    "version": 2
   },
   "file_extension": ".py",
   "mimetype": "text/x-python",
   "name": "python",
   "nbconvert_exporter": "python",
   "pygments_lexer": "ipython2",
   "version": "2.7.6"
  }
 },
 "nbformat": 4,
 "nbformat_minor": 0
}
