{
 "cells": [
  {
   "cell_type": "code",
   "execution_count": 1,
   "metadata": {
    "collapsed": true
   },
   "outputs": [],
   "source": [
    "import pandas as pd\n",
    "from ast import literal_eval\n",
    "\n",
    "generic = lambda x: literal_eval(x)\n",
    "conv = {'nutrition' : generic, 'steps' : generic, 'ingredients_original' : generic, 'id_column' : generic, 'ingredients' : generic, 'similar' : generic}\n",
    "df = pd.read_csv(r\"C:\\Users\\01din\\PycharmProjects\\thesis\\data\\cleaned_recipes\\recipes_with_JS.csv\", converters=conv)\n",
    "ingredients = pd.read_csv(r\"C:\\Users\\01din\\PycharmProjects\\thesis\\data\\ingredients\\ingredients_nutrition.csv\")"
   ]
  },
  {
   "cell_type": "markdown",
   "source": [
    "The most interesting things are recipes which differ on exactly 1 ingredient. Let's filter those."
   ],
   "metadata": {
    "collapsed": false
   }
  },
  {
   "cell_type": "code",
   "execution_count": 42,
   "outputs": [
    {
     "name": "stderr",
     "output_type": "stream",
     "text": [
      "100%|██████████| 144188/144188 [02:44<00:00, 875.88it/s] \n"
     ]
    }
   ],
   "source": [
    "from tqdm import tqdm\n",
    "\n",
    "#Function to compare ingredient sets and check if they differ by only one ingredient\n",
    "def differ_by_one(ingredients1, ingredients2):\n",
    "    return len(ingredients1 ^ ingredients2) == 2\n",
    "\n",
    "row_dict = {row['id']: row for _, row in df.iterrows()}\n",
    "#Convert ingredient lists to sets\n",
    "for row_id in row_dict:\n",
    "    row_dict[row_id]['ingredients'] = set(row_dict[row_id]['ingredients'])\n",
    "\n",
    "#Extract sets of recipes that differ by only one ingredient\n",
    "result = []\n",
    "\n",
    "#Prevent double checking\n",
    "checked_pairs = set()\n",
    "\n",
    "#Iterate through the DataFrame, comparing each recipe to each other\n",
    "for row1 in tqdm(row_dict.values(), total=len(df), desc=\"Processing rows\"):\n",
    "    for similar_id in row1['similar']:\n",
    "        pair = frozenset([row1['id'], similar_id])\n",
    "        if pair not in checked_pairs:\n",
    "            row2 = row_dict[similar_id]\n",
    "            if differ_by_one(row1['ingredients'], row2['ingredients']):\n",
    "                recipe_set = sorted([row1['id'], row2['id']])\n",
    "                result.append(recipe_set)\n",
    "            checked_pairs.add(pair)\n"
   ],
   "metadata": {
    "collapsed": false
   }
  },
  {
   "cell_type": "code",
   "execution_count": 1,
   "outputs": [
    {
     "ename": "NameError",
     "evalue": "name 'result' is not defined",
     "output_type": "error",
     "traceback": [
      "\u001B[1;31m---------------------------------------------------------------------------\u001B[0m",
      "\u001B[1;31mNameError\u001B[0m                                 Traceback (most recent call last)",
      "Cell \u001B[1;32mIn[1], line 11\u001B[0m\n\u001B[0;32m      8\u001B[0m writer \u001B[38;5;241m=\u001B[39m csv\u001B[38;5;241m.\u001B[39mwriter(file)\n\u001B[0;32m     10\u001B[0m \u001B[38;5;66;03m# Write each row of results to the CSV file\u001B[39;00m\n\u001B[1;32m---> 11\u001B[0m \u001B[38;5;28;01mfor\u001B[39;00m row \u001B[38;5;129;01min\u001B[39;00m \u001B[43mresult\u001B[49m:\n\u001B[0;32m     12\u001B[0m     writer\u001B[38;5;241m.\u001B[39mwriterow(row)\n",
      "\u001B[1;31mNameError\u001B[0m: name 'result' is not defined"
     ]
    }
   ],
   "source": [
    "import csv\n",
    "\n",
    "path = r'C:\\Users\\01din\\PycharmProjects\\thesis\\data\\similar\\ids_one_difference.csv'\n",
    "\n",
    "#Open the CSV file for writing\n",
    "with open(path, 'w', newline='') as file:\n",
    "    #Create a CSV writer object\n",
    "    writer = csv.writer(file)\n",
    "\n",
    "    #Write each row of results to the CSV file\n",
    "    for row in result:\n",
    "        writer.writerow(row)"
   ],
   "metadata": {
    "collapsed": false
   }
  },
  {
   "cell_type": "markdown",
   "source": [
    "We can also create sets of recipes, where they all differ on the same ingredient.\n",
    "This essentially finds all recipes which have the same ingredients A,B,C and then a different ingredient for D"
   ],
   "metadata": {
    "collapsed": false
   }
  },
  {
   "cell_type": "code",
   "execution_count": 2,
   "outputs": [
    {
     "name": "stderr",
     "output_type": "stream",
     "text": [
      "100%|██████████| 144188/144188 [01:29<00:00, 1619.88it/s] \n"
     ]
    }
   ],
   "source": [
    "import pandas as pd\n",
    "from tqdm import tqdm\n",
    "\n",
    "#Dictionary to store groups of similar recipes\n",
    "recipe_groups = {}\n",
    "\n",
    "#Set to keep track of processed recipes\n",
    "processed_recipes = set()\n",
    "\n",
    "for _, row in tqdm(df.iterrows(), total=df.shape[0]):\n",
    "\n",
    "    recipe_id = row['id']\n",
    "    ingredient_set = set(row['ingredients'])\n",
    "\n",
    "    #Check for similar recipes based on the 'similar' column\n",
    "    for similar_id in row['similar']:\n",
    "        #Skip the iteration if the similar recipe has already been processed\n",
    "        if similar_id in processed_recipes:\n",
    "            continue\n",
    "\n",
    "        similar_ingredient_set = set(df[df['id'] == similar_id].ingredients.values[0])\n",
    "        if len(ingredient_set) == len(similar_ingredient_set):\n",
    "            #Find the different ingredient\n",
    "            difference = ingredient_set ^ similar_ingredient_set\n",
    "            #Check if the number of different ingredients is exactly 1\n",
    "            if len(difference) == 2:\n",
    "                similar_ingredients = ingredient_set.intersection(similar_ingredient_set)\n",
    "                if frozenset(similar_ingredients) not in recipe_groups:\n",
    "                    recipe_groups[frozenset(similar_ingredients)] = set()\n",
    "                diff_list = list(difference)\n",
    "                if diff_list[0] not in ingredient_set:\n",
    "                    diff_list.reverse()\n",
    "                recipe_groups[frozenset(similar_ingredients)].add(tuple([diff_list[0], recipe_id]))\n",
    "                recipe_groups[frozenset(similar_ingredients)].add(tuple([diff_list[1], similar_id]))\n",
    "\n",
    "    #Add the current recipe_id to the processed_recipes set\n",
    "    processed_recipes.add(recipe_id)\n"
   ],
   "metadata": {
    "collapsed": false
   }
  },
  {
   "cell_type": "markdown",
   "source": [
    "This dataframe will hold the ingredients which are the same in Key, and then in Tuples it holds a list of tuples, with [0] as the missing ingredient and [1] as the recipe id from which that ingredient comes"
   ],
   "metadata": {
    "collapsed": false
   }
  },
  {
   "cell_type": "code",
   "execution_count": 9,
   "outputs": [],
   "source": [
    "rows = []\n",
    "for key, value in recipe_groups.items():\n",
    "    rows.append([key, value])\n",
    "\n",
    "df_group = pd.DataFrame(rows, columns=[\"Key\", \"Tuples\"])\n",
    "df_group.Tuples = df_group.Tuples.apply(list)"
   ],
   "metadata": {
    "collapsed": false
   }
  },
  {
   "cell_type": "code",
   "execution_count": 19,
   "outputs": [
    {
     "data": {
      "text/plain": "                                                     Key  \\\n0      (Salt, table, Spices, pepper, black, Potatoes,...   \n1      (Spices, pepper, white, Lemon juice, raw, Salt...   \n2      (Salt, table, Lemon juice, raw, Egg, yolk, raw...   \n3      (Salt, table, Wheat flour, whole-grain, Sugars...   \n4      (Wheat flour, whole-grain, Sugars, granulated,...   \n...                                                  ...   \n12226  (Nuts, walnuts, english, Dates, medjool, Spice...   \n12227  (Spices, oregano, dried, Basil, fresh, Onions,...   \n12228  (Sugars, granulated, Oil, corn, peanut, and ol...   \n12229  (Oil, coconut, Sugars, granulated, Vanilla ext...   \n12230  (Lemon juice, raw, Sugars, granulated, Squash,...   \n\n                                                  Tuples  \n0      [(Milk, reduced fat, fluid, 2% milkfat, with a...  \n1      [(Beans, snap, green, raw, 454753), (Parsley, ...  \n2      [(Spices, pepper, black, 156420), (Spices, pep...  \n3      [(Vegetable oil, palm kernel, 238576), (Oil, c...  \n4      [(Spices, caraway seed, 19509), (Vanilla extra...  \n...                                                  ...  \n12226  [(Yogurt, vanilla, non-fat, 310162), (Yogurt, ...  \n12227  [(Margarine-like, butter-margarine blend, 80% ...  \n12228  [(Basil, fresh, 378410), (Spices, poultry seas...  \n12229  [(Puddings, rice, dry mix, 95938), (Raisins, g...  \n12230  [(Wheat flour, white, all-purpose, unenriched,...  \n\n[12231 rows x 2 columns]",
      "text/html": "<div>\n<style scoped>\n    .dataframe tbody tr th:only-of-type {\n        vertical-align: middle;\n    }\n\n    .dataframe tbody tr th {\n        vertical-align: top;\n    }\n\n    .dataframe thead th {\n        text-align: right;\n    }\n</style>\n<table border=\"1\" class=\"dataframe\">\n  <thead>\n    <tr style=\"text-align: right;\">\n      <th></th>\n      <th>Key</th>\n      <th>Tuples</th>\n    </tr>\n  </thead>\n  <tbody>\n    <tr>\n      <th>0</th>\n      <td>(Salt, table, Spices, pepper, black, Potatoes,...</td>\n      <td>[(Milk, reduced fat, fluid, 2% milkfat, with a...</td>\n    </tr>\n    <tr>\n      <th>1</th>\n      <td>(Spices, pepper, white, Lemon juice, raw, Salt...</td>\n      <td>[(Beans, snap, green, raw, 454753), (Parsley, ...</td>\n    </tr>\n    <tr>\n      <th>2</th>\n      <td>(Salt, table, Lemon juice, raw, Egg, yolk, raw...</td>\n      <td>[(Spices, pepper, black, 156420), (Spices, pep...</td>\n    </tr>\n    <tr>\n      <th>3</th>\n      <td>(Salt, table, Wheat flour, whole-grain, Sugars...</td>\n      <td>[(Vegetable oil, palm kernel, 238576), (Oil, c...</td>\n    </tr>\n    <tr>\n      <th>4</th>\n      <td>(Wheat flour, whole-grain, Sugars, granulated,...</td>\n      <td>[(Spices, caraway seed, 19509), (Vanilla extra...</td>\n    </tr>\n    <tr>\n      <th>...</th>\n      <td>...</td>\n      <td>...</td>\n    </tr>\n    <tr>\n      <th>12226</th>\n      <td>(Nuts, walnuts, english, Dates, medjool, Spice...</td>\n      <td>[(Yogurt, vanilla, non-fat, 310162), (Yogurt, ...</td>\n    </tr>\n    <tr>\n      <th>12227</th>\n      <td>(Spices, oregano, dried, Basil, fresh, Onions,...</td>\n      <td>[(Margarine-like, butter-margarine blend, 80% ...</td>\n    </tr>\n    <tr>\n      <th>12228</th>\n      <td>(Sugars, granulated, Oil, corn, peanut, and ol...</td>\n      <td>[(Basil, fresh, 378410), (Spices, poultry seas...</td>\n    </tr>\n    <tr>\n      <th>12229</th>\n      <td>(Oil, coconut, Sugars, granulated, Vanilla ext...</td>\n      <td>[(Puddings, rice, dry mix, 95938), (Raisins, g...</td>\n    </tr>\n    <tr>\n      <th>12230</th>\n      <td>(Lemon juice, raw, Sugars, granulated, Squash,...</td>\n      <td>[(Wheat flour, white, all-purpose, unenriched,...</td>\n    </tr>\n  </tbody>\n</table>\n<p>12231 rows × 2 columns</p>\n</div>"
     },
     "execution_count": 19,
     "metadata": {},
     "output_type": "execute_result"
    }
   ],
   "source": [
    "df_group"
   ],
   "metadata": {
    "collapsed": false
   }
  },
  {
   "cell_type": "markdown",
   "source": [
    "Remove herbs and spices differences"
   ],
   "metadata": {
    "collapsed": false
   }
  },
  {
   "cell_type": "code",
   "execution_count": 21,
   "outputs": [],
   "source": [
    "def is_in_herbs_and_spices(ingredient):\n",
    "    category = ingredients.loc[ingredients['Long_Desc'] == ingredient, 'FdGrp_Desc'].values\n",
    "    return len(category) > 0 and category[0] == \"Spices and Herbs\"\n",
    "df_group['Tuples'] = df_group['Tuples'].apply(lambda tuples: [t for t in tuples if not is_in_herbs_and_spices(t[0])])\n",
    "df_group = df_group[df_group['Tuples'].apply(len) > 1]"
   ],
   "metadata": {
    "collapsed": false
   }
  },
  {
   "cell_type": "code",
   "execution_count": 22,
   "outputs": [
    {
     "data": {
      "text/plain": "                                                     Key  \\\n0      (Salt, table, Spices, pepper, black, Potatoes,...   \n1      (Spices, pepper, white, Lemon juice, raw, Salt...   \n3      (Salt, table, Wheat flour, whole-grain, Sugars...   \n4      (Wheat flour, whole-grain, Sugars, granulated,...   \n5      (Salt, table, Wheat flour, whole-grain, Sugars...   \n...                                                  ...   \n12225  (Beverages, water, tap, municipal, Wheat flour...   \n12226  (Nuts, walnuts, english, Dates, medjool, Spice...   \n12227  (Spices, oregano, dried, Basil, fresh, Onions,...   \n12229  (Oil, coconut, Sugars, granulated, Vanilla ext...   \n12230  (Lemon juice, raw, Sugars, granulated, Squash,...   \n\n                                                  Tuples  \n0      [(Milk, reduced fat, fluid, 2% milkfat, with a...  \n1      [(Beans, snap, green, raw, 454753), (Parsley, ...  \n3      [(Vegetable oil, palm kernel, 238576), (Oil, c...  \n4      [(Bread, cinnamon, 285997), (Strawberries, raw...  \n5      [(Milk, whole, 3.25% milkfat, with added vitam...  \n...                                                  ...  \n12225  [(Butter, without salt, 503263), (Oil, coconut...  \n12226  [(Yogurt, vanilla, non-fat, 310162), (Yogurt, ...  \n12227  [(Margarine-like, butter-margarine blend, 80% ...  \n12229  [(Puddings, rice, dry mix, 95938), (Raisins, g...  \n12230  [(Wheat flour, white, all-purpose, unenriched,...  \n\n[9430 rows x 2 columns]",
      "text/html": "<div>\n<style scoped>\n    .dataframe tbody tr th:only-of-type {\n        vertical-align: middle;\n    }\n\n    .dataframe tbody tr th {\n        vertical-align: top;\n    }\n\n    .dataframe thead th {\n        text-align: right;\n    }\n</style>\n<table border=\"1\" class=\"dataframe\">\n  <thead>\n    <tr style=\"text-align: right;\">\n      <th></th>\n      <th>Key</th>\n      <th>Tuples</th>\n    </tr>\n  </thead>\n  <tbody>\n    <tr>\n      <th>0</th>\n      <td>(Salt, table, Spices, pepper, black, Potatoes,...</td>\n      <td>[(Milk, reduced fat, fluid, 2% milkfat, with a...</td>\n    </tr>\n    <tr>\n      <th>1</th>\n      <td>(Spices, pepper, white, Lemon juice, raw, Salt...</td>\n      <td>[(Beans, snap, green, raw, 454753), (Parsley, ...</td>\n    </tr>\n    <tr>\n      <th>3</th>\n      <td>(Salt, table, Wheat flour, whole-grain, Sugars...</td>\n      <td>[(Vegetable oil, palm kernel, 238576), (Oil, c...</td>\n    </tr>\n    <tr>\n      <th>4</th>\n      <td>(Wheat flour, whole-grain, Sugars, granulated,...</td>\n      <td>[(Bread, cinnamon, 285997), (Strawberries, raw...</td>\n    </tr>\n    <tr>\n      <th>5</th>\n      <td>(Salt, table, Wheat flour, whole-grain, Sugars...</td>\n      <td>[(Milk, whole, 3.25% milkfat, with added vitam...</td>\n    </tr>\n    <tr>\n      <th>...</th>\n      <td>...</td>\n      <td>...</td>\n    </tr>\n    <tr>\n      <th>12225</th>\n      <td>(Beverages, water, tap, municipal, Wheat flour...</td>\n      <td>[(Butter, without salt, 503263), (Oil, coconut...</td>\n    </tr>\n    <tr>\n      <th>12226</th>\n      <td>(Nuts, walnuts, english, Dates, medjool, Spice...</td>\n      <td>[(Yogurt, vanilla, non-fat, 310162), (Yogurt, ...</td>\n    </tr>\n    <tr>\n      <th>12227</th>\n      <td>(Spices, oregano, dried, Basil, fresh, Onions,...</td>\n      <td>[(Margarine-like, butter-margarine blend, 80% ...</td>\n    </tr>\n    <tr>\n      <th>12229</th>\n      <td>(Oil, coconut, Sugars, granulated, Vanilla ext...</td>\n      <td>[(Puddings, rice, dry mix, 95938), (Raisins, g...</td>\n    </tr>\n    <tr>\n      <th>12230</th>\n      <td>(Lemon juice, raw, Sugars, granulated, Squash,...</td>\n      <td>[(Wheat flour, white, all-purpose, unenriched,...</td>\n    </tr>\n  </tbody>\n</table>\n<p>9430 rows × 2 columns</p>\n</div>"
     },
     "execution_count": 22,
     "metadata": {},
     "output_type": "execute_result"
    }
   ],
   "source": [
    "df_group"
   ],
   "metadata": {
    "collapsed": false
   }
  },
  {
   "cell_type": "markdown",
   "source": [
    "This was pickled and turned into better formatting in the explore_sets notebook"
   ],
   "metadata": {
    "collapsed": false
   }
  },
  {
   "cell_type": "code",
   "execution_count": 23,
   "outputs": [],
   "source": [
    "df_group.to_pickle(r'C:\\Users\\01din\\PycharmProjects\\thesis\\data\\similar\\similar_sets_pickle.csv')"
   ],
   "metadata": {
    "collapsed": false
   }
  },
  {
   "cell_type": "code",
   "execution_count": 41,
   "outputs": [],
   "source": [
    "df_group.to_csv(r'C:\\Users\\01din\\PycharmProjects\\thesis\\data\\similar/similar_sets.csv', index=False)"
   ],
   "metadata": {
    "collapsed": false
   }
  }
 ],
 "metadata": {
  "kernelspec": {
   "display_name": "Python 3",
   "language": "python",
   "name": "python3"
  },
  "language_info": {
   "codemirror_mode": {
    "name": "ipython",
    "version": 2
   },
   "file_extension": ".py",
   "mimetype": "text/x-python",
   "name": "python",
   "nbconvert_exporter": "python",
   "pygments_lexer": "ipython2",
   "version": "2.7.6"
  }
 },
 "nbformat": 4,
 "nbformat_minor": 0
}
