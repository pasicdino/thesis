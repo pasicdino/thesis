{
 "cells": [
  {
   "cell_type": "markdown",
   "source": [
    "To have less noise in the data, the ingredients will be categorized. Each ingredient will be matched with an ingredient in the USDA database.\n",
    "This will lead to:\n",
    "#### Less unique ingredients\n",
    "Ingredients which are very similar will become the same, be it two extremely similar ingredients (large egg, egg), two different words representing the same ingredient (eggplant, aubergine), or differences in spelling (eggs, egg)\n",
    "#### Give the food category\n",
    "Each USDA item is linked to a category, so if we link each ingredient to a USDA item, we know the category of the ingredient\n",
    "#### Allow the extraction of nutritional information\n",
    "The USDA database has nutritional information of all of its items which can be fetched through their API"
   ],
   "metadata": {
    "collapsed": false
   }
  },
  {
   "cell_type": "code",
   "execution_count": 1,
   "metadata": {
    "collapsed": true
   },
   "outputs": [],
   "source": [
    "import pandas as pd\n",
    "from ast import literal_eval\n",
    "\n",
    "generic = lambda x: literal_eval(x)\n",
    "conv = {'nutrition' : generic, 'steps' : generic, 'ingredients' : generic, 'id_column' : generic, 'jaccard_similarity' : generic}\n",
    "df = pd.read_csv(\"C:/Users/01din\\Documents/University\\BSc thesis\\data\\RAW_recipes.csv/ingredients/ingredients.csv\")\n",
    "df = df[['ingredient', 'frequency']]\n",
    "cats = pd.read_csv(\"C:/Users/01din\\Documents/University\\BSc thesis\\pap\\input/food_category.csv\")"
   ]
  },
  {
   "cell_type": "code",
   "execution_count": 23,
   "outputs": [],
   "source": [
    "df = df[df.frequency>49]"
   ],
   "metadata": {
    "collapsed": false
   }
  },
  {
   "cell_type": "code",
   "execution_count": 24,
   "outputs": [
    {
     "data": {
      "text/plain": "                            ingredient  frequency\n0                                 salt      85746\n1                               butter      54975\n2                                sugar      44535\n3                                onion      39065\n4                                water      34914\n...                                ...        ...\n2712  low-sodium low-fat chicken broth         50\n2713                     scotch whisky         50\n2714     sugar-free strawberry gelatin         50\n2715                   frying chickens         50\n2716                      veal cutlets         50\n\n[2717 rows x 2 columns]",
      "text/html": "<div>\n<style scoped>\n    .dataframe tbody tr th:only-of-type {\n        vertical-align: middle;\n    }\n\n    .dataframe tbody tr th {\n        vertical-align: top;\n    }\n\n    .dataframe thead th {\n        text-align: right;\n    }\n</style>\n<table border=\"1\" class=\"dataframe\">\n  <thead>\n    <tr style=\"text-align: right;\">\n      <th></th>\n      <th>ingredient</th>\n      <th>frequency</th>\n    </tr>\n  </thead>\n  <tbody>\n    <tr>\n      <th>0</th>\n      <td>salt</td>\n      <td>85746</td>\n    </tr>\n    <tr>\n      <th>1</th>\n      <td>butter</td>\n      <td>54975</td>\n    </tr>\n    <tr>\n      <th>2</th>\n      <td>sugar</td>\n      <td>44535</td>\n    </tr>\n    <tr>\n      <th>3</th>\n      <td>onion</td>\n      <td>39065</td>\n    </tr>\n    <tr>\n      <th>4</th>\n      <td>water</td>\n      <td>34914</td>\n    </tr>\n    <tr>\n      <th>...</th>\n      <td>...</td>\n      <td>...</td>\n    </tr>\n    <tr>\n      <th>2712</th>\n      <td>low-sodium low-fat chicken broth</td>\n      <td>50</td>\n    </tr>\n    <tr>\n      <th>2713</th>\n      <td>scotch whisky</td>\n      <td>50</td>\n    </tr>\n    <tr>\n      <th>2714</th>\n      <td>sugar-free strawberry gelatin</td>\n      <td>50</td>\n    </tr>\n    <tr>\n      <th>2715</th>\n      <td>frying chickens</td>\n      <td>50</td>\n    </tr>\n    <tr>\n      <th>2716</th>\n      <td>veal cutlets</td>\n      <td>50</td>\n    </tr>\n  </tbody>\n</table>\n<p>2717 rows × 2 columns</p>\n</div>"
     },
     "execution_count": 24,
     "metadata": {},
     "output_type": "execute_result"
    }
   ],
   "source": [
    "df"
   ],
   "metadata": {
    "collapsed": false
   }
  },
  {
   "cell_type": "code",
   "execution_count": 72,
   "outputs": [
    {
     "name": "stderr",
     "output_type": "stream",
     "text": [
      "Finding best match: 100%|██████████| 50/50 [00:09<00:00,  5.39it/s]\n"
     ]
    }
   ],
   "source": [
    "import re\n",
    "from tqdm import tqdm\n",
    "import numpy as np\n",
    "\n",
    "def preprocess(text):\n",
    "    text = text.lower()\n",
    "    text = re.sub(r'[^\\w\\s]', '', text)\n",
    "    tokens = text.split()\n",
    "    return tokens\n",
    "\n",
    "def jaccard_similarity(a, b):\n",
    "    a, b = set(a), set(b)\n",
    "    intersection = a.intersection(b)\n",
    "    union = a.union(b)\n",
    "    return len(intersection) / len(union)\n",
    "\n",
    "#Preprocess the ingredients and category descriptions\n",
    "df['ingredient_tokens'] = df['ingredient'].apply(preprocess)\n",
    "cats['Long_Desc_tokens'] = cats['Long_Desc'].apply(preprocess)\n",
    "\n",
    "#Create a function to find the best matching category for each ingredient\n",
    "def find_best_match(ingredient_tokens, threshold=0.0):\n",
    "    best_score = threshold\n",
    "    best_category = None\n",
    "\n",
    "    #Group the categories by FdGrp_Desc\n",
    "    grouped_cats = cats.groupby('FdGrp_Desc')\n",
    "\n",
    "    for category, group in grouped_cats:\n",
    "        #Compute average similarity for each category\n",
    "        similarities = []\n",
    "        for idx, row in group.iterrows():\n",
    "            first_four_tokens = row['Long_Desc_tokens'][:4]\n",
    "            similarity = jaccard_similarity(ingredient_tokens, first_four_tokens)\n",
    "            similarities.append(similarity)\n",
    "        avg_similarity = np.mean(similarities)\n",
    "\n",
    "        if avg_similarity > best_score:\n",
    "            best_score = avg_similarity\n",
    "            best_category = category\n",
    "\n",
    "    return best_category\n",
    "\n",
    "#For progress\n",
    "tqdm.pandas(desc=\"Finding best match\")\n",
    "df['category'] = df['ingredient_tokens'].progress_apply(find_best_match)\n",
    "\n",
    "#Drop temp columns\n",
    "df.drop(columns=['ingredient_tokens'], inplace=True)\n",
    "cats.drop(columns=['Long_Desc_tokens'], inplace=True)\n"
   ],
   "metadata": {
    "collapsed": false
   }
  },
  {
   "cell_type": "markdown",
   "source": [
    "results are quite poor. let's try to instead use another similarity measure"
   ],
   "metadata": {
    "collapsed": false
   }
  },
  {
   "cell_type": "code",
   "execution_count": 7,
   "outputs": [
    {
     "data": {
      "text/plain": "                            ingredient  frequency\n0                                 salt      85746\n1                               butter      54975\n2                                sugar      44535\n3                                onion      39065\n4                                water      34914\n...                                ...        ...\n2712  low-sodium low-fat chicken broth         50\n2713                     scotch whisky         50\n2714     sugar-free strawberry gelatin         50\n2715                   frying chickens         50\n2716                      veal cutlets         50\n\n[2717 rows x 2 columns]",
      "text/html": "<div>\n<style scoped>\n    .dataframe tbody tr th:only-of-type {\n        vertical-align: middle;\n    }\n\n    .dataframe tbody tr th {\n        vertical-align: top;\n    }\n\n    .dataframe thead th {\n        text-align: right;\n    }\n</style>\n<table border=\"1\" class=\"dataframe\">\n  <thead>\n    <tr style=\"text-align: right;\">\n      <th></th>\n      <th>ingredient</th>\n      <th>frequency</th>\n    </tr>\n  </thead>\n  <tbody>\n    <tr>\n      <th>0</th>\n      <td>salt</td>\n      <td>85746</td>\n    </tr>\n    <tr>\n      <th>1</th>\n      <td>butter</td>\n      <td>54975</td>\n    </tr>\n    <tr>\n      <th>2</th>\n      <td>sugar</td>\n      <td>44535</td>\n    </tr>\n    <tr>\n      <th>3</th>\n      <td>onion</td>\n      <td>39065</td>\n    </tr>\n    <tr>\n      <th>4</th>\n      <td>water</td>\n      <td>34914</td>\n    </tr>\n    <tr>\n      <th>...</th>\n      <td>...</td>\n      <td>...</td>\n    </tr>\n    <tr>\n      <th>2712</th>\n      <td>low-sodium low-fat chicken broth</td>\n      <td>50</td>\n    </tr>\n    <tr>\n      <th>2713</th>\n      <td>scotch whisky</td>\n      <td>50</td>\n    </tr>\n    <tr>\n      <th>2714</th>\n      <td>sugar-free strawberry gelatin</td>\n      <td>50</td>\n    </tr>\n    <tr>\n      <th>2715</th>\n      <td>frying chickens</td>\n      <td>50</td>\n    </tr>\n    <tr>\n      <th>2716</th>\n      <td>veal cutlets</td>\n      <td>50</td>\n    </tr>\n  </tbody>\n</table>\n<p>2717 rows × 2 columns</p>\n</div>"
     },
     "execution_count": 7,
     "metadata": {},
     "output_type": "execute_result"
    }
   ],
   "source": [
    "df"
   ],
   "metadata": {
    "collapsed": false
   }
  },
  {
   "cell_type": "markdown",
   "source": [],
   "metadata": {
    "collapsed": false
   }
  },
  {
   "cell_type": "code",
   "execution_count": 20,
   "outputs": [],
   "source": [
    "from sklearn.feature_extraction.text import TfidfVectorizer\n",
    "from sklearn.metrics.pairwise import cosine_similarity\n",
    "\n",
    "#Assuming the ingredients from OpenFoodFacts and USDA are in a pandas DataFrame\n",
    "#df['ingredient'] contains ingredients from my dataset\n",
    "#cats['Long_Desc'] contains ingredients from USDA\n",
    "#cats['FdGrp_Desc'] contains the food group descriptions for USDA ingredients\n",
    "\n",
    "#Use sklearn TFIDF\n",
    "vectorizer = TfidfVectorizer(ngram_range=(1, 4))\n",
    "\n",
    "#Combine data into a matrix\n",
    "combined_data = pd.concat([df['ingredient'], cats['Long_Desc']])\n",
    "\n",
    "#Vectorize\n",
    "vectorized_data = vectorizer.fit_transform(combined_data)\n",
    "\n",
    "#Split back into two vectors\n",
    "ingredient_vectors = vectorized_data[:len(df['ingredient'])]\n",
    "usda_vectors = vectorized_data[len(df['ingredient']):]\n",
    "\n",
    "#Compute cosine sim\n",
    "cosine_sim_matrix = cosine_similarity(ingredient_vectors, usda_vectors)\n",
    "\n",
    "#Set threshold (low as any similarity is better than no similarity)\n",
    "threshold = 0.1\n",
    "\n",
    "#Find the most similar USDA ingredient for each ingredient from my dataset\n",
    "df['Long_Desc'] = None\n",
    "df['FdGrp_Desc'] = None\n",
    "for i, row in enumerate(cosine_sim_matrix):\n",
    "    max_similarity_index = row.argmax()\n",
    "    max_similarity = row[max_similarity_index]\n",
    "    if max_similarity >= threshold:\n",
    "        df.loc[i, 'Long_Desc'] = cats['Long_Desc'][max_similarity_index]\n",
    "        df.loc[i, 'FdGrp_Desc'] = cats['FdGrp_Desc'][max_similarity_index]\n"
   ],
   "metadata": {
    "collapsed": false
   }
  },
  {
   "cell_type": "code",
   "execution_count": 21,
   "outputs": [
    {
     "data": {
      "text/plain": "                            ingredient  frequency  \\\n0                                 salt      85746   \n1                               butter      54975   \n2                                sugar      44535   \n3                                onion      39065   \n4                                water      34914   \n...                                ...        ...   \n2712  low-sodium low-fat chicken broth         50   \n2713                     scotch whisky         50   \n2714     sugar-free strawberry gelatin         50   \n2715                   frying chickens         50   \n2716                      veal cutlets         50   \n\n                                              Long_Desc  \\\n0                                           Salt, table   \n1                                        Butter, salted   \n2                                      Sugar, turbinado   \n3                                  Spices, onion powder   \n4                              Crackers, water biscuits   \n...                                                 ...   \n2712                                       Fat, chicken   \n2713                                  Kale, scotch, raw   \n2714                                 Syrups, sugar free   \n2715  Shortening frying (heavy duty), palm (hydrogen...   \n2716  WORTHINGTON Multigrain Cutlets, canned, unprep...   \n\n                             FdGrp_Desc  \n0                      Spices and Herbs  \n1                Dairy and Egg Products  \n2                                Sweets  \n3                      Spices and Herbs  \n4                        Baked Products  \n...                                 ...  \n2712                      Fats and Oils  \n2713  Vegetables and Vegetable Products  \n2714                             Sweets  \n2715                      Fats and Oils  \n2716        Legumes and Legume Products  \n\n[2717 rows x 4 columns]",
      "text/html": "<div>\n<style scoped>\n    .dataframe tbody tr th:only-of-type {\n        vertical-align: middle;\n    }\n\n    .dataframe tbody tr th {\n        vertical-align: top;\n    }\n\n    .dataframe thead th {\n        text-align: right;\n    }\n</style>\n<table border=\"1\" class=\"dataframe\">\n  <thead>\n    <tr style=\"text-align: right;\">\n      <th></th>\n      <th>ingredient</th>\n      <th>frequency</th>\n      <th>Long_Desc</th>\n      <th>FdGrp_Desc</th>\n    </tr>\n  </thead>\n  <tbody>\n    <tr>\n      <th>0</th>\n      <td>salt</td>\n      <td>85746</td>\n      <td>Salt, table</td>\n      <td>Spices and Herbs</td>\n    </tr>\n    <tr>\n      <th>1</th>\n      <td>butter</td>\n      <td>54975</td>\n      <td>Butter, salted</td>\n      <td>Dairy and Egg Products</td>\n    </tr>\n    <tr>\n      <th>2</th>\n      <td>sugar</td>\n      <td>44535</td>\n      <td>Sugar, turbinado</td>\n      <td>Sweets</td>\n    </tr>\n    <tr>\n      <th>3</th>\n      <td>onion</td>\n      <td>39065</td>\n      <td>Spices, onion powder</td>\n      <td>Spices and Herbs</td>\n    </tr>\n    <tr>\n      <th>4</th>\n      <td>water</td>\n      <td>34914</td>\n      <td>Crackers, water biscuits</td>\n      <td>Baked Products</td>\n    </tr>\n    <tr>\n      <th>...</th>\n      <td>...</td>\n      <td>...</td>\n      <td>...</td>\n      <td>...</td>\n    </tr>\n    <tr>\n      <th>2712</th>\n      <td>low-sodium low-fat chicken broth</td>\n      <td>50</td>\n      <td>Fat, chicken</td>\n      <td>Fats and Oils</td>\n    </tr>\n    <tr>\n      <th>2713</th>\n      <td>scotch whisky</td>\n      <td>50</td>\n      <td>Kale, scotch, raw</td>\n      <td>Vegetables and Vegetable Products</td>\n    </tr>\n    <tr>\n      <th>2714</th>\n      <td>sugar-free strawberry gelatin</td>\n      <td>50</td>\n      <td>Syrups, sugar free</td>\n      <td>Sweets</td>\n    </tr>\n    <tr>\n      <th>2715</th>\n      <td>frying chickens</td>\n      <td>50</td>\n      <td>Shortening frying (heavy duty), palm (hydrogen...</td>\n      <td>Fats and Oils</td>\n    </tr>\n    <tr>\n      <th>2716</th>\n      <td>veal cutlets</td>\n      <td>50</td>\n      <td>WORTHINGTON Multigrain Cutlets, canned, unprep...</td>\n      <td>Legumes and Legume Products</td>\n    </tr>\n  </tbody>\n</table>\n<p>2717 rows × 4 columns</p>\n</div>"
     },
     "execution_count": 21,
     "metadata": {},
     "output_type": "execute_result"
    }
   ],
   "source": [
    "df"
   ],
   "metadata": {
    "collapsed": false
   }
  },
  {
   "cell_type": "code",
   "execution_count": 16,
   "outputs": [],
   "source": [
    "df.to_csv(\"C:/Users/01din\\Documents/University\\BSc thesis\\data\\RAW_recipes.csv/ingredients/ingredients.csv\")"
   ],
   "metadata": {
    "collapsed": false
   }
  },
  {
   "cell_type": "code",
   "execution_count": 19,
   "outputs": [],
   "source": [
    "df = pd.read_csv(\"C:/Users/01din\\Documents/University\\BSc thesis\\data\\RAW_recipes.csv/ingredients/ingredients_labels.csv\", index_col=['id'])"
   ],
   "metadata": {
    "collapsed": false
   }
  },
  {
   "cell_type": "code",
   "execution_count": 20,
   "outputs": [
    {
     "data": {
      "text/plain": "                            ingredient  frequency  \\\nid                                                  \n0                                 salt      85746   \n1                               butter      54975   \n2                                sugar      44535   \n3                                onion      39065   \n4                                water      34914   \n...                                ...        ...   \n2712  low-sodium low-fat chicken broth         50   \n2713                     scotch whisky         50   \n2714     sugar-free strawberry gelatin         50   \n2715                   frying chickens         50   \n2716                      veal cutlets         50   \n\n                                              Long_Desc  \\\nid                                                        \n0                                           Salt, table   \n1                                  Butter, without salt   \n2                                    Sugars, granulated   \n3                                 Soup, onion, dry, mix   \n4                              Crackers, water biscuits   \n...                                                 ...   \n2712            Soup, chicken broth, low sodium, canned   \n2713                                  Kale, scotch, raw   \n2714  Gelatin desserts, dry mix, with added ascorbic...   \n2715  Shortening frying (heavy duty), palm (hydrogen...   \n2716  WORTHINGTON Multigrain Cutlets, canned, unprep...   \n\n                             FdGrp_Desc  label  \nid                                              \n0                      Spices and Herbs      1  \n1                Dairy and Egg Products      1  \n2                                Sweets      1  \n3            Soups, Sauces, and Gravies      0  \n4                        Baked Products      0  \n...                                 ...    ...  \n2712         Soups, Sauces, and Gravies      1  \n2713  Vegetables and Vegetable Products      0  \n2714                             Sweets      1  \n2715                      Fats and Oils      0  \n2716        Legumes and Legume Products      0  \n\n[2717 rows x 5 columns]",
      "text/html": "<div>\n<style scoped>\n    .dataframe tbody tr th:only-of-type {\n        vertical-align: middle;\n    }\n\n    .dataframe tbody tr th {\n        vertical-align: top;\n    }\n\n    .dataframe thead th {\n        text-align: right;\n    }\n</style>\n<table border=\"1\" class=\"dataframe\">\n  <thead>\n    <tr style=\"text-align: right;\">\n      <th></th>\n      <th>ingredient</th>\n      <th>frequency</th>\n      <th>Long_Desc</th>\n      <th>FdGrp_Desc</th>\n      <th>label</th>\n    </tr>\n    <tr>\n      <th>id</th>\n      <th></th>\n      <th></th>\n      <th></th>\n      <th></th>\n      <th></th>\n    </tr>\n  </thead>\n  <tbody>\n    <tr>\n      <th>0</th>\n      <td>salt</td>\n      <td>85746</td>\n      <td>Salt, table</td>\n      <td>Spices and Herbs</td>\n      <td>1</td>\n    </tr>\n    <tr>\n      <th>1</th>\n      <td>butter</td>\n      <td>54975</td>\n      <td>Butter, without salt</td>\n      <td>Dairy and Egg Products</td>\n      <td>1</td>\n    </tr>\n    <tr>\n      <th>2</th>\n      <td>sugar</td>\n      <td>44535</td>\n      <td>Sugars, granulated</td>\n      <td>Sweets</td>\n      <td>1</td>\n    </tr>\n    <tr>\n      <th>3</th>\n      <td>onion</td>\n      <td>39065</td>\n      <td>Soup, onion, dry, mix</td>\n      <td>Soups, Sauces, and Gravies</td>\n      <td>0</td>\n    </tr>\n    <tr>\n      <th>4</th>\n      <td>water</td>\n      <td>34914</td>\n      <td>Crackers, water biscuits</td>\n      <td>Baked Products</td>\n      <td>0</td>\n    </tr>\n    <tr>\n      <th>...</th>\n      <td>...</td>\n      <td>...</td>\n      <td>...</td>\n      <td>...</td>\n      <td>...</td>\n    </tr>\n    <tr>\n      <th>2712</th>\n      <td>low-sodium low-fat chicken broth</td>\n      <td>50</td>\n      <td>Soup, chicken broth, low sodium, canned</td>\n      <td>Soups, Sauces, and Gravies</td>\n      <td>1</td>\n    </tr>\n    <tr>\n      <th>2713</th>\n      <td>scotch whisky</td>\n      <td>50</td>\n      <td>Kale, scotch, raw</td>\n      <td>Vegetables and Vegetable Products</td>\n      <td>0</td>\n    </tr>\n    <tr>\n      <th>2714</th>\n      <td>sugar-free strawberry gelatin</td>\n      <td>50</td>\n      <td>Gelatin desserts, dry mix, with added ascorbic...</td>\n      <td>Sweets</td>\n      <td>1</td>\n    </tr>\n    <tr>\n      <th>2715</th>\n      <td>frying chickens</td>\n      <td>50</td>\n      <td>Shortening frying (heavy duty), palm (hydrogen...</td>\n      <td>Fats and Oils</td>\n      <td>0</td>\n    </tr>\n    <tr>\n      <th>2716</th>\n      <td>veal cutlets</td>\n      <td>50</td>\n      <td>WORTHINGTON Multigrain Cutlets, canned, unprep...</td>\n      <td>Legumes and Legume Products</td>\n      <td>0</td>\n    </tr>\n  </tbody>\n</table>\n<p>2717 rows × 5 columns</p>\n</div>"
     },
     "execution_count": 20,
     "metadata": {},
     "output_type": "execute_result"
    }
   ],
   "source": [
    "df"
   ],
   "metadata": {
    "collapsed": false
   }
  },
  {
   "cell_type": "code",
   "execution_count": 21,
   "outputs": [
    {
     "data": {
      "text/plain": "            ingredient  frequency  \\\nid                                  \n3                onion      39065   \n4                water      34914   \n5                 eggs      33761   \n7                flour      26266   \n8                 milk      25786   \n...                ...        ...   \n2709     chevre cheese         50   \n2710  turkey pepperoni         50   \n2713     scotch whisky         50   \n2715   frying chickens         50   \n2716      veal cutlets         50   \n\n                                              Long_Desc  \\\nid                                                        \n3                                 Soup, onion, dry, mix   \n4                              Crackers, water biscuits   \n5                 Babyfood, cereal, with eggs, strained   \n7                                          Potato flour   \n8                                        Crackers, milk   \n...                                                 ...   \n2709                                      Cheese, cream   \n2710                                        Fat, turkey   \n2713                                  Kale, scotch, raw   \n2715  Shortening frying (heavy duty), palm (hydrogen...   \n2716  WORTHINGTON Multigrain Cutlets, canned, unprep...   \n\n                             FdGrp_Desc  label  \nid                                              \n3            Soups, Sauces, and Gravies      0  \n4                        Baked Products      0  \n5                            Baby Foods      0  \n7     Vegetables and Vegetable Products      0  \n8                        Baked Products      0  \n...                                 ...    ...  \n2709             Dairy and Egg Products      0  \n2710                      Fats and Oils      0  \n2713  Vegetables and Vegetable Products      0  \n2715                      Fats and Oils      0  \n2716        Legumes and Legume Products      0  \n\n[976 rows x 5 columns]",
      "text/html": "<div>\n<style scoped>\n    .dataframe tbody tr th:only-of-type {\n        vertical-align: middle;\n    }\n\n    .dataframe tbody tr th {\n        vertical-align: top;\n    }\n\n    .dataframe thead th {\n        text-align: right;\n    }\n</style>\n<table border=\"1\" class=\"dataframe\">\n  <thead>\n    <tr style=\"text-align: right;\">\n      <th></th>\n      <th>ingredient</th>\n      <th>frequency</th>\n      <th>Long_Desc</th>\n      <th>FdGrp_Desc</th>\n      <th>label</th>\n    </tr>\n    <tr>\n      <th>id</th>\n      <th></th>\n      <th></th>\n      <th></th>\n      <th></th>\n      <th></th>\n    </tr>\n  </thead>\n  <tbody>\n    <tr>\n      <th>3</th>\n      <td>onion</td>\n      <td>39065</td>\n      <td>Soup, onion, dry, mix</td>\n      <td>Soups, Sauces, and Gravies</td>\n      <td>0</td>\n    </tr>\n    <tr>\n      <th>4</th>\n      <td>water</td>\n      <td>34914</td>\n      <td>Crackers, water biscuits</td>\n      <td>Baked Products</td>\n      <td>0</td>\n    </tr>\n    <tr>\n      <th>5</th>\n      <td>eggs</td>\n      <td>33761</td>\n      <td>Babyfood, cereal, with eggs, strained</td>\n      <td>Baby Foods</td>\n      <td>0</td>\n    </tr>\n    <tr>\n      <th>7</th>\n      <td>flour</td>\n      <td>26266</td>\n      <td>Potato flour</td>\n      <td>Vegetables and Vegetable Products</td>\n      <td>0</td>\n    </tr>\n    <tr>\n      <th>8</th>\n      <td>milk</td>\n      <td>25786</td>\n      <td>Crackers, milk</td>\n      <td>Baked Products</td>\n      <td>0</td>\n    </tr>\n    <tr>\n      <th>...</th>\n      <td>...</td>\n      <td>...</td>\n      <td>...</td>\n      <td>...</td>\n      <td>...</td>\n    </tr>\n    <tr>\n      <th>2709</th>\n      <td>chevre cheese</td>\n      <td>50</td>\n      <td>Cheese, cream</td>\n      <td>Dairy and Egg Products</td>\n      <td>0</td>\n    </tr>\n    <tr>\n      <th>2710</th>\n      <td>turkey pepperoni</td>\n      <td>50</td>\n      <td>Fat, turkey</td>\n      <td>Fats and Oils</td>\n      <td>0</td>\n    </tr>\n    <tr>\n      <th>2713</th>\n      <td>scotch whisky</td>\n      <td>50</td>\n      <td>Kale, scotch, raw</td>\n      <td>Vegetables and Vegetable Products</td>\n      <td>0</td>\n    </tr>\n    <tr>\n      <th>2715</th>\n      <td>frying chickens</td>\n      <td>50</td>\n      <td>Shortening frying (heavy duty), palm (hydrogen...</td>\n      <td>Fats and Oils</td>\n      <td>0</td>\n    </tr>\n    <tr>\n      <th>2716</th>\n      <td>veal cutlets</td>\n      <td>50</td>\n      <td>WORTHINGTON Multigrain Cutlets, canned, unprep...</td>\n      <td>Legumes and Legume Products</td>\n      <td>0</td>\n    </tr>\n  </tbody>\n</table>\n<p>976 rows × 5 columns</p>\n</div>"
     },
     "execution_count": 21,
     "metadata": {},
     "output_type": "execute_result"
    }
   ],
   "source": [
    "df_false = df[df.label==0]\n",
    "df_false"
   ],
   "metadata": {
    "collapsed": false
   }
  },
  {
   "cell_type": "markdown",
   "source": [
    "After this I went through the process of manually labeling all rows, and then manually labeling all incorrectly labeled entries.\n",
    "This took a lot of time but at this point I had tried many different methods (JS, NLP, TFIDF) and it was not getting much better, so I decided to just bite the bullet.\n",
    "Now I can fetch the nutritional data from the USDA api"
   ],
   "metadata": {
    "collapsed": false
   }
  }
 ],
 "metadata": {
  "kernelspec": {
   "display_name": "Python 3",
   "language": "python",
   "name": "python3"
  },
  "language_info": {
   "codemirror_mode": {
    "name": "ipython",
    "version": 2
   },
   "file_extension": ".py",
   "mimetype": "text/x-python",
   "name": "python",
   "nbconvert_exporter": "python",
   "pygments_lexer": "ipython2",
   "version": "2.7.6"
  }
 },
 "nbformat": 4,
 "nbformat_minor": 0
}
