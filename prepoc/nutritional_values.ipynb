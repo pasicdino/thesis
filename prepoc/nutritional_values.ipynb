{
 "cells": [
  {
   "cell_type": "markdown",
   "source": [
    "In this notebook, the USDA api is used to fetch nutritional data based on the name of the food.\n",
    "Previously, the ingredients in the dataset have been linked to an ingredient in the USDA database, through string matching and manual labeling."
   ],
   "metadata": {
    "collapsed": false
   }
  },
  {
   "cell_type": "code",
   "execution_count": 1,
   "outputs": [],
   "source": [
    "import pandas as pd\n",
    "from ast import literal_eval\n",
    "\n",
    "generic = lambda x: literal_eval(x)\n",
    "conv = {'nutrition' : generic, 'steps' : generic, 'ingredients' : generic, 'id_column' : generic, 'jaccard_similarity' : generic}\n",
    "df = pd.read_csv(\"C:/Users/01din\\Documents/University\\BSc thesis\\data\\RAW_recipes.csv/ingredients/ingredients_labels.csv\")\n",
    "df = df[['ingredient', 'frequency', 'Long_Desc', 'FdGrp_Desc']]\n",
    "df = df[df.frequency>49]"
   ],
   "metadata": {
    "collapsed": false
   }
  },
  {
   "cell_type": "code",
   "execution_count": 2,
   "outputs": [],
   "source": [
    "def get_nutritional_info(food_name, api_key):\n",
    "    search_url = \"https://api.nal.usda.gov/fdc/v1/foods/search\"\n",
    "\n",
    "    #Search for food_name in usda api\n",
    "    search_params = {\"api_key\": api_key, \"query\": food_name}\n",
    "    response = requests.get(search_url, params=search_params)\n",
    "    results = response.json()\n",
    "\n",
    "    #Get the ID of the first result\n",
    "    if \"foods\" in results and results[\"foods\"]:\n",
    "        fdc_id = results[\"foods\"][0][\"fdcId\"]\n",
    "    else:\n",
    "        return None\n",
    "\n",
    "    #Fetch nutritional info of the item\n",
    "    nutrients_url = f\"https://api.nal.usda.gov/fdc/v1/food/{fdc_id}\"\n",
    "    nutrients_params = {\"api_key\": api_key}\n",
    "    response = requests.get(nutrients_url, params=nutrients_params)\n",
    "    nutritional_data = response.json()\n",
    "\n",
    "    #Only want these entries as other entries are not consistently available and cosine similarity requires everything to be present\n",
    "    major_nutrients = {\n",
    "        \"Energy\": 1008,\n",
    "        \"Protein\": 1003,\n",
    "        \"Total lipid (fat)\": 1004,\n",
    "        \"Carbohydrate, by difference\": 1005,\n",
    "        \"Fiber, total dietary\": 1079,\n",
    "        \"Sugars, total including NLEA\": 2000,\n",
    "    }\n",
    "\n",
    "    #Extract the wanted entries\n",
    "    nutrients = {}\n",
    "    if 'foodNutrients' in nutritional_data and nutritional_data['foodNutrients']:\n",
    "        for nutrient in nutritional_data[\"foodNutrients\"]:\n",
    "            nutrient_id = nutrient[\"nutrient\"][\"id\"]\n",
    "            nutrient_name = nutrient[\"nutrient\"][\"name\"]\n",
    "            if nutrient_id in major_nutrients.values() and \"amount\" in nutrient:\n",
    "                nutrients[nutrient_name] = nutrient[\"amount\"]\n",
    "    else:\n",
    "        return None\n",
    "\n",
    "    return nutrients\n"
   ],
   "metadata": {
    "collapsed": false
   }
  },
  {
   "cell_type": "code",
   "execution_count": 3,
   "outputs": [
    {
     "name": "stderr",
     "output_type": "stream",
     "text": [
      "  0%|          | 0/1074 [00:00<?, ?it/s]\n"
     ]
    },
    {
     "ename": "KeyboardInterrupt",
     "evalue": "",
     "output_type": "error",
     "traceback": [
      "\u001B[1;31m---------------------------------------------------------------------------\u001B[0m",
      "\u001B[1;31mKeyboardInterrupt\u001B[0m                         Traceback (most recent call last)",
      "Cell \u001B[1;32mIn[3], line 20\u001B[0m\n\u001B[0;32m     18\u001B[0m \u001B[38;5;28;01mfor\u001B[39;00m index, row \u001B[38;5;129;01min\u001B[39;00m tqdm(unique_df\u001B[38;5;241m.\u001B[39miterrows(), total\u001B[38;5;241m=\u001B[39m\u001B[38;5;28mlen\u001B[39m(unique_df)):\n\u001B[0;32m     19\u001B[0m     \u001B[38;5;28;01mif\u001B[39;00m pd\u001B[38;5;241m.\u001B[39misna(row[\u001B[38;5;124m'\u001B[39m\u001B[38;5;124mnutrition\u001B[39m\u001B[38;5;124m'\u001B[39m]):\n\u001B[1;32m---> 20\u001B[0m         nutrition_data \u001B[38;5;241m=\u001B[39m \u001B[43mget_nutritional_info\u001B[49m\u001B[43m(\u001B[49m\u001B[43mrow\u001B[49m\u001B[43m[\u001B[49m\u001B[38;5;124;43m'\u001B[39;49m\u001B[38;5;124;43mLong_Desc\u001B[39;49m\u001B[38;5;124;43m'\u001B[39;49m\u001B[43m]\u001B[49m\u001B[43m,\u001B[49m\u001B[43m \u001B[49m\u001B[43mapi_key\u001B[49m\u001B[43m)\u001B[49m\n\u001B[0;32m     21\u001B[0m         \u001B[38;5;66;03m#Convert to string\u001B[39;00m\n\u001B[0;32m     22\u001B[0m         nutrition_data_str \u001B[38;5;241m=\u001B[39m json\u001B[38;5;241m.\u001B[39mdumps(nutrition_data) \u001B[38;5;28;01mif\u001B[39;00m nutrition_data \u001B[38;5;28;01melse\u001B[39;00m \u001B[38;5;28;01mNone\u001B[39;00m\n",
      "Cell \u001B[1;32mIn[2], line 6\u001B[0m, in \u001B[0;36mget_nutritional_info\u001B[1;34m(food_name, api_key)\u001B[0m\n\u001B[0;32m      4\u001B[0m \u001B[38;5;66;03m#Search for food_name in usda api\u001B[39;00m\n\u001B[0;32m      5\u001B[0m search_params \u001B[38;5;241m=\u001B[39m {\u001B[38;5;124m\"\u001B[39m\u001B[38;5;124mapi_key\u001B[39m\u001B[38;5;124m\"\u001B[39m: api_key, \u001B[38;5;124m\"\u001B[39m\u001B[38;5;124mquery\u001B[39m\u001B[38;5;124m\"\u001B[39m: food_name}\n\u001B[1;32m----> 6\u001B[0m response \u001B[38;5;241m=\u001B[39m \u001B[43mrequests\u001B[49m\u001B[38;5;241;43m.\u001B[39;49m\u001B[43mget\u001B[49m\u001B[43m(\u001B[49m\u001B[43msearch_url\u001B[49m\u001B[43m,\u001B[49m\u001B[43m \u001B[49m\u001B[43mparams\u001B[49m\u001B[38;5;241;43m=\u001B[39;49m\u001B[43msearch_params\u001B[49m\u001B[43m)\u001B[49m\n\u001B[0;32m      7\u001B[0m results \u001B[38;5;241m=\u001B[39m response\u001B[38;5;241m.\u001B[39mjson()\n\u001B[0;32m      9\u001B[0m \u001B[38;5;66;03m#Get the ID of the first result\u001B[39;00m\n",
      "File \u001B[1;32m~\\PycharmProjects\\thesis\\venv\\lib\\site-packages\\requests\\api.py:73\u001B[0m, in \u001B[0;36mget\u001B[1;34m(url, params, **kwargs)\u001B[0m\n\u001B[0;32m     62\u001B[0m \u001B[38;5;28;01mdef\u001B[39;00m \u001B[38;5;21mget\u001B[39m(url, params\u001B[38;5;241m=\u001B[39m\u001B[38;5;28;01mNone\u001B[39;00m, \u001B[38;5;241m*\u001B[39m\u001B[38;5;241m*\u001B[39mkwargs):\n\u001B[0;32m     63\u001B[0m \u001B[38;5;250m    \u001B[39m\u001B[38;5;124mr\u001B[39m\u001B[38;5;124;03m\"\"\"Sends a GET request.\u001B[39;00m\n\u001B[0;32m     64\u001B[0m \n\u001B[0;32m     65\u001B[0m \u001B[38;5;124;03m    :param url: URL for the new :class:`Request` object.\u001B[39;00m\n\u001B[1;32m   (...)\u001B[0m\n\u001B[0;32m     70\u001B[0m \u001B[38;5;124;03m    :rtype: requests.Response\u001B[39;00m\n\u001B[0;32m     71\u001B[0m \u001B[38;5;124;03m    \"\"\"\u001B[39;00m\n\u001B[1;32m---> 73\u001B[0m     \u001B[38;5;28;01mreturn\u001B[39;00m \u001B[43mrequest\u001B[49m\u001B[43m(\u001B[49m\u001B[38;5;124;43m\"\u001B[39;49m\u001B[38;5;124;43mget\u001B[39;49m\u001B[38;5;124;43m\"\u001B[39;49m\u001B[43m,\u001B[49m\u001B[43m \u001B[49m\u001B[43murl\u001B[49m\u001B[43m,\u001B[49m\u001B[43m \u001B[49m\u001B[43mparams\u001B[49m\u001B[38;5;241;43m=\u001B[39;49m\u001B[43mparams\u001B[49m\u001B[43m,\u001B[49m\u001B[43m \u001B[49m\u001B[38;5;241;43m*\u001B[39;49m\u001B[38;5;241;43m*\u001B[39;49m\u001B[43mkwargs\u001B[49m\u001B[43m)\u001B[49m\n",
      "File \u001B[1;32m~\\PycharmProjects\\thesis\\venv\\lib\\site-packages\\requests\\api.py:59\u001B[0m, in \u001B[0;36mrequest\u001B[1;34m(method, url, **kwargs)\u001B[0m\n\u001B[0;32m     55\u001B[0m \u001B[38;5;66;03m# By using the 'with' statement we are sure the session is closed, thus we\u001B[39;00m\n\u001B[0;32m     56\u001B[0m \u001B[38;5;66;03m# avoid leaving sockets open which can trigger a ResourceWarning in some\u001B[39;00m\n\u001B[0;32m     57\u001B[0m \u001B[38;5;66;03m# cases, and look like a memory leak in others.\u001B[39;00m\n\u001B[0;32m     58\u001B[0m \u001B[38;5;28;01mwith\u001B[39;00m sessions\u001B[38;5;241m.\u001B[39mSession() \u001B[38;5;28;01mas\u001B[39;00m session:\n\u001B[1;32m---> 59\u001B[0m     \u001B[38;5;28;01mreturn\u001B[39;00m \u001B[43msession\u001B[49m\u001B[38;5;241;43m.\u001B[39;49m\u001B[43mrequest\u001B[49m\u001B[43m(\u001B[49m\u001B[43mmethod\u001B[49m\u001B[38;5;241;43m=\u001B[39;49m\u001B[43mmethod\u001B[49m\u001B[43m,\u001B[49m\u001B[43m \u001B[49m\u001B[43murl\u001B[49m\u001B[38;5;241;43m=\u001B[39;49m\u001B[43murl\u001B[49m\u001B[43m,\u001B[49m\u001B[43m \u001B[49m\u001B[38;5;241;43m*\u001B[39;49m\u001B[38;5;241;43m*\u001B[39;49m\u001B[43mkwargs\u001B[49m\u001B[43m)\u001B[49m\n",
      "File \u001B[1;32m~\\PycharmProjects\\thesis\\venv\\lib\\site-packages\\requests\\sessions.py:587\u001B[0m, in \u001B[0;36mSession.request\u001B[1;34m(self, method, url, params, data, headers, cookies, files, auth, timeout, allow_redirects, proxies, hooks, stream, verify, cert, json)\u001B[0m\n\u001B[0;32m    582\u001B[0m send_kwargs \u001B[38;5;241m=\u001B[39m {\n\u001B[0;32m    583\u001B[0m     \u001B[38;5;124m\"\u001B[39m\u001B[38;5;124mtimeout\u001B[39m\u001B[38;5;124m\"\u001B[39m: timeout,\n\u001B[0;32m    584\u001B[0m     \u001B[38;5;124m\"\u001B[39m\u001B[38;5;124mallow_redirects\u001B[39m\u001B[38;5;124m\"\u001B[39m: allow_redirects,\n\u001B[0;32m    585\u001B[0m }\n\u001B[0;32m    586\u001B[0m send_kwargs\u001B[38;5;241m.\u001B[39mupdate(settings)\n\u001B[1;32m--> 587\u001B[0m resp \u001B[38;5;241m=\u001B[39m \u001B[38;5;28;43mself\u001B[39;49m\u001B[38;5;241;43m.\u001B[39;49m\u001B[43msend\u001B[49m\u001B[43m(\u001B[49m\u001B[43mprep\u001B[49m\u001B[43m,\u001B[49m\u001B[43m \u001B[49m\u001B[38;5;241;43m*\u001B[39;49m\u001B[38;5;241;43m*\u001B[39;49m\u001B[43msend_kwargs\u001B[49m\u001B[43m)\u001B[49m\n\u001B[0;32m    589\u001B[0m \u001B[38;5;28;01mreturn\u001B[39;00m resp\n",
      "File \u001B[1;32m~\\PycharmProjects\\thesis\\venv\\lib\\site-packages\\requests\\sessions.py:701\u001B[0m, in \u001B[0;36mSession.send\u001B[1;34m(self, request, **kwargs)\u001B[0m\n\u001B[0;32m    698\u001B[0m start \u001B[38;5;241m=\u001B[39m preferred_clock()\n\u001B[0;32m    700\u001B[0m \u001B[38;5;66;03m# Send the request\u001B[39;00m\n\u001B[1;32m--> 701\u001B[0m r \u001B[38;5;241m=\u001B[39m \u001B[43madapter\u001B[49m\u001B[38;5;241;43m.\u001B[39;49m\u001B[43msend\u001B[49m\u001B[43m(\u001B[49m\u001B[43mrequest\u001B[49m\u001B[43m,\u001B[49m\u001B[43m \u001B[49m\u001B[38;5;241;43m*\u001B[39;49m\u001B[38;5;241;43m*\u001B[39;49m\u001B[43mkwargs\u001B[49m\u001B[43m)\u001B[49m\n\u001B[0;32m    703\u001B[0m \u001B[38;5;66;03m# Total elapsed time of the request (approximately)\u001B[39;00m\n\u001B[0;32m    704\u001B[0m elapsed \u001B[38;5;241m=\u001B[39m preferred_clock() \u001B[38;5;241m-\u001B[39m start\n",
      "File \u001B[1;32m~\\PycharmProjects\\thesis\\venv\\lib\\site-packages\\requests\\adapters.py:489\u001B[0m, in \u001B[0;36mHTTPAdapter.send\u001B[1;34m(self, request, stream, timeout, verify, cert, proxies)\u001B[0m\n\u001B[0;32m    487\u001B[0m \u001B[38;5;28;01mtry\u001B[39;00m:\n\u001B[0;32m    488\u001B[0m     \u001B[38;5;28;01mif\u001B[39;00m \u001B[38;5;129;01mnot\u001B[39;00m chunked:\n\u001B[1;32m--> 489\u001B[0m         resp \u001B[38;5;241m=\u001B[39m \u001B[43mconn\u001B[49m\u001B[38;5;241;43m.\u001B[39;49m\u001B[43murlopen\u001B[49m\u001B[43m(\u001B[49m\n\u001B[0;32m    490\u001B[0m \u001B[43m            \u001B[49m\u001B[43mmethod\u001B[49m\u001B[38;5;241;43m=\u001B[39;49m\u001B[43mrequest\u001B[49m\u001B[38;5;241;43m.\u001B[39;49m\u001B[43mmethod\u001B[49m\u001B[43m,\u001B[49m\n\u001B[0;32m    491\u001B[0m \u001B[43m            \u001B[49m\u001B[43murl\u001B[49m\u001B[38;5;241;43m=\u001B[39;49m\u001B[43murl\u001B[49m\u001B[43m,\u001B[49m\n\u001B[0;32m    492\u001B[0m \u001B[43m            \u001B[49m\u001B[43mbody\u001B[49m\u001B[38;5;241;43m=\u001B[39;49m\u001B[43mrequest\u001B[49m\u001B[38;5;241;43m.\u001B[39;49m\u001B[43mbody\u001B[49m\u001B[43m,\u001B[49m\n\u001B[0;32m    493\u001B[0m \u001B[43m            \u001B[49m\u001B[43mheaders\u001B[49m\u001B[38;5;241;43m=\u001B[39;49m\u001B[43mrequest\u001B[49m\u001B[38;5;241;43m.\u001B[39;49m\u001B[43mheaders\u001B[49m\u001B[43m,\u001B[49m\n\u001B[0;32m    494\u001B[0m \u001B[43m            \u001B[49m\u001B[43mredirect\u001B[49m\u001B[38;5;241;43m=\u001B[39;49m\u001B[38;5;28;43;01mFalse\u001B[39;49;00m\u001B[43m,\u001B[49m\n\u001B[0;32m    495\u001B[0m \u001B[43m            \u001B[49m\u001B[43massert_same_host\u001B[49m\u001B[38;5;241;43m=\u001B[39;49m\u001B[38;5;28;43;01mFalse\u001B[39;49;00m\u001B[43m,\u001B[49m\n\u001B[0;32m    496\u001B[0m \u001B[43m            \u001B[49m\u001B[43mpreload_content\u001B[49m\u001B[38;5;241;43m=\u001B[39;49m\u001B[38;5;28;43;01mFalse\u001B[39;49;00m\u001B[43m,\u001B[49m\n\u001B[0;32m    497\u001B[0m \u001B[43m            \u001B[49m\u001B[43mdecode_content\u001B[49m\u001B[38;5;241;43m=\u001B[39;49m\u001B[38;5;28;43;01mFalse\u001B[39;49;00m\u001B[43m,\u001B[49m\n\u001B[0;32m    498\u001B[0m \u001B[43m            \u001B[49m\u001B[43mretries\u001B[49m\u001B[38;5;241;43m=\u001B[39;49m\u001B[38;5;28;43mself\u001B[39;49m\u001B[38;5;241;43m.\u001B[39;49m\u001B[43mmax_retries\u001B[49m\u001B[43m,\u001B[49m\n\u001B[0;32m    499\u001B[0m \u001B[43m            \u001B[49m\u001B[43mtimeout\u001B[49m\u001B[38;5;241;43m=\u001B[39;49m\u001B[43mtimeout\u001B[49m\u001B[43m,\u001B[49m\n\u001B[0;32m    500\u001B[0m \u001B[43m        \u001B[49m\u001B[43m)\u001B[49m\n\u001B[0;32m    502\u001B[0m     \u001B[38;5;66;03m# Send the request.\u001B[39;00m\n\u001B[0;32m    503\u001B[0m     \u001B[38;5;28;01melse\u001B[39;00m:\n\u001B[0;32m    504\u001B[0m         \u001B[38;5;28;01mif\u001B[39;00m \u001B[38;5;28mhasattr\u001B[39m(conn, \u001B[38;5;124m\"\u001B[39m\u001B[38;5;124mproxy_pool\u001B[39m\u001B[38;5;124m\"\u001B[39m):\n",
      "File \u001B[1;32m~\\PycharmProjects\\thesis\\venv\\lib\\site-packages\\urllib3\\connectionpool.py:703\u001B[0m, in \u001B[0;36mHTTPConnectionPool.urlopen\u001B[1;34m(self, method, url, body, headers, retries, redirect, assert_same_host, timeout, pool_timeout, release_conn, chunked, body_pos, **response_kw)\u001B[0m\n\u001B[0;32m    700\u001B[0m     \u001B[38;5;28mself\u001B[39m\u001B[38;5;241m.\u001B[39m_prepare_proxy(conn)\n\u001B[0;32m    702\u001B[0m \u001B[38;5;66;03m# Make the request on the httplib connection object.\u001B[39;00m\n\u001B[1;32m--> 703\u001B[0m httplib_response \u001B[38;5;241m=\u001B[39m \u001B[38;5;28;43mself\u001B[39;49m\u001B[38;5;241;43m.\u001B[39;49m\u001B[43m_make_request\u001B[49m\u001B[43m(\u001B[49m\n\u001B[0;32m    704\u001B[0m \u001B[43m    \u001B[49m\u001B[43mconn\u001B[49m\u001B[43m,\u001B[49m\n\u001B[0;32m    705\u001B[0m \u001B[43m    \u001B[49m\u001B[43mmethod\u001B[49m\u001B[43m,\u001B[49m\n\u001B[0;32m    706\u001B[0m \u001B[43m    \u001B[49m\u001B[43murl\u001B[49m\u001B[43m,\u001B[49m\n\u001B[0;32m    707\u001B[0m \u001B[43m    \u001B[49m\u001B[43mtimeout\u001B[49m\u001B[38;5;241;43m=\u001B[39;49m\u001B[43mtimeout_obj\u001B[49m\u001B[43m,\u001B[49m\n\u001B[0;32m    708\u001B[0m \u001B[43m    \u001B[49m\u001B[43mbody\u001B[49m\u001B[38;5;241;43m=\u001B[39;49m\u001B[43mbody\u001B[49m\u001B[43m,\u001B[49m\n\u001B[0;32m    709\u001B[0m \u001B[43m    \u001B[49m\u001B[43mheaders\u001B[49m\u001B[38;5;241;43m=\u001B[39;49m\u001B[43mheaders\u001B[49m\u001B[43m,\u001B[49m\n\u001B[0;32m    710\u001B[0m \u001B[43m    \u001B[49m\u001B[43mchunked\u001B[49m\u001B[38;5;241;43m=\u001B[39;49m\u001B[43mchunked\u001B[49m\u001B[43m,\u001B[49m\n\u001B[0;32m    711\u001B[0m \u001B[43m\u001B[49m\u001B[43m)\u001B[49m\n\u001B[0;32m    713\u001B[0m \u001B[38;5;66;03m# If we're going to release the connection in ``finally:``, then\u001B[39;00m\n\u001B[0;32m    714\u001B[0m \u001B[38;5;66;03m# the response doesn't need to know about the connection. Otherwise\u001B[39;00m\n\u001B[0;32m    715\u001B[0m \u001B[38;5;66;03m# it will also try to release it and we'll have a double-release\u001B[39;00m\n\u001B[0;32m    716\u001B[0m \u001B[38;5;66;03m# mess.\u001B[39;00m\n\u001B[0;32m    717\u001B[0m response_conn \u001B[38;5;241m=\u001B[39m conn \u001B[38;5;28;01mif\u001B[39;00m \u001B[38;5;129;01mnot\u001B[39;00m release_conn \u001B[38;5;28;01melse\u001B[39;00m \u001B[38;5;28;01mNone\u001B[39;00m\n",
      "File \u001B[1;32m~\\PycharmProjects\\thesis\\venv\\lib\\site-packages\\urllib3\\connectionpool.py:386\u001B[0m, in \u001B[0;36mHTTPConnectionPool._make_request\u001B[1;34m(self, conn, method, url, timeout, chunked, **httplib_request_kw)\u001B[0m\n\u001B[0;32m    384\u001B[0m \u001B[38;5;66;03m# Trigger any extra validation we need to do.\u001B[39;00m\n\u001B[0;32m    385\u001B[0m \u001B[38;5;28;01mtry\u001B[39;00m:\n\u001B[1;32m--> 386\u001B[0m     \u001B[38;5;28;43mself\u001B[39;49m\u001B[38;5;241;43m.\u001B[39;49m\u001B[43m_validate_conn\u001B[49m\u001B[43m(\u001B[49m\u001B[43mconn\u001B[49m\u001B[43m)\u001B[49m\n\u001B[0;32m    387\u001B[0m \u001B[38;5;28;01mexcept\u001B[39;00m (SocketTimeout, BaseSSLError) \u001B[38;5;28;01mas\u001B[39;00m e:\n\u001B[0;32m    388\u001B[0m     \u001B[38;5;66;03m# Py2 raises this as a BaseSSLError, Py3 raises it as socket timeout.\u001B[39;00m\n\u001B[0;32m    389\u001B[0m     \u001B[38;5;28mself\u001B[39m\u001B[38;5;241m.\u001B[39m_raise_timeout(err\u001B[38;5;241m=\u001B[39me, url\u001B[38;5;241m=\u001B[39murl, timeout_value\u001B[38;5;241m=\u001B[39mconn\u001B[38;5;241m.\u001B[39mtimeout)\n",
      "File \u001B[1;32m~\\PycharmProjects\\thesis\\venv\\lib\\site-packages\\urllib3\\connectionpool.py:1042\u001B[0m, in \u001B[0;36mHTTPSConnectionPool._validate_conn\u001B[1;34m(self, conn)\u001B[0m\n\u001B[0;32m   1040\u001B[0m \u001B[38;5;66;03m# Force connect early to allow us to validate the connection.\u001B[39;00m\n\u001B[0;32m   1041\u001B[0m \u001B[38;5;28;01mif\u001B[39;00m \u001B[38;5;129;01mnot\u001B[39;00m \u001B[38;5;28mgetattr\u001B[39m(conn, \u001B[38;5;124m\"\u001B[39m\u001B[38;5;124msock\u001B[39m\u001B[38;5;124m\"\u001B[39m, \u001B[38;5;28;01mNone\u001B[39;00m):  \u001B[38;5;66;03m# AppEngine might not have  `.sock`\u001B[39;00m\n\u001B[1;32m-> 1042\u001B[0m     \u001B[43mconn\u001B[49m\u001B[38;5;241;43m.\u001B[39;49m\u001B[43mconnect\u001B[49m\u001B[43m(\u001B[49m\u001B[43m)\u001B[49m\n\u001B[0;32m   1044\u001B[0m \u001B[38;5;28;01mif\u001B[39;00m \u001B[38;5;129;01mnot\u001B[39;00m conn\u001B[38;5;241m.\u001B[39mis_verified:\n\u001B[0;32m   1045\u001B[0m     warnings\u001B[38;5;241m.\u001B[39mwarn(\n\u001B[0;32m   1046\u001B[0m         (\n\u001B[0;32m   1047\u001B[0m             \u001B[38;5;124m\"\u001B[39m\u001B[38;5;124mUnverified HTTPS request is being made to host \u001B[39m\u001B[38;5;124m'\u001B[39m\u001B[38;5;132;01m%s\u001B[39;00m\u001B[38;5;124m'\u001B[39m\u001B[38;5;124m. \u001B[39m\u001B[38;5;124m\"\u001B[39m\n\u001B[1;32m   (...)\u001B[0m\n\u001B[0;32m   1052\u001B[0m         InsecureRequestWarning,\n\u001B[0;32m   1053\u001B[0m     )\n",
      "File \u001B[1;32m~\\PycharmProjects\\thesis\\venv\\lib\\site-packages\\urllib3\\connection.py:414\u001B[0m, in \u001B[0;36mHTTPSConnection.connect\u001B[1;34m(self)\u001B[0m\n\u001B[0;32m    405\u001B[0m \u001B[38;5;28;01mif\u001B[39;00m (\n\u001B[0;32m    406\u001B[0m     \u001B[38;5;129;01mnot\u001B[39;00m \u001B[38;5;28mself\u001B[39m\u001B[38;5;241m.\u001B[39mca_certs\n\u001B[0;32m    407\u001B[0m     \u001B[38;5;129;01mand\u001B[39;00m \u001B[38;5;129;01mnot\u001B[39;00m \u001B[38;5;28mself\u001B[39m\u001B[38;5;241m.\u001B[39mca_cert_dir\n\u001B[1;32m   (...)\u001B[0m\n\u001B[0;32m    410\u001B[0m     \u001B[38;5;129;01mand\u001B[39;00m \u001B[38;5;28mhasattr\u001B[39m(context, \u001B[38;5;124m\"\u001B[39m\u001B[38;5;124mload_default_certs\u001B[39m\u001B[38;5;124m\"\u001B[39m)\n\u001B[0;32m    411\u001B[0m ):\n\u001B[0;32m    412\u001B[0m     context\u001B[38;5;241m.\u001B[39mload_default_certs()\n\u001B[1;32m--> 414\u001B[0m \u001B[38;5;28mself\u001B[39m\u001B[38;5;241m.\u001B[39msock \u001B[38;5;241m=\u001B[39m \u001B[43mssl_wrap_socket\u001B[49m\u001B[43m(\u001B[49m\n\u001B[0;32m    415\u001B[0m \u001B[43m    \u001B[49m\u001B[43msock\u001B[49m\u001B[38;5;241;43m=\u001B[39;49m\u001B[43mconn\u001B[49m\u001B[43m,\u001B[49m\n\u001B[0;32m    416\u001B[0m \u001B[43m    \u001B[49m\u001B[43mkeyfile\u001B[49m\u001B[38;5;241;43m=\u001B[39;49m\u001B[38;5;28;43mself\u001B[39;49m\u001B[38;5;241;43m.\u001B[39;49m\u001B[43mkey_file\u001B[49m\u001B[43m,\u001B[49m\n\u001B[0;32m    417\u001B[0m \u001B[43m    \u001B[49m\u001B[43mcertfile\u001B[49m\u001B[38;5;241;43m=\u001B[39;49m\u001B[38;5;28;43mself\u001B[39;49m\u001B[38;5;241;43m.\u001B[39;49m\u001B[43mcert_file\u001B[49m\u001B[43m,\u001B[49m\n\u001B[0;32m    418\u001B[0m \u001B[43m    \u001B[49m\u001B[43mkey_password\u001B[49m\u001B[38;5;241;43m=\u001B[39;49m\u001B[38;5;28;43mself\u001B[39;49m\u001B[38;5;241;43m.\u001B[39;49m\u001B[43mkey_password\u001B[49m\u001B[43m,\u001B[49m\n\u001B[0;32m    419\u001B[0m \u001B[43m    \u001B[49m\u001B[43mca_certs\u001B[49m\u001B[38;5;241;43m=\u001B[39;49m\u001B[38;5;28;43mself\u001B[39;49m\u001B[38;5;241;43m.\u001B[39;49m\u001B[43mca_certs\u001B[49m\u001B[43m,\u001B[49m\n\u001B[0;32m    420\u001B[0m \u001B[43m    \u001B[49m\u001B[43mca_cert_dir\u001B[49m\u001B[38;5;241;43m=\u001B[39;49m\u001B[38;5;28;43mself\u001B[39;49m\u001B[38;5;241;43m.\u001B[39;49m\u001B[43mca_cert_dir\u001B[49m\u001B[43m,\u001B[49m\n\u001B[0;32m    421\u001B[0m \u001B[43m    \u001B[49m\u001B[43mca_cert_data\u001B[49m\u001B[38;5;241;43m=\u001B[39;49m\u001B[38;5;28;43mself\u001B[39;49m\u001B[38;5;241;43m.\u001B[39;49m\u001B[43mca_cert_data\u001B[49m\u001B[43m,\u001B[49m\n\u001B[0;32m    422\u001B[0m \u001B[43m    \u001B[49m\u001B[43mserver_hostname\u001B[49m\u001B[38;5;241;43m=\u001B[39;49m\u001B[43mserver_hostname\u001B[49m\u001B[43m,\u001B[49m\n\u001B[0;32m    423\u001B[0m \u001B[43m    \u001B[49m\u001B[43mssl_context\u001B[49m\u001B[38;5;241;43m=\u001B[39;49m\u001B[43mcontext\u001B[49m\u001B[43m,\u001B[49m\n\u001B[0;32m    424\u001B[0m \u001B[43m    \u001B[49m\u001B[43mtls_in_tls\u001B[49m\u001B[38;5;241;43m=\u001B[39;49m\u001B[43mtls_in_tls\u001B[49m\u001B[43m,\u001B[49m\n\u001B[0;32m    425\u001B[0m \u001B[43m\u001B[49m\u001B[43m)\u001B[49m\n\u001B[0;32m    427\u001B[0m \u001B[38;5;66;03m# If we're using all defaults and the connection\u001B[39;00m\n\u001B[0;32m    428\u001B[0m \u001B[38;5;66;03m# is TLSv1 or TLSv1.1 we throw a DeprecationWarning\u001B[39;00m\n\u001B[0;32m    429\u001B[0m \u001B[38;5;66;03m# for the host.\u001B[39;00m\n\u001B[0;32m    430\u001B[0m \u001B[38;5;28;01mif\u001B[39;00m (\n\u001B[0;32m    431\u001B[0m     default_ssl_context\n\u001B[0;32m    432\u001B[0m     \u001B[38;5;129;01mand\u001B[39;00m \u001B[38;5;28mself\u001B[39m\u001B[38;5;241m.\u001B[39mssl_version \u001B[38;5;129;01mis\u001B[39;00m \u001B[38;5;28;01mNone\u001B[39;00m\n\u001B[0;32m    433\u001B[0m     \u001B[38;5;129;01mand\u001B[39;00m \u001B[38;5;28mhasattr\u001B[39m(\u001B[38;5;28mself\u001B[39m\u001B[38;5;241m.\u001B[39msock, \u001B[38;5;124m\"\u001B[39m\u001B[38;5;124mversion\u001B[39m\u001B[38;5;124m\"\u001B[39m)\n\u001B[0;32m    434\u001B[0m     \u001B[38;5;129;01mand\u001B[39;00m \u001B[38;5;28mself\u001B[39m\u001B[38;5;241m.\u001B[39msock\u001B[38;5;241m.\u001B[39mversion() \u001B[38;5;129;01min\u001B[39;00m {\u001B[38;5;124m\"\u001B[39m\u001B[38;5;124mTLSv1\u001B[39m\u001B[38;5;124m\"\u001B[39m, \u001B[38;5;124m\"\u001B[39m\u001B[38;5;124mTLSv1.1\u001B[39m\u001B[38;5;124m\"\u001B[39m}\n\u001B[0;32m    435\u001B[0m ):\n",
      "File \u001B[1;32m~\\PycharmProjects\\thesis\\venv\\lib\\site-packages\\urllib3\\util\\ssl_.py:449\u001B[0m, in \u001B[0;36mssl_wrap_socket\u001B[1;34m(sock, keyfile, certfile, cert_reqs, ca_certs, server_hostname, ssl_version, ciphers, ssl_context, ca_cert_dir, key_password, ca_cert_data, tls_in_tls)\u001B[0m\n\u001B[0;32m    437\u001B[0m     warnings\u001B[38;5;241m.\u001B[39mwarn(\n\u001B[0;32m    438\u001B[0m         \u001B[38;5;124m\"\u001B[39m\u001B[38;5;124mAn HTTPS request has been made, but the SNI (Server Name \u001B[39m\u001B[38;5;124m\"\u001B[39m\n\u001B[0;32m    439\u001B[0m         \u001B[38;5;124m\"\u001B[39m\u001B[38;5;124mIndication) extension to TLS is not available on this platform. \u001B[39m\u001B[38;5;124m\"\u001B[39m\n\u001B[1;32m   (...)\u001B[0m\n\u001B[0;32m    445\u001B[0m         SNIMissingWarning,\n\u001B[0;32m    446\u001B[0m     )\n\u001B[0;32m    448\u001B[0m \u001B[38;5;28;01mif\u001B[39;00m send_sni:\n\u001B[1;32m--> 449\u001B[0m     ssl_sock \u001B[38;5;241m=\u001B[39m \u001B[43m_ssl_wrap_socket_impl\u001B[49m\u001B[43m(\u001B[49m\n\u001B[0;32m    450\u001B[0m \u001B[43m        \u001B[49m\u001B[43msock\u001B[49m\u001B[43m,\u001B[49m\u001B[43m \u001B[49m\u001B[43mcontext\u001B[49m\u001B[43m,\u001B[49m\u001B[43m \u001B[49m\u001B[43mtls_in_tls\u001B[49m\u001B[43m,\u001B[49m\u001B[43m \u001B[49m\u001B[43mserver_hostname\u001B[49m\u001B[38;5;241;43m=\u001B[39;49m\u001B[43mserver_hostname\u001B[49m\n\u001B[0;32m    451\u001B[0m \u001B[43m    \u001B[49m\u001B[43m)\u001B[49m\n\u001B[0;32m    452\u001B[0m \u001B[38;5;28;01melse\u001B[39;00m:\n\u001B[0;32m    453\u001B[0m     ssl_sock \u001B[38;5;241m=\u001B[39m _ssl_wrap_socket_impl(sock, context, tls_in_tls)\n",
      "File \u001B[1;32m~\\PycharmProjects\\thesis\\venv\\lib\\site-packages\\urllib3\\util\\ssl_.py:493\u001B[0m, in \u001B[0;36m_ssl_wrap_socket_impl\u001B[1;34m(sock, ssl_context, tls_in_tls, server_hostname)\u001B[0m\n\u001B[0;32m    490\u001B[0m     \u001B[38;5;28;01mreturn\u001B[39;00m SSLTransport(sock, ssl_context, server_hostname)\n\u001B[0;32m    492\u001B[0m \u001B[38;5;28;01mif\u001B[39;00m server_hostname:\n\u001B[1;32m--> 493\u001B[0m     \u001B[38;5;28;01mreturn\u001B[39;00m \u001B[43mssl_context\u001B[49m\u001B[38;5;241;43m.\u001B[39;49m\u001B[43mwrap_socket\u001B[49m\u001B[43m(\u001B[49m\u001B[43msock\u001B[49m\u001B[43m,\u001B[49m\u001B[43m \u001B[49m\u001B[43mserver_hostname\u001B[49m\u001B[38;5;241;43m=\u001B[39;49m\u001B[43mserver_hostname\u001B[49m\u001B[43m)\u001B[49m\n\u001B[0;32m    494\u001B[0m \u001B[38;5;28;01melse\u001B[39;00m:\n\u001B[0;32m    495\u001B[0m     \u001B[38;5;28;01mreturn\u001B[39;00m ssl_context\u001B[38;5;241m.\u001B[39mwrap_socket(sock)\n",
      "File \u001B[1;32m~\\AppData\\Local\\Programs\\Python\\Python38\\lib\\ssl.py:500\u001B[0m, in \u001B[0;36mSSLContext.wrap_socket\u001B[1;34m(self, sock, server_side, do_handshake_on_connect, suppress_ragged_eofs, server_hostname, session)\u001B[0m\n\u001B[0;32m    494\u001B[0m \u001B[38;5;28;01mdef\u001B[39;00m \u001B[38;5;21mwrap_socket\u001B[39m(\u001B[38;5;28mself\u001B[39m, sock, server_side\u001B[38;5;241m=\u001B[39m\u001B[38;5;28;01mFalse\u001B[39;00m,\n\u001B[0;32m    495\u001B[0m                 do_handshake_on_connect\u001B[38;5;241m=\u001B[39m\u001B[38;5;28;01mTrue\u001B[39;00m,\n\u001B[0;32m    496\u001B[0m                 suppress_ragged_eofs\u001B[38;5;241m=\u001B[39m\u001B[38;5;28;01mTrue\u001B[39;00m,\n\u001B[0;32m    497\u001B[0m                 server_hostname\u001B[38;5;241m=\u001B[39m\u001B[38;5;28;01mNone\u001B[39;00m, session\u001B[38;5;241m=\u001B[39m\u001B[38;5;28;01mNone\u001B[39;00m):\n\u001B[0;32m    498\u001B[0m     \u001B[38;5;66;03m# SSLSocket class handles server_hostname encoding before it calls\u001B[39;00m\n\u001B[0;32m    499\u001B[0m     \u001B[38;5;66;03m# ctx._wrap_socket()\u001B[39;00m\n\u001B[1;32m--> 500\u001B[0m     \u001B[38;5;28;01mreturn\u001B[39;00m \u001B[38;5;28;43mself\u001B[39;49m\u001B[38;5;241;43m.\u001B[39;49m\u001B[43msslsocket_class\u001B[49m\u001B[38;5;241;43m.\u001B[39;49m\u001B[43m_create\u001B[49m\u001B[43m(\u001B[49m\n\u001B[0;32m    501\u001B[0m \u001B[43m        \u001B[49m\u001B[43msock\u001B[49m\u001B[38;5;241;43m=\u001B[39;49m\u001B[43msock\u001B[49m\u001B[43m,\u001B[49m\n\u001B[0;32m    502\u001B[0m \u001B[43m        \u001B[49m\u001B[43mserver_side\u001B[49m\u001B[38;5;241;43m=\u001B[39;49m\u001B[43mserver_side\u001B[49m\u001B[43m,\u001B[49m\n\u001B[0;32m    503\u001B[0m \u001B[43m        \u001B[49m\u001B[43mdo_handshake_on_connect\u001B[49m\u001B[38;5;241;43m=\u001B[39;49m\u001B[43mdo_handshake_on_connect\u001B[49m\u001B[43m,\u001B[49m\n\u001B[0;32m    504\u001B[0m \u001B[43m        \u001B[49m\u001B[43msuppress_ragged_eofs\u001B[49m\u001B[38;5;241;43m=\u001B[39;49m\u001B[43msuppress_ragged_eofs\u001B[49m\u001B[43m,\u001B[49m\n\u001B[0;32m    505\u001B[0m \u001B[43m        \u001B[49m\u001B[43mserver_hostname\u001B[49m\u001B[38;5;241;43m=\u001B[39;49m\u001B[43mserver_hostname\u001B[49m\u001B[43m,\u001B[49m\n\u001B[0;32m    506\u001B[0m \u001B[43m        \u001B[49m\u001B[43mcontext\u001B[49m\u001B[38;5;241;43m=\u001B[39;49m\u001B[38;5;28;43mself\u001B[39;49m\u001B[43m,\u001B[49m\n\u001B[0;32m    507\u001B[0m \u001B[43m        \u001B[49m\u001B[43msession\u001B[49m\u001B[38;5;241;43m=\u001B[39;49m\u001B[43msession\u001B[49m\n\u001B[0;32m    508\u001B[0m \u001B[43m    \u001B[49m\u001B[43m)\u001B[49m\n",
      "File \u001B[1;32m~\\AppData\\Local\\Programs\\Python\\Python38\\lib\\ssl.py:1040\u001B[0m, in \u001B[0;36mSSLSocket._create\u001B[1;34m(cls, sock, server_side, do_handshake_on_connect, suppress_ragged_eofs, server_hostname, context, session)\u001B[0m\n\u001B[0;32m   1037\u001B[0m         \u001B[38;5;28;01mif\u001B[39;00m timeout \u001B[38;5;241m==\u001B[39m \u001B[38;5;241m0.0\u001B[39m:\n\u001B[0;32m   1038\u001B[0m             \u001B[38;5;66;03m# non-blocking\u001B[39;00m\n\u001B[0;32m   1039\u001B[0m             \u001B[38;5;28;01mraise\u001B[39;00m \u001B[38;5;167;01mValueError\u001B[39;00m(\u001B[38;5;124m\"\u001B[39m\u001B[38;5;124mdo_handshake_on_connect should not be specified for non-blocking sockets\u001B[39m\u001B[38;5;124m\"\u001B[39m)\n\u001B[1;32m-> 1040\u001B[0m         \u001B[38;5;28;43mself\u001B[39;49m\u001B[38;5;241;43m.\u001B[39;49m\u001B[43mdo_handshake\u001B[49m\u001B[43m(\u001B[49m\u001B[43m)\u001B[49m\n\u001B[0;32m   1041\u001B[0m \u001B[38;5;28;01mexcept\u001B[39;00m (\u001B[38;5;167;01mOSError\u001B[39;00m, \u001B[38;5;167;01mValueError\u001B[39;00m):\n\u001B[0;32m   1042\u001B[0m     \u001B[38;5;28mself\u001B[39m\u001B[38;5;241m.\u001B[39mclose()\n",
      "File \u001B[1;32m~\\AppData\\Local\\Programs\\Python\\Python38\\lib\\ssl.py:1309\u001B[0m, in \u001B[0;36mSSLSocket.do_handshake\u001B[1;34m(self, block)\u001B[0m\n\u001B[0;32m   1307\u001B[0m     \u001B[38;5;28;01mif\u001B[39;00m timeout \u001B[38;5;241m==\u001B[39m \u001B[38;5;241m0.0\u001B[39m \u001B[38;5;129;01mand\u001B[39;00m block:\n\u001B[0;32m   1308\u001B[0m         \u001B[38;5;28mself\u001B[39m\u001B[38;5;241m.\u001B[39msettimeout(\u001B[38;5;28;01mNone\u001B[39;00m)\n\u001B[1;32m-> 1309\u001B[0m     \u001B[38;5;28;43mself\u001B[39;49m\u001B[38;5;241;43m.\u001B[39;49m\u001B[43m_sslobj\u001B[49m\u001B[38;5;241;43m.\u001B[39;49m\u001B[43mdo_handshake\u001B[49m\u001B[43m(\u001B[49m\u001B[43m)\u001B[49m\n\u001B[0;32m   1310\u001B[0m \u001B[38;5;28;01mfinally\u001B[39;00m:\n\u001B[0;32m   1311\u001B[0m     \u001B[38;5;28mself\u001B[39m\u001B[38;5;241m.\u001B[39msettimeout(timeout)\n",
      "\u001B[1;31mKeyboardInterrupt\u001B[0m: "
     ]
    }
   ],
   "source": [
    "import pandas as pd\n",
    "from tqdm import tqdm\n",
    "import requests\n",
    "import json\n",
    "\n",
    "\n",
    "output_file = \"C:/Users/01din\\Documents/University\\BSc thesis\\data\\RAW_recipes.csv/ingredients/nutrition.csv\"\n",
    "unique_df = pd.read_csv(output_file)\n",
    "\n",
    "unique_df['nutrition'] = None\n",
    "\n",
    "api_key = \"2Gk6PKHQZJraaSdb9y9ghvMwTFCCLarDXogOcec7\"\n",
    "\n",
    "#For tracking progress\n",
    "tqdm.pandas(desc=\"Fetching nutritional information\")\n",
    "\n",
    "#Get the nutritional information for each unique item\n",
    "for index, row in tqdm(unique_df.iterrows(), total=len(unique_df)):\n",
    "    if pd.isna(row['nutrition']):\n",
    "        nutrition_data = get_nutritional_info(row['Long_Desc'], api_key)\n",
    "        #Convert to string\n",
    "        nutrition_data_str = json.dumps(nutrition_data) if nutrition_data else None\n",
    "        unique_df.loc[index, 'nutrition'] = nutrition_data_str\n",
    "        #Update CSV file\n",
    "        unique_df.to_csv(output_file, index=False)"
   ],
   "metadata": {
    "collapsed": false
   }
  },
  {
   "cell_type": "code",
   "execution_count": null,
   "outputs": [],
   "source": [
    "df.nutrition.tolist()"
   ],
   "metadata": {
    "collapsed": false
   }
  },
  {
   "cell_type": "code",
   "execution_count": null,
   "outputs": [],
   "source": [
    "import pandas as pd\n",
    "df = pd.read_csv(\"C:/Users/01din\\Documents/University\\BSc thesis\\data\\RAW_recipes.csv/ingredients/ingredients_labels.csv\")"
   ],
   "metadata": {
    "collapsed": false
   }
  },
  {
   "cell_type": "code",
   "execution_count": null,
   "outputs": [],
   "source": [
    "df.label.value_counts()"
   ],
   "metadata": {
    "collapsed": false
   }
  },
  {
   "cell_type": "code",
   "execution_count": null,
   "outputs": [],
   "source": [
    "output_file = \"C:/Users/01din\\Documents/University\\BSc thesis\\data\\RAW_recipes.csv/ingredients/nutrition.csv\"\n",
    "nutrition_df = pd.read_csv(output_file)"
   ],
   "metadata": {
    "collapsed": false
   }
  },
  {
   "cell_type": "code",
   "execution_count": null,
   "outputs": [],
   "source": [
    "failed = nutrition_df[nutrition_df.nutrition.isna()]"
   ],
   "metadata": {
    "collapsed": false
   }
  },
  {
   "cell_type": "markdown",
   "source": [
    "Some are still missing, these will be manually filled through USDA or nutrifox in the case of USDA having removed this entry from their api."
   ],
   "metadata": {
    "collapsed": false
   }
  },
  {
   "cell_type": "code",
   "execution_count": null,
   "outputs": [],
   "source": [
    "failed"
   ],
   "metadata": {
    "collapsed": false
   }
  },
  {
   "cell_type": "code",
   "execution_count": null,
   "outputs": [],
   "source": [
    "def get_nutritional_info(food_name, api_key):\n",
    "    search_url = \"https://api.nal.usda.gov/fdc/v1/foods/search\"\n",
    "\n",
    "    # Search for the food item\n",
    "    search_params = {\"api_key\": api_key, \"query\": food_name}\n",
    "    response = requests.get(search_url, params=search_params)\n",
    "    results = response.json()\n",
    "    return results"
   ],
   "metadata": {
    "collapsed": false
   }
  },
  {
   "cell_type": "code",
   "execution_count": null,
   "outputs": [],
   "source": [
    "response = get_nutritional_info('PIZZA HUT 12\" Cheese Pizza, Pan Crust', api_key)"
   ],
   "metadata": {
    "collapsed": false
   }
  },
  {
   "cell_type": "markdown",
   "source": [
    "Some values were missing from USDA. They were found through other sources like nutrifox."
   ],
   "metadata": {
    "collapsed": false
   }
  },
  {
   "cell_type": "code",
   "execution_count": 21,
   "outputs": [],
   "source": [
    "nutrition_df.at[nutrition_df[nutrition_df['Long_Desc'] == 'Beef, ground, 70% lean meat / 30% fat, raw'].index[0], 'nutrition'] = '{\"Energy\": 332, \"Protein\": 14.4, \"Total lipid (fat)\": 30, \"Carbohydrate, by difference\": 0.0, \"Fiber, total dietary\": 0.0, \"Sugars, total including NLEA\": 0.0}'\n",
    "\n",
    "nutrition_df.at[nutrition_df[nutrition_df['Long_Desc'] == 'Oil, canola'].index[0], 'nutrition'] = '{\"Energy\": 884, \"Protein\": 0, \"Total lipid (fat)\": 100, \"Carbohydrate, by difference\": 0.0, \"Fiber, total dietary\": 0.0, \"Sugars, total including NLEA\": 0.0}'\n",
    "\n",
    "nutrition_df.at[nutrition_df[nutrition_df['Long_Desc'] == 'Beef, ground, 93% lean meat / 7% fat, raw'].index[0], 'nutrition'] = '{\"Energy\": 152, \"Protein\": 20.8, \"Total lipid (fat)\": 7, \"Carbohydrate, by difference\": 0.0, \"Fiber, total dietary\": 0.0, \"Sugars, total including NLEA\": 0.0}'\n",
    "\n",
    "nutrition_df.at[nutrition_df[nutrition_df['Long_Desc'] == 'PEPPERIDGE FARM, Hamburger Buns w/Sesame'].index[0], 'nutrition'] = '{\"Energy\": 280, \"Protein\": 0, \"Total lipid (fat)\": 4, \"Carbohydrate, by difference\": 50, \"Fiber, total dietary\": 3, \"Sugars, total including NLEA\": 4}'\n",
    "\n",
    "nutrition_df.at[nutrition_df[nutrition_df['Long_Desc'] == 'Beef, round, bottom round, roast, separable lean only, trimmed to 0\" fat, all grades, cooked, roasted'].index[0], 'nutrition'] = '{\"Energy\": 185, \"Protein\": 27.2, \"Total lipid (fat)\": 7.63, \"Carbohydrate, by difference\": 0, \"Fiber, total dietary\": 0, \"Sugars, total including NLEA\": 0}'\n",
    "\n",
    "nutrition_df.at[nutrition_df[nutrition_df['Long_Desc'] == 'Beef, ground, 70% lean meat / 30% fat, crumbles, cooked, pan-browned'].index[0], 'nutrition'] = '{\"Energy\": 270, \"Protein\": 25.6, \"Total lipid (fat)\": 17.9, \"Carbohydrate, by difference\": 0, \"Fiber, total dietary\": 0, \"Sugars, total including NLEA\": 0}'\n",
    "\n",
    "nutrition_df.at[nutrition_df[nutrition_df['Long_Desc'] == 'Sauce, pasta, spaghetti/marinara, ready-to-serve'].index[0], 'nutrition'] = '{\"Energy\": 51, \"Protein\": 1.41, \"Total lipid (fat)\": 1.48, \"Carbohydrate, by difference\": 8.06, \"Fiber, total dietary\": 1.8, \"Sugars, total including NLEA\": 5.5}'\n",
    "\n",
    "nutrition_df.at[nutrition_df[nutrition_df['Long_Desc'] == 'PAPA JOHN\\'S 14\" The Works Pizza, Original Crust'].index[0], 'nutrition'] = '{\"Energy\": 240, \"Protein\": 10, \"Total lipid (fat)\": 10, \"Carbohydrate, by difference\": 27, \"Fiber, total dietary\": 3, \"Sugars, total including NLEA\": 5}'\n",
    "\n",
    "nutrition_df.at[nutrition_df[nutrition_df['Long_Desc'] == 'Beef, flank, steak, separable lean only, trimmed to 0\" fat, choice, raw'].index[0], 'nutrition'] = '{\"Energy\": 149, \"Protein\": 22, \"Total lipid (fat)\": 6, \"Carbohydrate, by difference\": 0, \"Fiber, total dietary\": 0, \"Sugars, total including NLEA\": 0}'\n",
    "\n",
    "nutrition_df.at[nutrition_df[nutrition_df['Long_Desc'] == 'Beef, chuck eye roast, boneless, America\\'s Beef Roast, separable lean only, trimmed to 0\" fat, choice, raw'].index[0], 'nutrition'] = '{\"Energy\": 139, \"Protein\": 21, \"Total lipid (fat)\": 6, \"Carbohydrate, by difference\": 0, \"Fiber, total dietary\": 0, \"Sugars, total including NLEA\": 0}'\n",
    "\n",
    "nutrition_df.at[nutrition_df[nutrition_df['Long_Desc'] == 'Beef, round, outside round, bottom round, steak, separable lean and fat, trimmed to 0\" fat, choice, raw'].index[0], 'nutrition'] = '{\"Energy\": 150, \"Protein\": 21, \"Total lipid (fat)\": 7, \"Carbohydrate, by difference\": 0, \"Fiber, total dietary\": 0, \"Sugars, total including NLEA\": 0}'\n",
    "\n",
    "nutrition_df.at[nutrition_df[nutrition_df['Long_Desc'] == 'Beef, loin, top sirloin cap steak, boneless, separable lean only, trimmed to 1/8\" fat, select, raw'].index[0], 'nutrition'] = '{\"Energy\": 138, \"Protein\": 21.3, \"Total lipid (fat)\": 5.82, \"Carbohydrate, by difference\": 0, \"Fiber, total dietary\": 0, \"Sugars, total including NLEA\": 0}'\n",
    "\n",
    "nutrition_df.at[nutrition_df[nutrition_df['Long_Desc'] == 'Beef, top sirloin, steak, separable lean and fat, trimmed to 1/8\" fat, select, raw'].index[0], 'nutrition'] = '{\"Energy\": 158, \"Protein\": 22.2, \"Total lipid (fat)\": 7.07, \"Carbohydrate, by difference\": 0, \"Fiber, total dietary\": 0, \"Sugars, total including NLEA\": 0}'\n",
    "\n",
    "nutrition_df.at[nutrition_df[nutrition_df['Long_Desc'] == 'Soup, beef broth, less/reduced sodium, ready to serve'].index[0], 'nutrition'] = '{\"Energy\": 6, \"Protein\": 1.14, \"Total lipid (fat)\": 0.07, \"Carbohydrate, by difference\": 0.2, \"Fiber, total dietary\": 0, \"Sugars, total including NLEA\": 0.2}'\n",
    "\n",
    "nutrition_df.at[nutrition_df[nutrition_df['Long_Desc'] == 'PIZZA HUT 12\" Cheese Pizza, Pan Crust'].index[0], 'nutrition'] = '{\"Energy\": 280, \"Protein\": 11.7, \"Total lipid (fat)\": 12.6, \"Carbohydrate, by difference\": 29.9, \"Fiber, total dietary\": 1.7, \"Sugars, total including NLEA\": 3.21}'\n",
    "\n",
    "nutrition_df.at[nutrition_df[nutrition_df['Long_Desc'] == 'Beef, loin, top sirloin cap steak, boneless, separable lean only, trimmed to 1/8\" fat, choice, cooked, grilled'].index[0], 'nutrition'] = '{\"Energy\": 189, \"Protein\": 28, \"Total lipid (fat)\": 8, \"Carbohydrate, by difference\": 0, \"Fiber, total dietary\": 0, \"Sugars, total including NLEA\": 0}'\n",
    "\n",
    "nutrition_df.at[nutrition_df[nutrition_df['Long_Desc'] == 'Beef, tenderloin, steak, separable lean only, trimmed to 1/8\" fat, choice, raw'].index[0], 'nutrition'] = '{\"Energy\": 158, \"Protein\": 22.2, \"Total lipid (fat)\": 7.07, \"Carbohydrate, by difference\": 0, \"Fiber, total dietary\": 0, \"Sugars, total including NLEA\": 0}'\n",
    "\n",
    "nutrition_df.at[nutrition_df[nutrition_df['Long_Desc'] == 'Lamb, domestic, leg, sirloin half, separable lean only, trimmed to 1/4\" fat, choice, raw'].index[0], 'nutrition'] = '{\"Energy\": 134, \"Protein\": 21, \"Total lipid (fat)\": 5, \"Carbohydrate, by difference\": 0, \"Fiber, total dietary\": 0, \"Sugars, total including NLEA\": 0}'\n",
    "\n",
    "nutrition_df.at[nutrition_df[nutrition_df['Long_Desc'] == 'CAMPBELL\\'S Red and White, Beef Consomme, condensed'].index[0], 'nutrition'] = '{\"Energy\": 16, \"Protein\": 3, \"Total lipid (fat)\": 0, \"Carbohydrate, by difference\": 1, \"Fiber, total dietary\": 0, \"Sugars, total including NLEA\": 1}'\n",
    "\n",
    "nutrition_df.at[nutrition_df[nutrition_df['Long_Desc'] == 'Beef, rib eye steak, bone-in, lip-on, separable lean and fat, trimmed to 1/8\" fat, choice, cooked, grilled'].index[0], 'nutrition'] = '{\"Energy\": 313, \"Protein\": 23, \"Total lipid (fat)\": 25, \"Carbohydrate, by difference\": 0, \"Fiber, total dietary\": 0, \"Sugars, total including NLEA\": 0}'\n",
    "\n",
    "nutrition_df.at[nutrition_df[nutrition_df['Long_Desc'] == 'Pork sausage, link/patty, unprepared'].index[0], 'nutrition'] = '{\"Energy\": 392, \"Protein\": 13.5, \"Total lipid (fat)\": 37.2, \"Carbohydrate, by difference\": 0.69, \"Fiber, total dietary\": 0.0, \"Sugars, total including NLEA\": 0.53}'\n",
    "\n",
    "nutrition_df.at[nutrition_df[nutrition_df['Long_Desc'] == 'Beef, ground, 80% lean meat / 20% fat, raw'].index[0], 'nutrition'] = '{\"Energy\": 254, \"Protein\": 17.2, \"Total lipid (fat)\": 20, \"Carbohydrate, by difference\": 0, \"Fiber, total dietary\": 0.0, \"Sugars, total including NLEA\": 0.0}'\n",
    "\n",
    "nutrition_df.at[nutrition_df[nutrition_df['Long_Desc'] == 'Beef, chuck, short ribs, boneless, separable lean only, trimmed to 0\" fat, choice, raw'].index[0], 'nutrition'] = '{\"Energy\": 175, \"Protein\": 19.4, \"Total lipid (fat)\": 10.7, \"Carbohydrate, by difference\": 0.29, \"Fiber, total dietary\": 0.0, \"Sugars, total including NLEA\": 0.0}'\n",
    "\n",
    "nutrition_df.at[nutrition_df[nutrition_df['Long_Desc'] == 'Beef, plate, inside skirt steak, separable lean and fat, trimmed to 0\" fat, all grades, cooked, broiled'].index[0], 'nutrition'] = '{\"Energy\": 268, \"Protein\": 28.6, \"Total lipid (fat)\": 17.1, \"Carbohydrate, by difference\": 0.0, \"Fiber, total dietary\": 0.0, \"Sugars, total including NLEA\": 0.0}'\n",
    "\n",
    "nutrition_df.at[nutrition_df[nutrition_df['Long_Desc'] == 'Beef, chuck eye steak, boneless, separable lean only, trimmed to 0\" fat, choice, raw'].index[0], 'nutrition'] = '{\"Energy\": 277, \"Protein\": 25, \"Total lipid (fat)\": 19.6, \"Carbohydrate, by difference\": 0.0, \"Fiber, total dietary\": 0.0, \"Sugars, total including NLEA\": 0.0}'\n",
    "\n",
    "nutrition_df.at[nutrition_df[nutrition_df['Long_Desc'] == 'Beef, round, top round, steak, separable lean only, trimmed to 1/8\" fat, choice, raw'].index[0], 'nutrition'] = '{\"Energy\": 160, \"Protein\": 21, \"Total lipid (fat)\": 8, \"Carbohydrate, by difference\": 0.0, \"Fiber, total dietary\": 0.0, \"Sugars, total including NLEA\": 0.0}'\n",
    "\n",
    "nutrition_df.at[nutrition_df[nutrition_df['Long_Desc'] == 'Popcorn, sugar syrup/caramel, fat-free'].index[0], 'nutrition'] = '{\"Energy\": 381, \"Protein\": 2, \"Total lipid (fat)\": 1.4, \"Carbohydrate, by difference\": 90.1, \"Fiber, total dietary\": 2.5, \"Sugars, total including NLEA\": 64.7}'\n",
    "\n",
    "nutrition_df.at[nutrition_df[nutrition_df['Long_Desc'] == 'Beef, top sirloin, steak, separable lean only, trimmed to 1/8\" fat, choice, raw'].index[0], 'nutrition'] = '{\"Energy\": 131, \"Protein\": 22.1, \"Total lipid (fat)\": 4.08, \"Carbohydrate, by difference\": 0, \"Fiber, total dietary\": 0, \"Sugars, total including NLEA\": 0}'\n",
    "\n",
    "nutrition_df.at[nutrition_df[nutrition_df['Long_Desc'] == 'Beef, flank, steak, separable lean only, trimmed to 0\" fat, choice, cooked, broiled'].index[0], 'nutrition'] = '{\"Energy\": 194, \"Protein\": 27.8, \"Total lipid (fat)\": 8.32, \"Carbohydrate, by difference\": 0, \"Fiber, total dietary\": 0, \"Sugars, total including NLEA\": 0}'\n",
    "\n",
    "nutrition_df.at[nutrition_df[nutrition_df['Long_Desc'] == 'Beef, top sirloin, steak, separable lean and fat, trimmed to 0\" fat, all grades, cooked, broiled'].index[0], 'nutrition'] = '{\"Energy\": 183, \"Protein\": 30.6, \"Total lipid (fat)\": 5.79, \"Carbohydrate, by difference\": 0, \"Fiber, total dietary\": 0, \"Sugars, total including NLEA\": 0}'\n",
    "\n",
    "nutrition_df.at[nutrition_df[nutrition_df['Long_Desc'] == 'Beef, rib, back ribs, bone-in, separable lean only, trimmed to 0\" fat, choice, raw'].index[0], 'nutrition'] = '{\"Energy\": 252, \"Protein\": 19, \"Total lipid (fat)\": 19, \"Carbohydrate, by difference\": 1, \"Fiber, total dietary\": 0, \"Sugars, total including NLEA\": 0}'\n",
    "\n",
    "nutrition_df.at[nutrition_df[nutrition_df['Long_Desc'] == 'Beef, chuck eye steak, boneless, separable lean and fat, trimmed to 0\" fat, choice, raw'].index[0], 'nutrition'] = '{\"Energy\": 277, \"Protein\": 25, \"Total lipid (fat)\": 19.6, \"Carbohydrate, by difference\": 0, \"Fiber, total dietary\": 0, \"Sugars, total including NLEA\": 0}'\n",
    "\n",
    "nutrition_df.at[nutrition_df[nutrition_df['Long_Desc'] == 'Lamb, domestic, shoulder, blade, separable lean only, trimmed to 1/4\" fat, choice, raw'].index[0], 'nutrition'] = '{\"Energy\": 279, \"Protein\": 35.5, \"Total lipid (fat)\": 14.1, \"Carbohydrate, by difference\": 0, \"Fiber, total dietary\": 0, \"Sugars, total including NLEA\": 0}'\n",
    "\n",
    "nutrition_df.at[nutrition_df[nutrition_df['Long_Desc'] == 'Beef, chuck, arm pot roast, separable lean only, trimmed to 1/8\" fat, choice, raw'].index[0], 'nutrition'] = '{\"Energy\": 139, \"Protein\": 22, \"Total lipid (fat)\": 5.05, \"Carbohydrate, by difference\": 0, \"Fiber, total dietary\": 0, \"Sugars, total including NLEA\": 0}'\n",
    "\n",
    "nutrition_df.at[nutrition_df[nutrition_df['Long_Desc'] == 'Beef, loin, top sirloin cap steak, boneless, separable lean only, trimmed to 1/8\" fat, choice, raw'].index[0], 'nutrition'] = '{\"Energy\": 138, \"Protein\": 21.3, \"Total lipid (fat)\": 5.82, \"Carbohydrate, by difference\": 0, \"Fiber, total dietary\": 0, \"Sugars, total including NLEA\": 0}'"
   ],
   "metadata": {
    "collapsed": false
   }
  },
  {
   "cell_type": "code",
   "execution_count": 22,
   "outputs": [],
   "source": [
    "failed = nutrition_df[nutrition_df.nutrition.isna()]"
   ],
   "metadata": {
    "collapsed": false
   }
  },
  {
   "cell_type": "code",
   "execution_count": 24,
   "outputs": [
    {
     "data": {
      "text/plain": "                             Long_Desc                         FdGrp_Desc  \\\n0                          Salt, table                   Spices and Herbs   \n1                 Butter, without salt             Dairy and Egg Products   \n2                   Sugars, granulated                             Sweets   \n3                          Onions, raw  Vegetables and Vegetable Products   \n4     Beverages, water, tap, municipal                          Beverages   \n...                                ...                                ...   \n2578                               NaN                                NaN   \n2581                               NaN                                NaN   \n2612                               NaN                                NaN   \n2648                               NaN                                NaN   \n2679                               NaN                                NaN   \n\n                                              nutrition  \n0     {\"Energy\": 0.0, \"Protein\": 0.0, \"Total lipid (...  \n1     {\"Energy\": 717.0, \"Protein\": 0.85, \"Total lipi...  \n2     {\"Energy\": 385.0, \"Protein\": 0.0, \"Total lipid...  \n3     {\"Protein\": 0.86, \"Total lipid (fat)\": 0.08, \"...  \n4     {\"Energy\": 0.0, \"Protein\": 0.0, \"Total lipid (...  \n...                                                 ...  \n2578  {\"Energy\": 252, \"Protein\": 19, \"Total lipid (f...  \n2581  {\"Energy\": 277, \"Protein\": 25, \"Total lipid (f...  \n2612  {\"Energy\": 279, \"Protein\": 35.5, \"Total lipid ...  \n2648  {\"Energy\": 139, \"Protein\": 22, \"Total lipid (f...  \n2679  {\"Energy\": 138, \"Protein\": 21.3, \"Total lipid ...  \n\n[1074 rows x 3 columns]",
      "text/html": "<div>\n<style scoped>\n    .dataframe tbody tr th:only-of-type {\n        vertical-align: middle;\n    }\n\n    .dataframe tbody tr th {\n        vertical-align: top;\n    }\n\n    .dataframe thead th {\n        text-align: right;\n    }\n</style>\n<table border=\"1\" class=\"dataframe\">\n  <thead>\n    <tr style=\"text-align: right;\">\n      <th></th>\n      <th>Long_Desc</th>\n      <th>FdGrp_Desc</th>\n      <th>nutrition</th>\n    </tr>\n  </thead>\n  <tbody>\n    <tr>\n      <th>0</th>\n      <td>Salt, table</td>\n      <td>Spices and Herbs</td>\n      <td>{\"Energy\": 0.0, \"Protein\": 0.0, \"Total lipid (...</td>\n    </tr>\n    <tr>\n      <th>1</th>\n      <td>Butter, without salt</td>\n      <td>Dairy and Egg Products</td>\n      <td>{\"Energy\": 717.0, \"Protein\": 0.85, \"Total lipi...</td>\n    </tr>\n    <tr>\n      <th>2</th>\n      <td>Sugars, granulated</td>\n      <td>Sweets</td>\n      <td>{\"Energy\": 385.0, \"Protein\": 0.0, \"Total lipid...</td>\n    </tr>\n    <tr>\n      <th>3</th>\n      <td>Onions, raw</td>\n      <td>Vegetables and Vegetable Products</td>\n      <td>{\"Protein\": 0.86, \"Total lipid (fat)\": 0.08, \"...</td>\n    </tr>\n    <tr>\n      <th>4</th>\n      <td>Beverages, water, tap, municipal</td>\n      <td>Beverages</td>\n      <td>{\"Energy\": 0.0, \"Protein\": 0.0, \"Total lipid (...</td>\n    </tr>\n    <tr>\n      <th>...</th>\n      <td>...</td>\n      <td>...</td>\n      <td>...</td>\n    </tr>\n    <tr>\n      <th>2578</th>\n      <td>NaN</td>\n      <td>NaN</td>\n      <td>{\"Energy\": 252, \"Protein\": 19, \"Total lipid (f...</td>\n    </tr>\n    <tr>\n      <th>2581</th>\n      <td>NaN</td>\n      <td>NaN</td>\n      <td>{\"Energy\": 277, \"Protein\": 25, \"Total lipid (f...</td>\n    </tr>\n    <tr>\n      <th>2612</th>\n      <td>NaN</td>\n      <td>NaN</td>\n      <td>{\"Energy\": 279, \"Protein\": 35.5, \"Total lipid ...</td>\n    </tr>\n    <tr>\n      <th>2648</th>\n      <td>NaN</td>\n      <td>NaN</td>\n      <td>{\"Energy\": 139, \"Protein\": 22, \"Total lipid (f...</td>\n    </tr>\n    <tr>\n      <th>2679</th>\n      <td>NaN</td>\n      <td>NaN</td>\n      <td>{\"Energy\": 138, \"Protein\": 21.3, \"Total lipid ...</td>\n    </tr>\n  </tbody>\n</table>\n<p>1074 rows × 3 columns</p>\n</div>"
     },
     "execution_count": 24,
     "metadata": {},
     "output_type": "execute_result"
    }
   ],
   "source": [
    "nutrition_df"
   ],
   "metadata": {
    "collapsed": false
   }
  },
  {
   "cell_type": "code",
   "execution_count": 26,
   "outputs": [],
   "source": [
    "nutrition_df.to_csv(\"C:/Users/01din\\Documents/University\\BSc thesis\\data\\RAW_recipes.csv/ingredients/nutrition.csv\")"
   ],
   "metadata": {
    "collapsed": false
   }
  },
  {
   "cell_type": "code",
   "execution_count": 37,
   "outputs": [],
   "source": [
    "df = pd.read_csv(\"C:/Users/01din\\Documents/University\\BSc thesis\\data\\RAW_recipes.csv/ingredients/ingredients_labels.csv\")\n",
    "df = df[['ingredient', 'frequency', 'Long_Desc', 'FdGrp_Desc']]\n",
    "df = df[df.frequency>49]"
   ],
   "metadata": {
    "collapsed": false
   }
  },
  {
   "cell_type": "code",
   "execution_count": 46,
   "outputs": [
    {
     "name": "stderr",
     "output_type": "stream",
     "text": [
      "C:\\Users\\01din\\AppData\\Local\\Temp\\ipykernel_23264\\389146578.py:6: FutureWarning: The frame.append method is deprecated and will be removed from pandas in a future version. Use pandas.concat instead.\n",
      "  merged = merged.append(df[df['Long_Desc'].isna()], ignore_index=True)\n"
     ]
    },
    {
     "data": {
      "text/plain": "                  ingredient  frequency                         Long_Desc  \\\n0                       salt    85746.0                       Salt, table   \n1                     butter    54975.0              Butter, without salt   \n2                      sugar    44535.0                Sugars, granulated   \n3                      onion    39065.0                       Onions, raw   \n4                      water    34914.0  Beverages, water, tap, municipal   \n...                      ...        ...                               ...   \n2712                 skewers       96.0                               NaN   \n2713              toothpicks       84.0                               NaN   \n2714      reynolds wrap foil       67.0                               NaN   \n2715         parchment paper       61.0                               NaN   \n2716  wooden popsicle sticks       50.0                               NaN   \n\n                                              nutrition  \\\n0     {\"Energy\": 0.0, \"Protein\": 0.0, \"Total lipid (...   \n1     {\"Energy\": 717.0, \"Protein\": 0.85, \"Total lipi...   \n2     {\"Energy\": 385.0, \"Protein\": 0.0, \"Total lipid...   \n3     {\"Protein\": 0.86, \"Total lipid (fat)\": 0.08, \"...   \n4     {\"Energy\": 0.0, \"Protein\": 0.0, \"Total lipid (...   \n...                                                 ...   \n2712                                                NaN   \n2713                                                NaN   \n2714                                                NaN   \n2715                                                NaN   \n2716                                                NaN   \n\n                             FdGrp_Desc  \n0                      Spices and Herbs  \n1                Dairy and Egg Products  \n2                                Sweets  \n3     Vegetables and Vegetable Products  \n4                             Beverages  \n...                                 ...  \n2712                                NaN  \n2713                                NaN  \n2714                                NaN  \n2715                                NaN  \n2716                                NaN  \n\n[2717 rows x 5 columns]",
      "text/html": "<div>\n<style scoped>\n    .dataframe tbody tr th:only-of-type {\n        vertical-align: middle;\n    }\n\n    .dataframe tbody tr th {\n        vertical-align: top;\n    }\n\n    .dataframe thead th {\n        text-align: right;\n    }\n</style>\n<table border=\"1\" class=\"dataframe\">\n  <thead>\n    <tr style=\"text-align: right;\">\n      <th></th>\n      <th>ingredient</th>\n      <th>frequency</th>\n      <th>Long_Desc</th>\n      <th>nutrition</th>\n      <th>FdGrp_Desc</th>\n    </tr>\n  </thead>\n  <tbody>\n    <tr>\n      <th>0</th>\n      <td>salt</td>\n      <td>85746.0</td>\n      <td>Salt, table</td>\n      <td>{\"Energy\": 0.0, \"Protein\": 0.0, \"Total lipid (...</td>\n      <td>Spices and Herbs</td>\n    </tr>\n    <tr>\n      <th>1</th>\n      <td>butter</td>\n      <td>54975.0</td>\n      <td>Butter, without salt</td>\n      <td>{\"Energy\": 717.0, \"Protein\": 0.85, \"Total lipi...</td>\n      <td>Dairy and Egg Products</td>\n    </tr>\n    <tr>\n      <th>2</th>\n      <td>sugar</td>\n      <td>44535.0</td>\n      <td>Sugars, granulated</td>\n      <td>{\"Energy\": 385.0, \"Protein\": 0.0, \"Total lipid...</td>\n      <td>Sweets</td>\n    </tr>\n    <tr>\n      <th>3</th>\n      <td>onion</td>\n      <td>39065.0</td>\n      <td>Onions, raw</td>\n      <td>{\"Protein\": 0.86, \"Total lipid (fat)\": 0.08, \"...</td>\n      <td>Vegetables and Vegetable Products</td>\n    </tr>\n    <tr>\n      <th>4</th>\n      <td>water</td>\n      <td>34914.0</td>\n      <td>Beverages, water, tap, municipal</td>\n      <td>{\"Energy\": 0.0, \"Protein\": 0.0, \"Total lipid (...</td>\n      <td>Beverages</td>\n    </tr>\n    <tr>\n      <th>...</th>\n      <td>...</td>\n      <td>...</td>\n      <td>...</td>\n      <td>...</td>\n      <td>...</td>\n    </tr>\n    <tr>\n      <th>2712</th>\n      <td>skewers</td>\n      <td>96.0</td>\n      <td>NaN</td>\n      <td>NaN</td>\n      <td>NaN</td>\n    </tr>\n    <tr>\n      <th>2713</th>\n      <td>toothpicks</td>\n      <td>84.0</td>\n      <td>NaN</td>\n      <td>NaN</td>\n      <td>NaN</td>\n    </tr>\n    <tr>\n      <th>2714</th>\n      <td>reynolds wrap foil</td>\n      <td>67.0</td>\n      <td>NaN</td>\n      <td>NaN</td>\n      <td>NaN</td>\n    </tr>\n    <tr>\n      <th>2715</th>\n      <td>parchment paper</td>\n      <td>61.0</td>\n      <td>NaN</td>\n      <td>NaN</td>\n      <td>NaN</td>\n    </tr>\n    <tr>\n      <th>2716</th>\n      <td>wooden popsicle sticks</td>\n      <td>50.0</td>\n      <td>NaN</td>\n      <td>NaN</td>\n      <td>NaN</td>\n    </tr>\n  </tbody>\n</table>\n<p>2717 rows × 5 columns</p>\n</div>"
     },
     "execution_count": 46,
     "metadata": {},
     "output_type": "execute_result"
    }
   ],
   "source": [
    "#Drop rows with NaN values in the merging column\n",
    "df_nonan = df.dropna(subset=['Long_Desc'])\n",
    "\n",
    "merged = df_nonan.merge(nutrition_df, on='Long_Desc', how='left')\n",
    "merged = merged.append(df[df['Long_Desc'].isna()], ignore_index=True)\n",
    "\n",
    "merged.FdGrp_Desc = merged.FdGrp_Desc_x\n",
    "merged.drop(['FdGrp_Desc_x', 'FdGrp_Desc_y'], axis=1, inplace = True)\n",
    "merged"
   ],
   "metadata": {
    "collapsed": false
   }
  },
  {
   "cell_type": "markdown",
   "source": [
    "This final dataframe contains each USDA item that has at least one ingredient from the recipe dataset linked to it, and has its nutritional values. Note: the NaN's occur with items which are not foods, which are few."
   ],
   "metadata": {
    "collapsed": false
   }
  },
  {
   "cell_type": "code",
   "execution_count": 48,
   "outputs": [],
   "source": [
    "merged.to_csv(\"C:/Users/01din\\Documents/University\\BSc thesis\\data\\RAW_recipes.csv/ingredients/ingredients_nutrition.csv\")"
   ],
   "metadata": {
    "collapsed": false
   }
  }
 ],
 "metadata": {
  "kernelspec": {
   "display_name": "Python 3",
   "language": "python",
   "name": "python3"
  },
  "language_info": {
   "codemirror_mode": {
    "name": "ipython",
    "version": 2
   },
   "file_extension": ".py",
   "mimetype": "text/x-python",
   "name": "python",
   "nbconvert_exporter": "python",
   "pygments_lexer": "ipython2",
   "version": "2.7.6"
  }
 },
 "nbformat": 4,
 "nbformat_minor": 0
}
