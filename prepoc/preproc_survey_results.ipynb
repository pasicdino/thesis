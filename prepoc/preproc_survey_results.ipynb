{
 "cells": [
  {
   "cell_type": "code",
   "execution_count": 1,
   "metadata": {
    "collapsed": true
   },
   "outputs": [],
   "source": [
    "import pandas as pd\n",
    "from ast import literal_eval\n",
    "survey_df = pd.read_csv(r'C:\\Users\\01din\\PycharmProjects\\thesis\\data\\survey_results\\survey_results_raw.csv', header=None)\n",
    "generic = lambda x: literal_eval(x)\n",
    "conv = {'nutrition' : generic, 'steps' : generic, 'ingredients' : generic, 'id_column' : generic, 'jaccard_similarity' : generic, 'diff' : generic, 'recipes' : generic, 'ingredients_original' : generic, 'tags': generic}\n",
    "df = pd.read_csv(r\"C:\\Users\\01din\\PycharmProjects\\thesis\\data\\cleaned_recipes\\recipes_with_JS.csv\", converters=conv)\n",
    "df.drop(['Unnamed: 0'], inplace=True, axis=1)"
   ]
  },
  {
   "cell_type": "markdown",
   "source": [
    "The survey output was messy and needed to be preprocessed. In this notebook it was turned into a proper DF with relevant columns."
   ],
   "metadata": {
    "collapsed": false
   }
  },
  {
   "cell_type": "code",
   "execution_count": 3,
   "outputs": [],
   "source": [
    "survey_df.drop([0], axis = 1, inplace = True)"
   ],
   "metadata": {
    "collapsed": false
   }
  },
  {
   "cell_type": "code",
   "execution_count": 4,
   "outputs": [],
   "source": [
    "survey_df = survey_df.loc[[0, 5]]"
   ],
   "metadata": {
    "collapsed": false
   }
  },
  {
   "cell_type": "code",
   "execution_count": 5,
   "outputs": [],
   "source": [
    "survey_df = survey_df.T"
   ],
   "metadata": {
    "collapsed": false
   }
  },
  {
   "cell_type": "code",
   "execution_count": 6,
   "outputs": [],
   "source": [
    "survey_df.columns = ['recipe', 'result']"
   ],
   "metadata": {
    "collapsed": false
   }
  },
  {
   "cell_type": "code",
   "execution_count": 7,
   "outputs": [
    {
     "data": {
      "text/plain": "\"Recipe: 'beth s pizza crust' (ID: 13546:144943)\\n\\nIngredients:\\nyeast, water, flour, olive oil, sugar, salt\\n\\nInstructions:\\ncombine yeast and warm water, stir until dissolved, add remaining ingredients and mix well, let rest 5 minutes, roll out to size and shape you need, bake at 450 for 15 minutes or until golden, a couple, instead, i add several good shakes of italian seasoning mix, use your imagination, this is hard to mess up\\n\\nIs the ingredient 'shortening' a good replacement for 'olive oil' in this recipe?\""
     },
     "execution_count": 7,
     "metadata": {},
     "output_type": "execute_result"
    }
   ],
   "source": [
    "survey_df.recipe.iloc[3]"
   ],
   "metadata": {
    "collapsed": false
   }
  },
  {
   "cell_type": "code",
   "execution_count": 12,
   "outputs": [],
   "source": [
    "survey_df['id'] = survey_df['recipe'].str.extract(r\"(ID: (\\d+):\\d+)\")[1]\n",
    "\n",
    "survey_df['replacement'] = survey_df['recipe'].str.extract(r\"Is the ingredient '(.*?)'\")\n",
    "\n",
    "survey_df['replaced'] = survey_df['recipe'].str.extract(r\"replacement for '(.*?)'\")"
   ],
   "metadata": {
    "collapsed": false
   }
  },
  {
   "cell_type": "code",
   "execution_count": 13,
   "outputs": [
    {
     "data": {
      "text/plain": "                                                recipe result      id  \\\n1    Recipe: 'pete s scratch pancakes' (ID: 5170:37...    Yes    5170   \n2    Recipe: 'pete s scratch pancakes' (ID: 5170:21...    Yes    5170   \n3    Recipe: 'pete s scratch pancakes' (ID: 5170:20...    Yes    5170   \n4    Recipe: 'beth s pizza crust' (ID: 13546:144943...    Yes   13546   \n5    Recipe: 'beth s pizza crust' (ID: 13546:377904...    Yes   13546   \n..                                                 ...    ...     ...   \n516  Recipe: 'kittencal s creamy vanilla milkshake'...     No  376850   \n517  Recipe: 'kittencal s creamy vanilla milkshake'...     No  376850   \n518  Recipe: 'terrific tuscan vegetable soup   elli...     No  475171   \n519  Recipe: 'bauernfruhstuck' (ID: 422978:123467)\\...     No  422978   \n520  Recipe: 'ethiopian honey yeast bread' (ID: 171...    Yes  171622   \n\n                     replaced     replacement  \n1                      butter       margarine  \n2                      butter     cooking oil  \n3                      butter             oil  \n4                   olive oil      shortening  \n5                   olive oil     cooking oil  \n..                        ...             ...  \n516         vanilla ice cream       egg yolks  \n517         vanilla ice cream            eggs  \n518  low sodium chicken broth         chicken  \n519                  potatoes  cheddar cheese  \n520         all-purpose flour           flour  \n\n[520 rows x 5 columns]",
      "text/html": "<div>\n<style scoped>\n    .dataframe tbody tr th:only-of-type {\n        vertical-align: middle;\n    }\n\n    .dataframe tbody tr th {\n        vertical-align: top;\n    }\n\n    .dataframe thead th {\n        text-align: right;\n    }\n</style>\n<table border=\"1\" class=\"dataframe\">\n  <thead>\n    <tr style=\"text-align: right;\">\n      <th></th>\n      <th>recipe</th>\n      <th>result</th>\n      <th>id</th>\n      <th>replaced</th>\n      <th>replacement</th>\n    </tr>\n  </thead>\n  <tbody>\n    <tr>\n      <th>1</th>\n      <td>Recipe: 'pete s scratch pancakes' (ID: 5170:37...</td>\n      <td>Yes</td>\n      <td>5170</td>\n      <td>butter</td>\n      <td>margarine</td>\n    </tr>\n    <tr>\n      <th>2</th>\n      <td>Recipe: 'pete s scratch pancakes' (ID: 5170:21...</td>\n      <td>Yes</td>\n      <td>5170</td>\n      <td>butter</td>\n      <td>cooking oil</td>\n    </tr>\n    <tr>\n      <th>3</th>\n      <td>Recipe: 'pete s scratch pancakes' (ID: 5170:20...</td>\n      <td>Yes</td>\n      <td>5170</td>\n      <td>butter</td>\n      <td>oil</td>\n    </tr>\n    <tr>\n      <th>4</th>\n      <td>Recipe: 'beth s pizza crust' (ID: 13546:144943...</td>\n      <td>Yes</td>\n      <td>13546</td>\n      <td>olive oil</td>\n      <td>shortening</td>\n    </tr>\n    <tr>\n      <th>5</th>\n      <td>Recipe: 'beth s pizza crust' (ID: 13546:377904...</td>\n      <td>Yes</td>\n      <td>13546</td>\n      <td>olive oil</td>\n      <td>cooking oil</td>\n    </tr>\n    <tr>\n      <th>...</th>\n      <td>...</td>\n      <td>...</td>\n      <td>...</td>\n      <td>...</td>\n      <td>...</td>\n    </tr>\n    <tr>\n      <th>516</th>\n      <td>Recipe: 'kittencal s creamy vanilla milkshake'...</td>\n      <td>No</td>\n      <td>376850</td>\n      <td>vanilla ice cream</td>\n      <td>egg yolks</td>\n    </tr>\n    <tr>\n      <th>517</th>\n      <td>Recipe: 'kittencal s creamy vanilla milkshake'...</td>\n      <td>No</td>\n      <td>376850</td>\n      <td>vanilla ice cream</td>\n      <td>eggs</td>\n    </tr>\n    <tr>\n      <th>518</th>\n      <td>Recipe: 'terrific tuscan vegetable soup   elli...</td>\n      <td>No</td>\n      <td>475171</td>\n      <td>low sodium chicken broth</td>\n      <td>chicken</td>\n    </tr>\n    <tr>\n      <th>519</th>\n      <td>Recipe: 'bauernfruhstuck' (ID: 422978:123467)\\...</td>\n      <td>No</td>\n      <td>422978</td>\n      <td>potatoes</td>\n      <td>cheddar cheese</td>\n    </tr>\n    <tr>\n      <th>520</th>\n      <td>Recipe: 'ethiopian honey yeast bread' (ID: 171...</td>\n      <td>Yes</td>\n      <td>171622</td>\n      <td>all-purpose flour</td>\n      <td>flour</td>\n    </tr>\n  </tbody>\n</table>\n<p>520 rows × 5 columns</p>\n</div>"
     },
     "execution_count": 13,
     "metadata": {},
     "output_type": "execute_result"
    }
   ],
   "source": [
    "survey_df"
   ],
   "metadata": {
    "collapsed": false
   }
  },
  {
   "cell_type": "code",
   "execution_count": 10,
   "outputs": [],
   "source": [
    "survey_df['id'] = survey_df['id'].astype(int)"
   ],
   "metadata": {
    "collapsed": false
   }
  },
  {
   "cell_type": "markdown",
   "source": [
    "The survey returned 243 positive labels and 277 negative labels.\n",
    "The methods used for this can be tested by randomly selecting some replacements instead of using the heuristics that were used. Then, the percentage of yes/no can be compared."
   ],
   "metadata": {
    "collapsed": false
   }
  },
  {
   "cell_type": "code",
   "execution_count": 11,
   "outputs": [
    {
     "data": {
      "text/plain": "No     277\nYes    243\nName: result, dtype: int64"
     },
     "execution_count": 11,
     "metadata": {},
     "output_type": "execute_result"
    }
   ],
   "source": [
    "survey_df.result.value_counts()"
   ],
   "metadata": {
    "collapsed": false
   }
  },
  {
   "cell_type": "code",
   "execution_count": 14,
   "outputs": [],
   "source": [
    "survey_df.to_csv(r'C:\\Users\\01din\\PycharmProjects\\thesis\\data\\survey_results\\survey_results.csv', index=False)"
   ],
   "metadata": {
    "collapsed": false
   }
  }
 ],
 "metadata": {
  "kernelspec": {
   "display_name": "Python 3",
   "language": "python",
   "name": "python3"
  },
  "language_info": {
   "codemirror_mode": {
    "name": "ipython",
    "version": 2
   },
   "file_extension": ".py",
   "mimetype": "text/x-python",
   "name": "python",
   "nbconvert_exporter": "python",
   "pygments_lexer": "ipython2",
   "version": "2.7.6"
  }
 },
 "nbformat": 4,
 "nbformat_minor": 0
}
